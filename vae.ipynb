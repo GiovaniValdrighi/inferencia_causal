{
  "nbformat": 4,
  "nbformat_minor": 0,
  "metadata": {
    "colab": {
      "name": "vae.ipynb",
      "provenance": [],
      "collapsed_sections": [],
      "machine_shape": "hm",
      "include_colab_link": true
    },
    "kernelspec": {
      "name": "python3",
      "display_name": "Python 3"
    },
    "accelerator": "GPU"
  },
  "cells": [
    {
      "cell_type": "markdown",
      "metadata": {
        "id": "view-in-github",
        "colab_type": "text"
      },
      "source": [
        "<a href=\"https://colab.research.google.com/github/GiovaniValdrighi/inferencia_causal/blob/master/vae.ipynb\" target=\"_parent\"><img src=\"https://colab.research.google.com/assets/colab-badge.svg\" alt=\"Open In Colab\"/></a>"
      ]
    },
    {
      "cell_type": "markdown",
      "metadata": {
        "id": "dd2vuD3C7Bd4",
        "colab_type": "text"
      },
      "source": [
        "Estudo de variational autoencoder através do texto: https://towardsdatascience.com/understanding-variational-autoencoders-vaes-f70510919f73\n",
        "\n",
        "Implementação de variational autoencoder com Pyro através do texto: https://pyro.ai/examples/vae.html\n",
        "\n",
        "#Variational Autoencoder\n",
        "\n",
        "De modo simples, um **autoencoder** é um método utilizado para diminuir a dimensão de informação. Utilizando de redes neurais criamos duas, um **encoder** e um **decoder**. Seja nossa informação **X** uma matriz de dimensão **(n m)**, o encoder é uma rede neural responsável por transformar **X** para uma dimensão menor, se tornará o que chamamos de **variável latente**, **Z**. Em seguida, o decoder é responsável por transformar **Z** para as dimensões originais, teremos a matriz **X'**. O aprendizado da rede neural ocorre atráves da otimização da distância entre **X** e **X'**. \n",
        "\n",
        "No entanto, em um autoencoder simples, o espaço latente não é estável, isto é, valores similhares de **Z** não são similares à **X'**. Para isto, utilizamos de um **variational autoencoder**. A diferença é que transformamos **X** em uma distribuição no espaço latente, e não um valor constante. Assim, para recuperarmos com o decoder, utilizamos de uma amostra aleatória da distribuição do espaço latente, e por consequência do método de treinamento, teremos um decoder que leva amostras aleatórias semlehantes para **X'** semelhantes. Por conveniência, a distribuição do espaço latente é uma Gaussiana, sendo assim,o encoder ao receber **X** retorna a média e a variância da distribuição, geramos uma amostra aleatória de uma normal padrão e por fim repassamos a variável latente para o decoder.\n",
        "\n",
        "O nosso objetivo é utilizar o banco de dados Deepmind Dsprites que contém um conjunto de figuras 64x64 com 6 características: cor, forma, escala, orientação, posição no eixo X e posição no eixo Y. Geralmente, este banco de dados é utilizado para a verificação de métodos de \"desembaraço\" (desintanglement), isto é, desejamos avaliar a capacidade das dimensões do espaço latente representarem as características que geraram o banco de dados. Nesta situação, iremos utilizar esse banco de dados para construir uma SCM e realizar perguntas contrafactuais. \n",
        "\n",
        "A primeira etapa é a construção de um variational autoencoder simples utilizando o banco de dados. Para lidar com a distribuição, iremos utilizar da biblioteca Pyro. Possuímos duas redes neurais, o encoder e o decoder.\n",
        "\n",
        "## Encoder\n",
        "Rede neural resposável por receber um vetor **img** 1x4096 dos pixels de uma figura e um vetor **label** categórico 1x114 contendo as características (cor, forma, escala, orientação, pos. X, pos. Y) da figura. Os dois vetores são concatenados em um vetor **data** 1x4210. Realizamos uma transformação linear que vai do espaço 1x4210 para o espaço 1x1000, criando a variável **hidden**, em seguida, transformamos do espaço 1x1000 para o espaço latente de dimensão 1x200. Geramos duas variáveis latentes utilizando de duas transformações lineares: a **média** (vetor 1x200) e a **variância** (vetor 1x200). \n",
        "\n",
        "##Decoder\n",
        "Rede neural responsável por receber um vetor **latente** 1x200 e um vetor **label** categórico 1x114. Os dois valores são concatenados em um **data** 1x314. Em seguida utilizamos uma transformação linear para o espaço 1x1000 gerando a variável **hidden**. A partir dessa variável, iremos realizar uma transformação linear para o espaço original 1x4210 obtendo a variável **img'**.\n",
        "\n",
        "##Inferência variancional\n",
        "O método de inferência que iremos utilizar para as redes neurais utiliza do SVI do Pyro. Para o SVI devemos definir 2 funções estocásticas, o modelo e o guide. O modelo é uma função estocástica de variáveis latentes **z** retornando a imagem **x**. O guide é uma função estocástica da imagem **x** para as variáveis latents **z**.\n",
        "\n",
        "##Modelo\n",
        "O modelo é uma função estocástica que recebe a **imagem** 256x4096 e o **label** 256x114, 256 é a dimensão do nosso batch, utilizando o pyro.plate declaramos independência na dimensão do batch. Criamos um vetor média 256x200 e um vetor de variância 256x200 da normal padrão, em seguida geramos uma amostra da variável aleatória **latent** (definida com o pyro), e geramos uma variável aleatória para o label (será explicado depois), e passamos as duas amostras para decoder, que retornará uma matriz 256x4210 sendo a nossa imagem. Por fim, definimos a variável aleatória **loc**, que segue uma distribuição bernoulli com parâmetro igual a **loc** e valor observado igual a **imagem**. \n",
        "\n",
        "##Guide\n",
        "O guide é uma função estocástica que recebe a **imagem** 256x4096 e o **label** 256x114, 256 é a dimensão do nosso batch, utilizando o pyro.plate declaramos independência na dimensão do batch. Geramos uma variável aleatória para o label e passamos para o encoder a imagem e variável aleatória label, obtemos a média e a variância da normal e geramos uma amostra da variável aleatória **latent**."
      ]
    },
    {
      "cell_type": "code",
      "metadata": {
        "id": "fMenvPXS9mEE",
        "colab_type": "code",
        "outputId": "27ed2c07-a3b0-49f7-e756-66e2f29f3270",
        "colab": {
          "base_uri": "https://localhost:8080/",
          "height": 128
        }
      },
      "source": [
        "from google.colab import drive\n",
        "drive.mount('/content/gdrive')"
      ],
      "execution_count": 1,
      "outputs": [
        {
          "output_type": "stream",
          "text": [
            "Go to this URL in a browser: https://accounts.google.com/o/oauth2/auth?client_id=947318989803-6bn6qk8qdgf4n4g3pfee6491hc0brc4i.apps.googleusercontent.com&redirect_uri=urn%3aietf%3awg%3aoauth%3a2.0%3aoob&response_type=code&scope=email%20https%3a%2f%2fwww.googleapis.com%2fauth%2fdocs.test%20https%3a%2f%2fwww.googleapis.com%2fauth%2fdrive%20https%3a%2f%2fwww.googleapis.com%2fauth%2fdrive.photos.readonly%20https%3a%2f%2fwww.googleapis.com%2fauth%2fpeopleapi.readonly\n",
            "\n",
            "Enter your authorization code:\n",
            "··········\n",
            "Mounted at /content/gdrive\n"
          ],
          "name": "stdout"
        }
      ]
    },
    {
      "cell_type": "code",
      "metadata": {
        "id": "l2zs7JHz9ozQ",
        "colab_type": "code",
        "colab": {}
      },
      "source": [
        "from pydrive.auth import GoogleAuth\n",
        "from pydrive.drive import GoogleDrive\n",
        "from google.colab import auth\n",
        "from oauth2client.client import GoogleCredentials\n",
        "\n",
        "auth.authenticate_user()\n",
        "gauth = GoogleAuth()\n",
        "gauth.credentials = GoogleCredentials.get_application_default()\n",
        "drive = GoogleDrive(gauth)"
      ],
      "execution_count": 0,
      "outputs": []
    },
    {
      "cell_type": "code",
      "metadata": {
        "id": "R3NFYw1nGK5v",
        "colab_type": "code",
        "outputId": "ef680d4d-aace-4992-8ebd-8664b377f1a3",
        "colab": {
          "base_uri": "https://localhost:8080/",
          "height": 635
        }
      },
      "source": [
        "!pip3 install -q http://download.pytorch.org/whl/{accelerator}/torch-0.4.0-{platform}-linux_x86_64.whl\n",
        "!pip3 install torchvision\n",
        "!pip3 install pyro-ppl"
      ],
      "execution_count": 3,
      "outputs": [
        {
          "output_type": "stream",
          "text": [
            "\u001b[31mERROR: torch-0.4.0-{platform}-linux_x86_64.whl is not a valid wheel filename.\u001b[0m\n",
            "Requirement already satisfied: torchvision in /usr/local/lib/python3.6/dist-packages (0.4.2)\n",
            "Requirement already satisfied: numpy in /usr/local/lib/python3.6/dist-packages (from torchvision) (1.17.5)\n",
            "Requirement already satisfied: torch==1.3.1 in /usr/local/lib/python3.6/dist-packages (from torchvision) (1.3.1)\n",
            "Requirement already satisfied: pillow>=4.1.1 in /usr/local/lib/python3.6/dist-packages (from torchvision) (6.2.2)\n",
            "Requirement already satisfied: six in /usr/local/lib/python3.6/dist-packages (from torchvision) (1.12.0)\n",
            "Collecting pyro-ppl\n",
            "\u001b[?25l  Downloading https://files.pythonhosted.org/packages/92/7a/4dc4d39d6db1aae0825a2a2ab60178fc4afb92efd9669be02715d3a16734/pyro_ppl-1.2.1-py3-none-any.whl (486kB)\n",
            "\u001b[K     |████████████████████████████████| 491kB 7.0MB/s \n",
            "\u001b[?25hCollecting pyro-api>=0.1.1\n",
            "  Downloading https://files.pythonhosted.org/packages/c2/bc/6cdbd1929e32fff62a33592633c2cc0393c7f7739131ccc9c9c4e28ac8dd/pyro_api-0.1.1-py3-none-any.whl\n",
            "Requirement already satisfied: opt-einsum>=2.3.2 in /usr/local/lib/python3.6/dist-packages (from pyro-ppl) (3.1.0)\n",
            "Collecting torch>=1.4.0\n",
            "\u001b[?25l  Downloading https://files.pythonhosted.org/packages/24/19/4804aea17cd136f1705a5e98a00618cb8f6ccc375ad8bfa437408e09d058/torch-1.4.0-cp36-cp36m-manylinux1_x86_64.whl (753.4MB)\n",
            "\u001b[K     |████████████████████████████████| 753.4MB 22kB/s \n",
            "\u001b[?25hRequirement already satisfied: numpy>=1.7 in /usr/local/lib/python3.6/dist-packages (from pyro-ppl) (1.17.5)\n",
            "Collecting tqdm>=4.36\n",
            "\u001b[?25l  Downloading https://files.pythonhosted.org/packages/cd/80/5bb262050dd2f30f8819626b7c92339708fe2ed7bd5554c8193b4487b367/tqdm-4.42.1-py2.py3-none-any.whl (59kB)\n",
            "\u001b[K     |████████████████████████████████| 61kB 26kB/s \n",
            "\u001b[31mERROR: torchvision 0.4.2 has requirement torch==1.3.1, but you'll have torch 1.4.0 which is incompatible.\u001b[0m\n",
            "\u001b[?25hInstalling collected packages: pyro-api, torch, tqdm, pyro-ppl\n",
            "  Found existing installation: torch 1.3.1\n",
            "    Uninstalling torch-1.3.1:\n",
            "      Successfully uninstalled torch-1.3.1\n",
            "  Found existing installation: tqdm 4.28.1\n",
            "    Uninstalling tqdm-4.28.1:\n",
            "      Successfully uninstalled tqdm-4.28.1\n",
            "Successfully installed pyro-api-0.1.1 pyro-ppl-1.2.1 torch-1.4.0 tqdm-4.42.1\n"
          ],
          "name": "stdout"
        },
        {
          "output_type": "display_data",
          "data": {
            "application/vnd.colab-display-data+json": {
              "pip_warning": {
                "packages": [
                  "tqdm"
                ]
              }
            }
          },
          "metadata": {
            "tags": []
          }
        }
      ]
    },
    {
      "cell_type": "code",
      "metadata": {
        "id": "BK8JOHlXF0kF",
        "colab_type": "code",
        "colab": {}
      },
      "source": [
        "import pandas as pd\n",
        "import numpy as np\n",
        "import matplotlib.pyplot as plt\n",
        "import pyro\n",
        "import pyro.distributions\n",
        "import pyro.infer\n",
        "import pyro.optim\n",
        "import torchvision.transforms as transforms\n",
        "import torch\n",
        "import torch.nn as nn\n",
        "import networkx as nx\n",
        "from tqdm import tqdm\n",
        "import matplotlib.pyplot as plt"
      ],
      "execution_count": 0,
      "outputs": []
    },
    {
      "cell_type": "markdown",
      "metadata": {
        "id": "icsHBreVG7NK",
        "colab_type": "text"
      },
      "source": [
        "As propriedades latentes das imagens são: shape, scale, size, position X e position Y. Vou criar um DAG para inserir relações causais entre as variáveis e em seguida criar um SCM para este DAG."
      ]
    },
    {
      "cell_type": "code",
      "metadata": {
        "id": "kRuT7fPdHN9A",
        "colab_type": "code",
        "outputId": "3be8c471-44e1-4c8e-fdf6-e9d61973d50c",
        "colab": {
          "base_uri": "https://localhost:8080/",
          "height": 35
        }
      },
      "source": [
        "dataset_zip = np.load('/content/gdrive/My Drive/autoencoder/dsprites_ndarray_co1sh3sc6or40x32y32_64x64.npz', allow_pickle = True, encoding = 'bytes')\n",
        "print('Keys in the dataset:', dataset_zip.files)\n",
        "imgs = dataset_zip['imgs']\n",
        "latents_values = dataset_zip['latents_values']\n",
        "latents_classes = dataset_zip['latents_classes']\n",
        "latents_sizes = dataset_zip['metadata'][()][b'latents_sizes']\n",
        "latents_names = dataset_zip['metadata'][()][b'latents_names']"
      ],
      "execution_count": 5,
      "outputs": [
        {
          "output_type": "stream",
          "text": [
            "Keys in the dataset: ['metadata', 'imgs', 'latents_classes', 'latents_values']\n"
          ],
          "name": "stdout"
        }
      ]
    },
    {
      "cell_type": "code",
      "metadata": {
        "id": "3CBn8GcJDtk8",
        "colab_type": "code",
        "colab": {}
      },
      "source": [
        "#function that pick images from the dataset and return the batchs\n",
        "#with test and training data\n",
        "def setup_data_loader(images, classes, batch_size = 128, use_CUDA = False):\n",
        "  #create the dataframes for training and test from the dataset_zip['imgs]\n",
        "  index = np.random.permutation(imgs.shape[0])\n",
        "  images = images[index].astype(np.float32)\n",
        "  classes = classes[index].astype(np.float32)\n",
        "  train_df = torch.utils.data.TensorDataset(torch.from_numpy(images[100000:].reshape(-1, 4096)), torch.from_numpy(classes[100000:]))\n",
        "  test_df = torch.utils.data.TensorDataset(torch.from_numpy(images[:100000].reshape(-1, 4096)), torch.from_numpy(classes[:100000]))\n",
        "  #creates a iterable dataset to train and test, each iteration have batch_size rows of data\n",
        "  kwargs = {'num_workers': 1, 'pin_memory': use_CUDA}\n",
        "  train_loader = torch.utils.data.DataLoader(train_df, batch_size, shuffle = False, **kwargs)\n",
        "  test_loader = torch.utils.data.DataLoader(test_df, batch_size, shuffle = False, **kwargs)\n",
        "  return train_loader, test_loader\n",
        "\n",
        "class Encoder(nn.Module):\n",
        "  '''This class receive the images data as vectors 1x4096\n",
        "  and the labels of the figure in the image as a 1x114 vector (dummy variables) \n",
        "  and should encode it to the latent space as mean and variance of\n",
        "  a normal distribution\n",
        "\n",
        "  :param img_dim: dimension of image vector\n",
        "  :param label_dim: dimension of label vector\n",
        "  :param latent_dim: dimension of latent space, output\n",
        "  '''\n",
        "  def __init__(self, img_dim = 4096, label_dim = 114, latent_dim = 200):\n",
        "    super(Encoder, self).__init__()\n",
        "    self.img_dim = img_dim\n",
        "    self.label_dim = label_dim\n",
        "    self.latent_dim = latent_dim \n",
        "    #linear transformations used\n",
        "    self.fc1 = nn.Linear(img_dim + label_dim, 1000)\n",
        "    self.fc21 = nn.Linear(1000, latent_dim)\n",
        "    self.fc22 = nn.Linear(1000, latent_dim)\n",
        "    #non-linear transformation used\n",
        "    self.softplus = nn.Softplus()\n",
        "\n",
        "  def forward(self, img, label):\n",
        "    #use the transformation to get the hidden variable\n",
        "    data = torch.cat((img, label), -1)\n",
        "    hidden = self.softplus(self.fc1(data))\n",
        "    #use the transformation to get the mean and the variance\n",
        "    mean_z = self.fc21(hidden)\n",
        "    cov_z = torch.exp(self.fc22(hidden))\n",
        "    return mean_z, cov_z\n",
        "\n",
        "\n",
        "class Decoder(nn.Module):\n",
        "  '''This class receive a sample of the latent variable\n",
        "  and return the image as a data vector 1x4096 and\n",
        "  the latent classes as a vector 1x5\n",
        "\n",
        "  :param img_dim: dimension of image vector\n",
        "  :param label_dim: dimension of label vector\n",
        "  :param latent_dim: dimension of latent space, output\n",
        "  '''\n",
        "  def __init__(self, img_dim = 4096, label_dim = 114, latent_dim = 200):\n",
        "    super(Decoder, self).__init__()\n",
        "    self.img_dim = img_dim\n",
        "    self.label_dim = label_dim\n",
        "    self.latent_dim = latent_dim\n",
        "    #linear transformations used\n",
        "    self.fc1 = nn.Linear(latent_dim+label_dim, 1000)\n",
        "    self.fc2 = nn.Linear(1000, img_dim)\n",
        "    #non-linear transformations used\n",
        "    self.softplus = nn.Softplus()\n",
        "    self.sigmoid = nn.Sigmoid()\n",
        "\n",
        "  def forward(self, latent, label):\n",
        "    #use the transformation to get the hidden variable\n",
        "    data = torch.cat((latent, label), -1)\n",
        "    hidden = self.softplus(self.fc1(data))\n",
        "    #use the transformation to get the image\n",
        "    image = self.sigmoid(self.fc2(hidden))\n",
        "    return image\n",
        "\n",
        "class VAE(nn.Module):\n",
        "  '''\n",
        "  This class define the p(z|x) and the p(x|z)\n",
        "  and use the scm model to call the encoder and\n",
        "  decoder\n",
        "\n",
        "  \n",
        "  :param img_dim: dimension of image vector\n",
        "  :param label_dim: dimension of label vector\n",
        "  :param latent_dim: dimension of latent space, output\n",
        "  '''\n",
        "  def __init__(self, latents_sizes, latents_names, img_dim = 4096, label_dim = 114, latent_dim = 200, use_CUDA = False):\n",
        "    super(VAE, self).__init__()\n",
        "    #creating networks\n",
        "    self.encoder = Encoder(img_dim, label_dim, latent_dim)\n",
        "    self.decoder = Decoder(img_dim, label_dim, latent_dim)\n",
        "    self.img_dim = img_dim\n",
        "    self.label_dim = label_dim\n",
        "    self.latent_dim = latent_dim\n",
        "    self.latents_sizes = latents_sizes\n",
        "    self.latents_names = latents_names\n",
        "    if use_CUDA:\n",
        "      print('Ativei o self.cuda()')\n",
        "      self.cuda()\n",
        "    self.use_CUDA = use_CUDA\n",
        "  \n",
        "  def label_variable(self, label):\n",
        "    new_label = []\n",
        "    options = {'device': label.device, 'dtype': label.dtype}\n",
        "    for i, length in enumerate(self.latents_sizes):\n",
        "      prior = torch.ones(label.shape[0], length, **options) / (1.0 *length)\n",
        "      new_label.append(pyro.sample(\"label_\" + str(self.latents_names[i]), \n",
        "                      pyro.distributions.OneHotCategorical(prior), \n",
        "                      obs = torch.nn.functional.one_hot(torch.tensor(label[:, i], dtype = torch.int64), int(length))))\n",
        "    new_label = torch.cat(new_label, -1)\n",
        "    return new_label.to(torch.float32).to(label.device)\n",
        "\n",
        "  def model(self, img, label):\n",
        "    '''\n",
        "    Function in the VAE that defines\n",
        "    p(x|z)\n",
        "    '''\n",
        "    pyro.module(\"decoder\", self.decoder)\n",
        "    options = {'device': img.device, 'dtype': img.dtype}\n",
        "    with pyro.plate(\"data\", img.shape[0]):\n",
        "      z_mean = torch.zeros(img.shape[0], self.latent_dim, **options)\n",
        "      z_variance = torch.ones(img.shape[0], self.latent_dim, **options)\n",
        "      z_sample = pyro.sample(\"latent\", pyro.distributions.Normal(z_mean, z_variance).to_event(1))\n",
        "      image = self.decoder.forward(z_sample, self.label_variable(label))\n",
        "      pyro.sample(\"obs\", pyro.distributions.Bernoulli(image).to_event(1), obs = img)\n",
        "\n",
        "\n",
        "  def guide(self, img, label):\n",
        "    '''\n",
        "    Function that is the guide to the model\n",
        "    shape, scale, orientation, posX, posY = g(img)\n",
        "    the p(z|x) use on the encoder\n",
        "    '''\n",
        "    pyro.module(\"encoder\", self.encoder)\n",
        "    with pyro.plate(\"data\", img.shape[0]):\n",
        "      z_mean, z_variance = self.encoder.forward(img, self.label_variable(label))\n",
        "      pyro.sample(\"latent\", pyro.distributions.Normal(z_mean, z_variance).to_event(1))\n"
      ],
      "execution_count": 0,
      "outputs": []
    },
    {
      "cell_type": "code",
      "metadata": {
        "id": "65UEhCnX930C",
        "colab_type": "code",
        "colab": {}
      },
      "source": [
        "pyro.enable_validation(True)\n",
        "pyro.clear_param_store()\n",
        "#the training routine\n",
        "use_CUDA = False\n",
        "train_loader, test_loader = setup_data_loader(imgs, latents_classes, use_CUDA = use_CUDA)\n",
        "vae = VAE(latents_sizes, latents_names, use_CUDA = use_CUDA)"
      ],
      "execution_count": 0,
      "outputs": []
    },
    {
      "cell_type": "code",
      "metadata": {
        "id": "pyMu-7v499KZ",
        "colab_type": "code",
        "outputId": "2a7246a2-eafd-41d8-a58d-2942f980bced",
        "colab": {
          "base_uri": "https://localhost:8080/",
          "height": 35
        }
      },
      "source": [
        "vae.load_state_dict(torch.load('/content/gdrive/My Drive/trained_movel_epoch_24.save'))"
      ],
      "execution_count": 8,
      "outputs": [
        {
          "output_type": "execute_result",
          "data": {
            "text/plain": [
              "<All keys matched successfully>"
            ]
          },
          "metadata": {
            "tags": []
          },
          "execution_count": 8
        }
      ]
    },
    {
      "cell_type": "markdown",
      "metadata": {
        "id": "jpwa5Qx2fyLo",
        "colab_type": "text"
      },
      "source": [
        "## Código abaixo deve ser rodado apenas em caso de treinamento do variational autoencoder."
      ]
    },
    {
      "cell_type": "code",
      "metadata": {
        "id": "vu8kGO5K-Wyq",
        "colab_type": "code",
        "colab": {}
      },
      "source": [
        "\n",
        "#optimizer\n",
        "optimizer = pyro.optim.Adam({\"lr\" : 1.0e-3})\n",
        "\n",
        "#inference algorithm\n",
        "elbo = pyro.infer.Trace_ELBO()\n",
        "svi = pyro.infer.SVI(vae.model, vae.guide, optimizer, elbo)\n",
        "\n",
        "train_elbo = []\n",
        "test_elbo = []\n",
        "num_epochs = 70\n",
        "test_freq = 8\n",
        "for epoch in tqdm(range(num_epochs)):\n",
        "  epoch_loss = 0.\n",
        "  for (img, label) in train_loader:\n",
        "    if use_CUDA:\n",
        "      print('check')\n",
        "      img = img.cuda()\n",
        "      label = label.to(img.device)\n",
        "    epoch_loss += svi.step(img, label)\n",
        "  total_epoch_loss_train = epoch_loss/len(train_loader)\n",
        "  train_elbo.append(total_epoch_loss_train)\n",
        "  print(\"epoch: \" + str(epoch) + \" average training loss: \" + str(epoch_loss))\n",
        "\n",
        "  if epoch % test_freq == 0:\n",
        "    test_loss = 0\n",
        "    for (img, label) in test_loader:\n",
        "      if use_CUDA:\n",
        "        print('check2')\n",
        "        img = img.cuda()\n",
        "        label = label.to(img.device)\n",
        "      test_loss += svi.evaluate_loss(img, label)\n",
        "    total_epoch_loss_test  = epoch_loss/len(test_loader)\n",
        "    test_elbo.append(total_epoch_loss_test)\n",
        "    torch.save(vae.state_dict(), '/content/gdrive/My Drive/trained_movel_epoch_'+ str(epoch) + '.save')"
      ],
      "execution_count": 0,
      "outputs": []
    },
    {
      "cell_type": "code",
      "metadata": {
        "id": "4z6pxElJf5Dq",
        "colab_type": "code",
        "colab": {}
      },
      "source": [
        "def dummy_from_label(label):\n",
        "  sizes = [1, 3, 6, 40, 32, 32]\n",
        "  dummy = []\n",
        "  for i, length in enumerate(sizes):\n",
        "    dummy.append(torch.nn.functional.one_hot(torch.tensor(label[:, i], dtype = torch.int64), int(length)))\n",
        "  return torch.cat(dummy, -1).to(torch.float32)\n",
        "\n",
        "def run_img_vae(img, label, num = 1):\n",
        "  label = label.reshape(1, -6)\n",
        "  dummy_label = dummy_from_label(label)\n",
        "  img = torch.tensor(img.reshape(-1, 4096)).to(torch.float32)\n",
        "  mean, var = vae.encoder.forward(img, dummy_label)\n",
        "\n",
        "  fig = plt.figure(figsize = (4, num*5))\n",
        "  plots = []\n",
        "  plots.append(plt.subplot(num+1, 1, 1))\n",
        "  plots[0].set_title('Original image')\n",
        "  plt.imshow(img.reshape(64, 64))\n",
        "  \n",
        "  for i in range(1, num):\n",
        "    z_sample = pyro.distributions.Normal(mean, var).sample()\n",
        "    vae_img = vae.decoder.forward(z_sample, dummy_label)\n",
        "    plots.append(plt.subplot(num+1, 1, i+1))\n",
        "    plots[-1].set_title(str(i) +' - sample of latent space')\n",
        "    plt.imshow(vae_img.detach().numpy().reshape(64, 64))\n",
        "  plt.show()\n",
        "\n",
        "def change_attribute(img, label, attribute = 1):\n",
        "  print('Attribute changed was ' + str(latents_names[attribute]))\n",
        "  label = label.reshape(1, -6)\n",
        "  new_label = label2 = np.copy(label)\n",
        "  k = np.random.choice(list(range(latents_sizes[attribute]))) \n",
        "  new_label[0, attribute] = k if new_label[0, attribute] != k else k + 1.0\n",
        "  new_label[0, attribute] = new_label[0, attribute] if new_label[0, attribute] <= latents_sizes[attribute] else new_label[0, attribute] - 2.0 \n",
        "  dummy_label = dummy_from_label(label)\n",
        "  new_dummy = dummy_from_label(new_label)\n",
        "  img = torch.tensor(img.reshape(-1, 4096)).to(torch.float32)\n",
        "  mean, var = vae.encoder.forward(img, dummy_label)\n",
        "  \n",
        "  fig = plt.figure(figsize = (4, 15))\n",
        "  plots = []\n",
        "  plots.append(plt.subplot(3, 1, 1))\n",
        "  plots[0].set_title('Original image')\n",
        "  plt.imshow(img.reshape(64, 64))\n",
        "  z_sample = pyro.distributions.Normal(mean, var).sample()\n",
        "  vae_img = vae.decoder.forward(z_sample, dummy_label)\n",
        "  plots.append(plt.subplot(3, 1, 2))\n",
        "  plots[1].set_title('Sample with original attribute')\n",
        "  plt.imshow(vae_img.detach().numpy().reshape(64, 64))\n",
        "  z_sample = pyro.distributions.Normal(mean, var).sample()\n",
        "  vae_img = vae.decoder.forward(z_sample, new_dummy)\n",
        "  plots.append(plt.subplot(3, 1, 3))\n",
        "  plots[2].set_title('Sample with changed attribute')\n",
        "  plt.imshow(vae_img.detach().numpy().reshape(64, 64))\n",
        "  plt.show()\n",
        "\n",
        "\n",
        "def ind_from_att(color, shape, scale, orientation, posX, posY):\n",
        "  return (color - 1)*3*6*40*32*32 + (shape - 1)*6*40*32*32 + (scale -1)*40*32*32 + (orientation - 1)*32*32 + (posX - 1)*32 + posY "
      ],
      "execution_count": 0,
      "outputs": []
    },
    {
      "cell_type": "code",
      "metadata": {
        "id": "SSP5YIV7hwpM",
        "colab_type": "code",
        "outputId": "e01cffc7-9a8c-4141-f7ae-e6a8b2662055",
        "colab": {
          "base_uri": "https://localhost:8080/",
          "height": 667
        }
      },
      "source": [
        "run_img_vae(imgs[0], latents_classes[0], num = 3)"
      ],
      "execution_count": 10,
      "outputs": [
        {
          "output_type": "display_data",
          "data": {
            "image/png": "[encoded data removed]",
            "text/plain": [
              "<Figure size 288x1080 with 3 Axes>"
            ]
          },
          "metadata": {
            "tags": []
          }
        }
      ]
    },
    {
      "cell_type": "code",
      "metadata": {
        "id": "rljTmsUXkMqC",
        "colab_type": "code",
        "outputId": "dc6dc626-4709-41f9-a2a1-6d013cee1ef6",
        "colab": {
          "base_uri": "https://localhost:8080/",
          "height": 667
        }
      },
      "source": [
        "ind = np.random.randint(imgs.shape[0])\n",
        "run_img_vae(imgs[ind], latents_classes[ind], num = 3)"
      ],
      "execution_count": 11,
      "outputs": [
        {
          "output_type": "display_data",
          "data": {
            "image/png": "[encoded data removed]",
            "text/plain": [
              "<Figure size 288x1080 with 3 Axes>"
            ]
          },
          "metadata": {
            "tags": []
          }
        }
      ]
    },
    {
      "cell_type": "code",
      "metadata": {
        "id": "43QhoVvqiFDi",
        "colab_type": "code",
        "outputId": "193a879d-e35b-4d57-87a9-ef9be87493df",
        "colab": {
          "base_uri": "https://localhost:8080/",
          "height": 667
        }
      },
      "source": [
        "run_img_vae(imgs[ind_from_att(1, 2, 5, 15, 20, 20)], latents_classes[ind_from_att(1, 2, 5, 15, 20, 20)], num = 3)"
      ],
      "execution_count": 12,
      "outputs": [
        {
          "output_type": "display_data",
          "data": {
            "image/png": "[encoded data removed]",
            "text/plain": [
              "<Figure size 288x1080 with 3 Axes>"
            ]
          },
          "metadata": {
            "tags": []
          }
        }
      ]
    },
    {
      "cell_type": "code",
      "metadata": {
        "id": "zM3cyZsTlZ8s",
        "colab_type": "code",
        "outputId": "e45e430f-8688-4461-a034-daf7634e6443",
        "colab": {
          "base_uri": "https://localhost:8080/",
          "height": 881
        }
      },
      "source": [
        "change_attribute(imgs[ind_from_att(1, 2, 5, 15, 20, 20)], latents_classes[ind_from_att(1, 2, 5, 15, 20, 20)])"
      ],
      "execution_count": 13,
      "outputs": [
        {
          "output_type": "stream",
          "text": [
            "Attribute changed was b'shape'\n"
          ],
          "name": "stdout"
        },
        {
          "output_type": "display_data",
          "data": {
            "image/png": "[encoded data removed]",
            "text/plain": [
              "<Figure size 288x1080 with 3 Axes>"
            ]
          },
          "metadata": {
            "tags": []
          }
        }
      ]
    },
    {
      "cell_type": "code",
      "metadata": {
        "id": "GnxAh1zWIE8u",
        "colab_type": "code",
        "outputId": "bdf5e6b9-d854-47bf-b9f1-70dc53cbfdd7",
        "colab": {
          "base_uri": "https://localhost:8080/",
          "height": 881
        }
      },
      "source": [
        "change_attribute(imgs[ind_from_att(1, 3, 5, 15, 20, 20)], latents_classes[ind_from_att(1, 3, 5, 15, 20, 20)], attribute = 3)"
      ],
      "execution_count": 14,
      "outputs": [
        {
          "output_type": "stream",
          "text": [
            "Attribute changed was b'orientation'\n"
          ],
          "name": "stdout"
        },
        {
          "output_type": "display_data",
          "data": {
            "image/png": "[encoded data removed]",
            "text/plain": [
              "<Figure size 288x1080 with 3 Axes>"
            ]
          },
          "metadata": {
            "tags": []
          }
        }
      ]
    },
    {
      "cell_type": "markdown",
      "metadata": {
        "id": "beriXjlgJteX",
        "colab_type": "text"
      },
      "source": [
        "## Model\n",
        "The model is the generative process of the images. I invented a causal story that relates the variables: shape, scale, orientation, pos X, pos Y, image.\n",
        "Every variable has a noise, that will be uniform and is a function of other variables, the variables that cause it. The image is a function of the variables, they are the cause, and that function will be represented by our decoder, where it generates the image from the latent sample and the labels.\n",
        "\n",
        "__Noises:__ Each noise was choose to be used according to the relation of the variable. They are:\n",
        "- N_color ~ OneHotCategorial(1) (Color is always [1.0])\n",
        "- N_shape ~ OneHotCategorial([0.3, 0.4, 0.3]) (in order, probs. of shape, ellipse and heart) \n",
        "\n",
        "The following noises, scale, orientation and pos. X are uniform variables to recreate other distributions.\n",
        "- N_scale ~ U[0,1] \n",
        "- N_orien ~ U[0,1] \n",
        "- N_posX ~ U[0,1] \n",
        "- N_posY ~ U[0,1]\n",
        "- N_latent ~ U[0,1] dim 200\n",
        "- N_img ~ U[0,1] dim 4096\n",
        "\n",
        "__Functions__: Now we have to set functions for each propertie variable from the noise and other variables. We will use a normal distribution with a low variance to aproximate a Delta Dirac distribution. Our properties variables are:\n",
        "- f_color : it's equal to the color noise (always [1.0]).\n",
        "- f_shape : it's equal to the shape noise.  \n",
        "- f_scale : for each value of the shape we set a OneHotCategorical, if the shape is a square the biggest probability is that the scale is bigger (probs. [.1, .1, .1, .2, .2, 3]), if the shape is a ellipse, all scales have the same probability, if the shape is a heart, the biggest probability is that the scale is smaller (probs [.3, .2, .2, .1, .1, .1]).\n",
        "- f_orien : for each value of the shape we set a OneHotCategorical,\n",
        "if the shape is a square the probability are the same for all 40 different orientations, if the shape is a ellipse or a heart, the probability is bigger for bigger angles.\n",
        "- f_posX : for each value of the shape and the scale we set a OneHotCategorical, if the shape is a square the probability is the same for all 32 values of pos. X, if the shape is a ellipse or a heart, the bigger the value of the scale, the lowest is the limit of the values of posX that has probability bigger than 0.\n",
        "- f_posY :  the value of the posY is the opposite of the value of posX, if posX is equal to k, posY is equal to 32 - k."
      ]
    },
    {
      "cell_type": "code",
      "metadata": {
        "id": "aQn3W2iXdfGN",
        "colab_type": "code",
        "outputId": "abcb4d10-86b1-46ac-df62-5485db8fbf78",
        "colab": {
          "base_uri": "https://localhost:8080/",
          "height": 832
        }
      },
      "source": [
        "class SCM():\n",
        "  def __init__(self, vae):\n",
        "    self.vae = vae\n",
        "    #self.mu = mu\n",
        "    #self.sigma = sigma\n",
        "    self.init_noise = { 'color' : pyro.distributions.OneHotCategorical(torch.tensor([1.])),\n",
        "                  'shape' : pyro.distributions.OneHotCategorical(torch.tensor([0.3, 0.4, 0.3])),\n",
        "                  'scale' : pyro.distributions.Uniform(torch.tensor([0.]), torch.tensor([1.])),\n",
        "                  'orien' : pyro.distributions.Uniform(torch.tensor([0.]), torch.tensor([1.])),\n",
        "                  'posX' : pyro.distributions.Uniform(torch.tensor([0.]), torch.tensor([1.])),\n",
        "                  'posY' :  pyro.distributions.Uniform(torch.tensor([0.]), torch.tensor([1.])),\n",
        "                  'latent' : pyro.distributions.Uniform(torch.zeros(200), torch.ones(200)),\n",
        "                  'img' : pyro.distributions.Uniform(torch.zeros(4096), torch.ones(4096))}\n",
        "    \n",
        "    #functions for the model\n",
        "    def f_color(N_color):\n",
        "      return N_color\n",
        "\n",
        "    def f_shape(N_shape):\n",
        "      return N_shape\n",
        "\n",
        "    def f_scale(shape, N_scale):\n",
        "      _, v_shape = shape.max(0)\n",
        "      v_shape = int(v_shape)\n",
        "      probs = {0 : [.1, .2, .3, .5, .7, 1],\n",
        "              1: [1/6, 2/6, 3/6, 4/6, 5/6, 1],\n",
        "              2 :[.3, .5, .7, .8, .9, 1]}\n",
        "      if N_scale <= probs[v_shape][0]:\n",
        "        return torch.tensor([1., 0., 0., 0., 0., 0.])\n",
        "      for i in range(len(probs[v_shape]) - 1):\n",
        "        if probs[v_shape][i] <= N_scale <= probs[v_shape][i+1]:\n",
        "          return torch.nn.functional.one_hot(torch.tensor([i+1]), 6).to(torch.float32).reshape([6])\n",
        "\n",
        "    def f_orien(shape, N_orien):\n",
        "      _, v_shape = shape.max(0)\n",
        "      v_shape = int(v_shape)\n",
        "      probs = {0: [0.025*i for i in range(1,41)],\n",
        "              1: [0.000625*i**2 for i in range(1, 41)],\n",
        "              2: [0.000625*i**2 for i in range(1, 41)]}\n",
        "      if N_orien <= probs[v_shape][0]:\n",
        "        return torch.nn.functional.one_hot(torch.tensor([0]), 40).to(torch.float32).reshape([40])\n",
        "      for i in range(len(probs[v_shape]) - 1):\n",
        "        if probs[v_shape][i] <= N_orien <= probs[v_shape][i+1]:\n",
        "          return torch.nn.functional.one_hot(torch.tensor([i+1]), 40).to(torch.float32).reshape([40])\n",
        "      \n",
        "    def f_posX(shape, scale, N_posX):\n",
        "      _, v_shape = shape.max(0)\n",
        "      _, v_scale = scale.max(0)\n",
        "      v_shape = int(v_shape)\n",
        "      v_scale = int(v_scale) + 1\n",
        "      probs = {0: [0.0625*i for i in range(1,33)],\n",
        "              1: [v_scale*i/32 for i in range(1,33)],\n",
        "              2: [v_scale*i/32 for i in range(1,33)]}\n",
        "      if N_posX <= probs[v_shape][0]:\n",
        "        return torch.nn.functional.one_hot(torch.tensor([0]), 32).to(torch.float32).reshape([32])\n",
        "      for i in range(len(probs[v_shape]) - 1):\n",
        "        if probs[v_shape][i] <= N_posX <= probs[v_shape][i+1]:\n",
        "          return torch.nn.functional.one_hot(torch.tensor([i+1]), 32).to(torch.float32).reshape([32])       \n",
        "\n",
        "    def f_posY(posX, N_posY):\n",
        "      _, v_posX = posX.max(0)\n",
        "      v_posX = int(v_posX)\n",
        "      return torch.nn.functional.one_hot(torch.tensor([31 - v_posX]), 32).to(torch.float32).reshape([32])\n",
        "\n",
        "    def f_latent(N_latent, ind, label):\n",
        "      mu, sigma = vae.encoder.forward(torch.tensor(imgs[ind]).reshape(4096).to(torch.float32), label)\n",
        "      return N_latent * sigma + mu\n",
        "\n",
        "    def f_image(N_img, latent, label):\n",
        "      return vae.decoder.forward(latent, label)\n",
        "\n",
        "    #the model\n",
        "    def model(noise = self.init_noise):\n",
        "\n",
        "      #Noise variables\n",
        "      N_color = pyro.sample('N_color', noise['color'])\n",
        "      N_shape = pyro.sample('N_shape', noise['shape'])\n",
        "      N_scale = pyro.sample('N_scale', noise['scale'])\n",
        "      N_orien = pyro.sample('N_orien', noise['orien'].to_event(1))\n",
        "      N_posX = pyro.sample('N_posX', noise['posX'].to_event(1))\n",
        "      N_posY = pyro.sample('N_posY', noise['posY'].to_event(1))\n",
        "      N_latent = pyro.sample('N_latent', noise['latent'].to_event(1))\n",
        "      N_img = pyro.sample('N_img', noise['img'].to_event(1))\n",
        "\n",
        "      #variables\n",
        "      color = pyro.sample('color', pyro.distributions.Normal(f_color(N_color), torch.tensor([0.01])).to_event(1))\n",
        "      shape = pyro.sample('shape', pyro.distributions.Normal(f_shape(N_shape), torch.tensor([0.01])).to_event(1))\n",
        "      scale = pyro.sample('scale', pyro.distributions.Normal(f_scale(shape, N_scale), torch.tensor([0.01])).to_event(1))\n",
        "      orien = pyro.sample('orien', pyro.distributions.Normal(f_orien(shape, N_orien), torch.tensor([0.01])).to_event(1))\n",
        "      posX = pyro.sample('posX', pyro.distributions.Normal(f_posX(shape, scale, N_posX), torch.tensor([0.01])).to_event(1))\n",
        "      posY = pyro.sample('posY', pyro.distributions.Normal(f_posY(posX ,N_posY), torch.tensor([0.01])).to_event(1))\n",
        "      ind = ind_from_att(int(color.max(0)[1]) + 1, int(shape.max(0)[1]) + 1, int(scale.max(0)[1]) + 1, int(orien.max(0)[1]) + 1, int(posX.max(0)[1]) + 1, int(posY.max(0)[1]) + 1)\n",
        "      label = torch.round(torch.cat([color, shape, scale, orien, posX, posY], -1))\n",
        "      latent = pyro.sample('latent', pyro.distributions.Normal(f_latent(N_latent, ind, label), torch.tensor([0.01])).to_event(1))\n",
        "      img = pyro.sample('img', pyro.distributions.Normal(f_image(N_img, latent, label), torch.tensor([0.01])).to_event(1))\n",
        "\n",
        "      #showing the sample\n",
        "      print('color : ', color)\n",
        "      print('\\nshape : ', shape)\n",
        "      print('\\nscale : ',  scale)\n",
        "      print('\\norien : ', orien)\n",
        "      print('\\nposX : ', posX)\n",
        "      print('\\nposY : ', posY)\n",
        "\n",
        "      plt.imshow(img.detach().numpy().reshape(64, 64))\n",
        "      plt.show()\n",
        "      #ind = ind_from_att(int(color.max(0)[1]) + 1, int(shape.max(0)[1]) + 1, int(scale.max(0)[1]) + 1, int(orien.max(0)[1]) + 1, int(posX.max(0)[1]) + 1, int(posY.max(0)[1]) + 1)\n",
        "      #run_img_vae(imgs[ind], latents_classes[ind], num = 2)\n",
        "\n",
        "    self.model = model\n",
        "\n",
        "\n",
        "scm = SCM(vae)\n",
        "scm.model()"
      ],
      "execution_count": 46,
      "outputs": [
        {
          "output_type": "stream",
          "text": [
            "color :  tensor([0.9977])\n",
            "\n",
            "shape :  tensor([ 0.9918,  0.0062, -0.0067])\n",
            "\n",
            "scale :  tensor([ 9.9709e-01, -7.0544e-04, -4.9959e-03, -1.1558e-03,  5.7448e-03,\n",
            "         1.5066e-03])\n",
            "\n",
            "orien :  tensor([ 4.7088e-03,  1.0002e+00,  5.5316e-03,  1.6771e-02,  1.8272e-02,\n",
            "        -9.5378e-03, -3.9959e-03,  1.5563e-02, -2.1328e-03,  9.3107e-03,\n",
            "         4.1847e-03, -2.1876e-02, -3.2478e-03, -1.9229e-03,  4.5352e-03,\n",
            "         4.2486e-03,  2.7058e-03, -5.8494e-03, -3.9318e-04, -1.0218e-03,\n",
            "        -4.8958e-03,  1.6073e-02,  1.1657e-02,  1.0645e-02, -1.3351e-03,\n",
            "         4.6146e-03,  6.8546e-03, -1.7647e-02, -8.0371e-04,  2.4226e-02,\n",
            "        -1.2493e-02, -2.2647e-03,  6.6157e-03, -4.1724e-03, -6.2383e-03,\n",
            "         2.5268e-02,  6.7755e-03, -4.6026e-03,  9.4597e-03,  1.9445e-02])\n",
            "\n",
            "posX :  tensor([ 6.7736e-03,  5.2838e-03, -1.1296e-03,  1.0702e-02, -1.5272e-02,\n",
            "        -1.4989e-03, -5.8930e-03, -9.9906e-03,  1.9775e-02,  7.4960e-03,\n",
            "         9.9140e-01,  6.5640e-03, -4.5630e-03, -6.2072e-03, -5.1976e-03,\n",
            "         9.3416e-03,  8.0937e-03, -1.3195e-03, -1.0355e-02,  3.8940e-03,\n",
            "        -1.5906e-02, -1.1704e-02, -1.0265e-02,  4.8321e-04, -9.6912e-04,\n",
            "        -5.8473e-03, -2.9452e-03,  2.1920e-03, -2.7669e-03, -4.0759e-03,\n",
            "         1.0269e-02, -2.4935e-02])\n",
            "\n",
            "posY :  tensor([-2.9149e-03, -6.1214e-03,  3.2127e-03, -1.7914e-02,  2.1196e-02,\n",
            "        -8.8440e-03,  2.3176e-03, -1.5209e-02, -1.3653e-03, -1.3603e-02,\n",
            "        -3.3118e-02,  7.7217e-03, -1.1582e-02,  4.0695e-03,  4.2049e-03,\n",
            "        -3.6766e-03, -6.1588e-03, -5.0027e-03,  6.2592e-03, -1.0264e-03,\n",
            "        -6.1429e-03,  9.8731e-01, -4.5827e-04, -3.2337e-03,  9.3370e-03,\n",
            "         1.4299e-03, -1.1860e-02,  1.0992e-03,  8.1928e-03, -3.2198e-03,\n",
            "         1.1598e-02,  8.5021e-03])\n"
          ],
          "name": "stdout"
        },
        {
          "output_type": "display_data",
          "data": {
            "image/png": "[encoded data removed]",
            "text/plain": [
              "<Figure size 432x288 with 1 Axes>"
            ]
          },
          "metadata": {
            "tags": []
          }
        }
      ]
    },
    {
      "cell_type": "code",
      "metadata": {
        "id": "wxCnt_9XSbQf",
        "colab_type": "code",
        "colab": {}
      },
      "source": [
        ""
      ],
      "execution_count": 0,
      "outputs": []
    }
  ]
}