{
  "nbformat": 4,
  "nbformat_minor": 0,
  "metadata": {
    "colab": {
      "name": "scm_counterfactual.ipynb",
      "provenance": [],
      "collapsed_sections": [],
      "authorship_tag": "ABX9TyMeKnX6At0tJ/fSlKM1d0gQ",
      "include_colab_link": true
    },
    "kernelspec": {
      "name": "python3",
      "display_name": "Python 3"
    }
  },
  "cells": [
    {
      "cell_type": "markdown",
      "metadata": {
        "id": "view-in-github",
        "colab_type": "text"
      },
      "source": [
        "<a href=\"https://colab.research.google.com/github/GiovaniValdrighi/inferencia_causal/blob/master/scm_counterfactual.ipynb\" target=\"_parent\"><img src=\"https://colab.research.google.com/assets/colab-badge.svg\" alt=\"Open In Colab\"/></a>"
      ]
    },
    {
      "cell_type": "code",
      "metadata": {
        "id": "XK1wfSf5rDRM",
        "colab_type": "code",
        "colab": {
          "base_uri": "https://localhost:8080/",
          "height": 35
        },
        "outputId": "c4d0656f-39ef-4894-fe47-07c5be9ce97b"
      },
      "source": [
        "from google.colab import drive\n",
        "drive.mount('/content/gdrive')"
      ],
      "execution_count": 66,
      "outputs": [
        {
          "output_type": "stream",
          "text": [
            "Drive already mounted at /content/gdrive; to attempt to forcibly remount, call drive.mount(\"/content/gdrive\", force_remount=True).\n"
          ],
          "name": "stdout"
        }
      ]
    },
    {
      "cell_type": "code",
      "metadata": {
        "id": "apUQA1WZrWNH",
        "colab_type": "code",
        "colab": {}
      },
      "source": [
        "from pydrive.auth import GoogleAuth\n",
        "from pydrive.drive import GoogleDrive\n",
        "from google.colab import auth\n",
        "from oauth2client.client import GoogleCredentials\n",
        "\n",
        "auth.authenticate_user()\n",
        "gauth = GoogleAuth()\n",
        "gauth.credentials = GoogleCredentials.get_application_default()\n",
        "drive = GoogleDrive(gauth)"
      ],
      "execution_count": 0,
      "outputs": []
    },
    {
      "cell_type": "code",
      "metadata": {
        "id": "P9rBbgcKrWma",
        "colab_type": "code",
        "colab": {
          "base_uri": "https://localhost:8080/",
          "height": 235
        },
        "outputId": "c87a4614-5424-453b-a1a5-0f67c9b581d7"
      },
      "source": [
        "!pip3 install -q http://download.pytorch.org/whl/{accelerator}/torch-0.4.0-{platform}-linux_x86_64.whl\n",
        "!pip3 install torchvision\n",
        "!pip3 install pyro-ppl"
      ],
      "execution_count": 68,
      "outputs": [
        {
          "output_type": "stream",
          "text": [
            "\u001b[31mERROR: torch-0.4.0-{platform}-linux_x86_64.whl is not a valid wheel filename.\u001b[0m\n",
            "Requirement already satisfied: torchvision in /usr/local/lib/python3.6/dist-packages (0.5.0)\n",
            "Requirement already satisfied: pillow>=4.1.1 in /usr/local/lib/python3.6/dist-packages (from torchvision) (6.2.2)\n",
            "Requirement already satisfied: torch==1.4.0 in /usr/local/lib/python3.6/dist-packages (from torchvision) (1.4.0)\n",
            "Requirement already satisfied: six in /usr/local/lib/python3.6/dist-packages (from torchvision) (1.12.0)\n",
            "Requirement already satisfied: numpy in /usr/local/lib/python3.6/dist-packages (from torchvision) (1.17.5)\n",
            "Requirement already satisfied: pyro-ppl in /usr/local/lib/python3.6/dist-packages (1.2.1)\n",
            "Requirement already satisfied: numpy>=1.7 in /usr/local/lib/python3.6/dist-packages (from pyro-ppl) (1.17.5)\n",
            "Requirement already satisfied: torch>=1.4.0 in /usr/local/lib/python3.6/dist-packages (from pyro-ppl) (1.4.0)\n",
            "Requirement already satisfied: pyro-api>=0.1.1 in /usr/local/lib/python3.6/dist-packages (from pyro-ppl) (0.1.1)\n",
            "Requirement already satisfied: opt-einsum>=2.3.2 in /usr/local/lib/python3.6/dist-packages (from pyro-ppl) (3.1.0)\n",
            "Requirement already satisfied: tqdm>=4.36 in /usr/local/lib/python3.6/dist-packages (from pyro-ppl) (4.42.1)\n"
          ],
          "name": "stdout"
        }
      ]
    },
    {
      "cell_type": "code",
      "metadata": {
        "id": "bS6uj2clreyt",
        "colab_type": "code",
        "colab": {}
      },
      "source": [
        "import numpy as np\n",
        "import torch\n",
        "from vae_build import VAE, ind_from_att, label_from_dummy\n",
        "import pyro\n",
        "import matplotlib.pyplot as plt\n",
        "from pyro.distributions import OneHotCategorical, RelaxedOneHotCategorical, Normal, Uniform, constraints"
      ],
      "execution_count": 0,
      "outputs": []
    },
    {
      "cell_type": "code",
      "metadata": {
        "id": "F2zR_RmLrpmr",
        "colab_type": "code",
        "colab": {
          "base_uri": "https://localhost:8080/",
          "height": 35
        },
        "outputId": "1c12f027-89a8-40b8-9bf1-faa02111fdec"
      },
      "source": [
        "dataset_zip = np.load('/content/gdrive/My Drive/autoencoder/dsprites_ndarray_co1sh3sc6or40x32y32_64x64.npz', allow_pickle = True, encoding = 'bytes')\n",
        "print('Keys in the dataset:', dataset_zip.files)\n",
        "imgs = dataset_zip['imgs']\n",
        "latents_values = dataset_zip['latents_values']\n",
        "latents_classes = dataset_zip['latents_classes']\n",
        "latents_sizes = dataset_zip['metadata'][()][b'latents_sizes']\n",
        "latents_names = dataset_zip['metadata'][()][b'latents_names']"
      ],
      "execution_count": 70,
      "outputs": [
        {
          "output_type": "stream",
          "text": [
            "Keys in the dataset: ['metadata', 'imgs', 'latents_classes', 'latents_values']\n"
          ],
          "name": "stdout"
        }
      ]
    },
    {
      "cell_type": "code",
      "metadata": {
        "id": "mZR3o4vQrq6p",
        "colab_type": "code",
        "colab": {
          "base_uri": "https://localhost:8080/",
          "height": 35
        },
        "outputId": "deaf3206-403b-4e47-f976-4a6b9f9a71ff"
      },
      "source": [
        "#pyro.enable_validation(True)\n",
        "pyro.clear_param_store()\n",
        "#the training routine\n",
        "use_CUDA = False\n",
        "vae = VAE(latents_sizes, latents_names, use_CUDA = use_CUDA)\n",
        "vae.load_state_dict(torch.load('/content/gdrive/My Drive/trained_movel_epoch_24.save'))"
      ],
      "execution_count": 71,
      "outputs": [
        {
          "output_type": "execute_result",
          "data": {
            "text/plain": [
              "<All keys matched successfully>"
            ]
          },
          "metadata": {
            "tags": []
          },
          "execution_count": 71
        }
      ]
    },
    {
      "cell_type": "code",
      "metadata": {
        "id": "A5nWEW9jsDnP",
        "colab_type": "code",
        "colab": {
          "base_uri": "https://localhost:8080/",
          "height": 810
        },
        "outputId": "d51c89b8-f21c-450d-dd74-6960a3e02508"
      },
      "source": [
        "class SCM():\n",
        "  def __init__(self, vae):\n",
        "    self.vae = vae\n",
        "    self.latents_names = ['color', 'shape', 'scale', 'orien', 'posX', 'posY']\n",
        "    self.latents_sizes = {'color' : 1, 'shape': 3, 'scale':6, 'orien': 40, 'posX': 32, 'posY':32}\n",
        "    self.init_noise = {'color': OneHotCategorical(torch.tensor([1.])),\n",
        "                       'shape': OneHotCategorical(torch.tensor([1/3]).repeat(3)),\n",
        "                       'scale': OneHotCategorical(torch.tensor([1/6]).repeat(6)),\n",
        "                       'orien': OneHotCategorical(torch.tensor([1/40]).repeat(40)),\n",
        "                       'posX': OneHotCategorical(torch.tensor([1/32]).repeat(32)),\n",
        "                       'posY': OneHotCategorical(torch.tensor([1/32]).repeat(32)),\n",
        "                       'latent': Normal(torch.zeros(200), torch.ones(200)),\n",
        "                       'img': Uniform(torch.zeros(4096), torch.ones(4096))}\n",
        "    \n",
        "    #functions for the model\n",
        "    def f_gumbel(N):\n",
        "      return N\n",
        "    \n",
        "    def f_posX(N, scale):\n",
        "      if 31 <= int(scale.max(0)[1] + N.max(0)[1]):\n",
        "        return torch.nn.functional.one_hot(torch.tensor([31]), 32).to(torch.float32).reshape([32])\n",
        "      else:\n",
        "        return torch.nn.functional.one_hot(scale.max(0)[1] + N.max(0)[1], 32).to(torch.float32).reshape([32])\n",
        "\n",
        "    def f_latent(N_latent, ind, label):\n",
        "      mu, sigma = vae.encoder.forward(torch.tensor(imgs[ind]).reshape(4096).to(torch.float32), label)\n",
        "      return N_latent * sigma + mu\n",
        "\n",
        "    def f_image(N_img, latent, label):\n",
        "      img_decode = vae.decoder.forward(latent, label)\n",
        "      return (N_img > img_decode).to(torch.float)\n",
        "\n",
        " \n",
        "    def model(noise = self.init_noise):\n",
        "\n",
        "      #Noise variables\n",
        "      N_color = pyro.sample('N_color', noise['color'])\n",
        "      N_shape = pyro.sample('N_shape', noise['shape'])\n",
        "      N_scale = pyro.sample('N_scale', noise['scale'])\n",
        "      N_orien = pyro.sample('N_orien', noise['orien'])\n",
        "      N_posX = pyro.sample('N_posX', noise['posX'])\n",
        "      N_posY = pyro.sample('N_posY', noise['posY'])\n",
        "      N_latent = pyro.sample('N_latent', noise['latent'])\n",
        "      N_img = pyro.sample('N_img', noise['img'])\n",
        "\n",
        "      \n",
        "      print(noise)\n",
        "      #variables\n",
        "      color = pyro.sample('color', Normal(f_gumbel(N_color), torch.tensor([0.01])).to_event(1))\n",
        "      shape = pyro.sample('shape', Normal(f_gumbel(N_shape), torch.tensor([0.01])).to_event(1))\n",
        "      scale = pyro.sample('scale', Normal(f_gumbel(N_scale), torch.tensor([0.01])).to_event(1))\n",
        "      orien = pyro.sample('orien', Normal(f_gumbel(N_orien), torch.tensor([0.01])).to_event(1))\n",
        "      posX = pyro.sample('posX', Normal(f_posX(N_posX, scale), torch.tensor([0.01])).to_event(1))\n",
        "      posY = pyro.sample('posY', Normal(f_gumbel(N_posY), torch.tensor([0.01])).to_event(1))\n",
        "      print(color, shape, scale, orien, posX, posY)\n",
        "\n",
        "      #fixing values to the decoder\n",
        "      ind = ind_from_att(color.max(0)[1], shape.max(0)[1], scale.max(0)[1], orien.max(0)[1], posX.max(0)[1], posY.max(0)[1])\n",
        "      label = torch.round(torch.cat([color, shape, scale, orien, posX, posY], -1))\n",
        "      \n",
        "      print(label)\n",
        "      #variables\n",
        "      latent = pyro.sample('latent', Normal(f_latent(N_latent, ind, label), torch.tensor([0.01])).to_event(1))\n",
        "      img = pyro.sample('img', Normal(f_image(N_img, latent, label), torch.tensor([0.01])).to_event(1))\n",
        "\n",
        "      return label, latent, img\n",
        "    \n",
        "    def guide(noise):\n",
        "      #setting noises categorical parameters (probs)\n",
        "      constr = {'color': constraints.interval(torch.tensor([0.01]), torch.tensor([0.99])),\n",
        "                'shape': constraints.interval(torch.tensor([0.01]).repeat(3), torch.tensor([0.99]).repeat(3)),\n",
        "                'scale': constraints.interval(torch.tensor([0.01]).repeat(6), torch.tensor([0.99]).repeat(6)),\n",
        "                'orien': constraints.interval(torch.tensor([0.01]).repeat(40), torch.tensor([0.99]).repeat(40)),\n",
        "                'posX': constraints.interval(torch.tensor([0.01]).repeat(32), torch.tensor([0.99]).repeat(32)),\n",
        "                'posY': constraints.interval(torch.tensor([0.01]).repeat(32), torch.tensor([0.99]).repeat(32)),\n",
        "                'latent': constraints.interval(torch.tensor([0.01]).repeat(200), torch.tensor([0.99]).repeat(200)),\n",
        "                'img': constraints.interval(torch.tensor([0.01]).repeat(4096), torch.tensor([0.99]).repeat(4096))}\n",
        "\n",
        "      noise_param = {'color': pyro.param('prob_color', torch.tensor([1]), constraint = constr['color']),\n",
        "                    'shape': pyro.param('prob_shape', torch.tensor([1/3]).repeat(3), constraint = constr['shape']),\n",
        "                    'scale': pyro.param('prob_scale', torch.tensor([1/6]).repeat(6), constraint = constr['scale']),\n",
        "                    'orien': pyro.param('prob_orien', torch.tensor([1/40]).repeat(40), constraint = constr['orien']),\n",
        "                    'posX': pyro.param('prob_posX', torch.tensor([1/32]).repeat(32), constraint = constr['posX']),\n",
        "                    'posY': pyro.param('prob_posY', torch.tensor([1/32]).repeat(32), constraint = constr['posY']),\n",
        "                    'latent':{'mu': pyro.param('mu_latent', torch.tensor([0.6]).repeat(200), constraint = constr['latent']),\n",
        "                              'sigma': pyro.param('sigma_latent', torch.tensor([0.8]).repeat(200), constraint = constr['latent'])},\n",
        "                    'img':{'mu': pyro.param('mu_img', torch.tensor([0.6]).repeat(4096), constraint = constr['img']),\n",
        "                           'sigma': pyro.param('sigma_img', torch.tensor([0.8]).repeat(4096), constraint = constr['img'])}}\n",
        "\n",
        "      #categorical samples      \n",
        "      for key, value in noise_param.items():\n",
        "        if key != 'latent' and key != 'img':\n",
        "          print(pyro.sample('N_'+key, RelaxedOneHotCategorical(torch.tensor([0.5]), probs = value)))\n",
        "\n",
        "      #normal samples\n",
        "      pyro.sample('N_latent', pyro.distributions.Normal(noise_param['latent']['mu'], noise_param['latent']['mu']))\n",
        "      pyro.sample('N_img', pyro.distributions.Normal(noise_param['img']['mu'], noise_param['img']['sigma']))\n",
        "      \n",
        "      return \n",
        "    \n",
        "    def counterfactual(var_name, obs_var, counter_var, n_steps = 1000):\n",
        "      #calculating noise posterior in the observation model\n",
        "      obsModel = pyro.condition(model, data = {var_name : obs_var})\n",
        "      pyro.clear_param_store()\n",
        "\n",
        "      #setting the SVI attributes\n",
        "      adam_params = {'lr': 0.001}\n",
        "      optmizer = pyro.optim.Adam(adam_params)\n",
        "      elbo = pyro.infer.Trace_ELBO()\n",
        "      svi = pyro.infer.SVI(obsModel, guide, optmizer, elbo)\n",
        "\n",
        "      #training loop\n",
        "      losses = []\n",
        "      noise_samples = {latent:[] for latent in self.latents_names}\n",
        "      noise_samples['latent'] = {'mu':[], 'sigma': []}\n",
        "      noise_samples['img'] = {'mu':[], 'sigma': []}\n",
        "\n",
        "      for i in range(n_steps):\n",
        "        losses.append(svi.step(self.init_noise))\n",
        "        #saving samples\n",
        "        for latent in self.latents_names:\n",
        "          noise_samples[latent].append(pyro.param('prob_'+latent))\n",
        "        noise_samples['latent']['mu'].append(pyro.param('mu_latent'))\n",
        "        noise_samples['latent']['sigma'].append(pyro.param('sigma_latent'))\n",
        "        noise_samples['img']['mu'].append(pyro.param('mu_img'))\n",
        "        noise_samples['img']['sigma'].append(pyro.param('sigma_img'))\n",
        "\n",
        "      #calculating means\n",
        "      mean_values = {latent:[] for latent in self.latents_names}\n",
        "      mean_values['latent'] = {'mu':[], 'sigma': []}\n",
        "      mean_values['img'] = {'mu':[], 'sigma': []}\n",
        "      for latent in self.latents_names:\n",
        "        mean_values[latent] = torch.mean(torch.stack(noise_samples[latent]), dim = 0)\n",
        "      mean_values['latent']['mu'] = torch.mean(torch.stack(noise_samples['latent']['mu']), dim = 0)\n",
        "      mean_values['latent']['sigma'] = torch.mean(torch.stack(noise_samples['latent']['sigma']), dim = 0)\n",
        "      mean_values['img']['mu'] = torch.mean(torch.stack(noise_samples['img']['mu']), dim = 0)\n",
        "      mean_values['img']['sigma'] = torch.mean(torch.stack(noise_samples['img']['sigma']), dim = 0)\n",
        "\n",
        "    \n",
        "      updated_noise = {}\n",
        "      for latent in self.latents_names:\n",
        "        updated_noise[latent] = OneHotCategorical(mean_values[latent])\n",
        "      updated_noise['latent'] = Normal(mean_values['latent']['mu'], mean_values['latent']['sigma'])\n",
        "      updated_noise['img'] = Normal(mean_values['img']['mu'], mean_values['img']['sigma'])\n",
        "\n",
        "      #counterfactual query with updated noise\n",
        "      intModel = pyro.do(model, data = {var_name : counter_var})\n",
        "      cf_posterior = pyro.infer.Importance(intModel, guide, n_steps).run(updated_noise)\n",
        "      cf_marginal = pyro.infer.EmpiricalMarginal(cf_posterior, sites = 'img')\n",
        "      return cf_marginal.mean\n",
        "\n",
        "    def viz_model():\n",
        "      label, _, img = model()\n",
        "      label = label_from_dummy(label)\n",
        "      plt.imshow(img.detach().numpy().reshape(64, 64), cmap = 'Greys')\n",
        "      text = 'Color:0    Shape:'+str(int(label[1])) + '   Scale:' + str(int(label[2])) + '   Orien.:' + str(int(label[3])) + '   Pos.X:' + str(int(label[4])) + '   Pos.Y:' + str(int(label[5]))\n",
        "      plt.title(text)\n",
        "      plt.show()\n",
        "\n",
        "    self.model = model\n",
        "    self.guide = guide\n",
        "    self.viz_model = viz_model\n",
        "    self.counterfactual = counterfactual\n",
        "\n",
        "\n",
        "scm = SCM(vae)\n",
        "scm.viz_model()"
      ],
      "execution_count": 130,
      "outputs": [
        {
          "output_type": "stream",
          "text": [
            "{'color': OneHotCategorical(), 'shape': OneHotCategorical(), 'scale': OneHotCategorical(), 'orien': OneHotCategorical(), 'posX': OneHotCategorical(), 'posY': OneHotCategorical(), 'latent': Normal(loc: torch.Size([200]), scale: torch.Size([200])), 'img': Uniform(low: torch.Size([4096]), high: torch.Size([4096]))}\n",
            "tensor([0.9816]) tensor([-0.0148, -0.0100,  1.0109]) tensor([ 0.0117, -0.0175, -0.0096,  0.0020,  1.0078,  0.0084]) tensor([-7.6975e-03, -1.6995e-02, -3.9791e-03,  1.2791e-02, -5.3698e-03,\n",
            "        -1.2990e-02,  8.4872e-03,  1.4386e-02,  2.1844e-03,  1.6647e-04,\n",
            "        -1.1868e-02, -2.6624e-03,  9.3540e-03, -9.8858e-03,  1.0163e+00,\n",
            "        -6.3306e-03,  8.1465e-03,  6.5319e-03, -1.1145e-02, -3.8521e-03,\n",
            "         9.1430e-04,  1.0012e-02, -3.7997e-03,  1.7066e-02, -1.5598e-02,\n",
            "         3.1227e-03, -3.7362e-03, -2.4807e-03,  1.2746e-02,  1.4602e-02,\n",
            "        -4.4828e-04, -1.2261e-02,  5.5984e-03,  1.8430e-02, -1.2327e-02,\n",
            "        -1.0207e-02, -6.3274e-03,  1.2909e-03,  9.3509e-04,  2.4405e-02]) tensor([-3.9861e-03, -6.6901e-03, -7.5097e-03,  7.7454e-03,  8.0080e-03,\n",
            "         1.0623e-03,  4.9562e-03,  8.6150e-03,  9.1965e-04, -1.3889e-02,\n",
            "         7.0850e-03,  5.2871e-03,  2.0614e-02,  5.7828e-03, -1.3999e-02,\n",
            "        -5.2399e-03,  1.3454e-02, -3.5066e-03,  1.0111e-02,  6.7675e-03,\n",
            "        -1.2492e-02,  9.4992e-03, -8.3481e-03, -7.6236e-04,  3.7264e-03,\n",
            "        -8.3771e-03,  8.3078e-03, -1.5221e-02, -1.0931e-02,  8.4470e-03,\n",
            "        -1.0759e-03,  1.0099e+00]) tensor([ 6.1741e-03,  3.7079e-03, -3.6227e-03, -6.5330e-03,  1.0907e-02,\n",
            "         1.0218e-02, -4.2640e-03, -6.2937e-03,  9.5068e-03, -3.5266e-03,\n",
            "         6.2627e-03,  1.2798e-02, -6.8674e-03,  6.7297e-03, -2.2187e-03,\n",
            "        -4.0389e-03,  2.1845e-02,  9.9810e-01, -5.7416e-03, -5.5394e-03,\n",
            "        -9.2472e-04, -2.0422e-03,  1.8505e-03, -1.0423e-02,  1.6969e-02,\n",
            "        -3.6226e-03,  1.3145e-02,  6.1031e-04, -3.2171e-03,  6.9224e-03,\n",
            "         6.6199e-03,  1.4935e-02])\n",
            "tensor([1., -0., -0., 1., 0., -0., -0., 0., 1., 0., -0., -0., -0., 0., -0., -0., 0., 0.,\n",
            "        0., 0., -0., -0., 0., -0., 1., -0., 0., 0., -0., -0., 0., 0., -0., 0., -0., 0.,\n",
            "        -0., -0., 0., 0., -0., -0., 0., 0., -0., -0., -0., 0., 0., 0., -0., -0., -0., 0.,\n",
            "        0., 0., 0., 0., 0., -0., 0., 0., 0., 0., -0., -0., 0., -0., 0., 0., -0., 0.,\n",
            "        -0., -0., 0., -0., 0., -0., -0., 0., -0., 1., 0., 0., -0., -0., 0., 0., -0., -0.,\n",
            "        0., -0., 0., 0., -0., 0., -0., -0., 0., 1., -0., -0., -0., -0., 0., -0., 0., -0.,\n",
            "        0., 0., -0., 0., 0., 0.])\n"
          ],
          "name": "stdout"
        },
        {
          "output_type": "display_data",
          "data": {
            "image/png": "[encoded data removed]",
            "text/plain": [
              "<Figure size 432x288 with 1 Axes>"
            ]
          },
          "metadata": {
            "tags": []
          }
        }
      ]
    },
    {
      "cell_type": "code",
      "metadata": {
        "id": "cd3JXBIjsaC7",
        "colab_type": "code",
        "colab": {
          "base_uri": "https://localhost:8080/",
          "height": 1000
        },
        "outputId": "ad12a7d8-dedd-431b-8bb9-e6637f16dd03"
      },
      "source": [
        "scm.counterfactual('shape', torch.tensor([1., 0., 0.]), torch.tensor([0., 1., 0.]), n_steps = 1)"
      ],
      "execution_count": 131,
      "outputs": [
        {
          "output_type": "stream",
          "text": [
            "tensor([1.], grad_fn=<ExpBackward>)\n",
            "tensor([0.8255, 0.0118, 0.1627], grad_fn=<ExpBackward>)\n",
            "tensor([0.3414, 0.0087, 0.4085, 0.0531, 0.1545, 0.0338], grad_fn=<ExpBackward>)\n",
            "tensor([1.4323e-04, 1.2983e-02, 1.7662e-03, 8.2574e-05, 3.3533e-04, 8.1142e-04,\n",
            "        4.0066e-05, 1.5624e-04, 1.1983e-01, 1.2451e-01, 1.0773e-04, 4.4222e-03,\n",
            "        4.9228e-03, 1.5259e-04, 1.7417e-03, 9.2702e-04, 1.4672e-03, 3.7614e-05,\n",
            "        1.0244e-03, 1.1176e-04, 2.5605e-04, 9.1279e-04, 7.4493e-04, 5.0466e-03,\n",
            "        3.5068e-02, 1.9017e-03, 1.2294e-04, 6.6201e-01, 1.4288e-03, 4.2986e-04,\n",
            "        3.7723e-04, 2.2131e-04, 8.0397e-04, 8.4178e-04, 2.2901e-04, 1.9277e-04,\n",
            "        8.0454e-03, 4.3264e-04, 3.6262e-03, 1.7312e-03], grad_fn=<ExpBackward>)\n",
            "tensor([1.2827e-03, 2.7777e-04, 1.3634e-02, 9.4184e-05, 1.2341e-03, 1.2225e-03,\n",
            "        2.8330e-02, 3.3165e-04, 1.4558e-01, 1.1733e-03, 3.8300e-04, 6.7889e-04,\n",
            "        1.6310e-02, 7.9526e-05, 1.8538e-03, 2.9203e-02, 1.1464e-02, 5.7756e-04,\n",
            "        1.6103e-04, 2.2419e-03, 8.0917e-05, 2.8494e-02, 1.6017e-04, 2.0517e-03,\n",
            "        1.4115e-02, 2.1607e-02, 4.2314e-01, 3.1403e-02, 1.0251e-03, 3.9189e-02,\n",
            "        1.8088e-01, 1.7393e-03], grad_fn=<ExpBackward>)\n",
            "tensor([2.0749e-03, 9.2431e-06, 2.8845e-03, 1.5254e-04, 1.6968e-05, 1.5334e-03,\n",
            "        9.3196e-05, 4.5655e-06, 5.5196e-05, 8.4712e-05, 5.7494e-04, 2.0068e-05,\n",
            "        4.2716e-05, 2.9830e-06, 9.8602e-01, 8.0520e-06, 3.1207e-06, 2.7291e-05,\n",
            "        1.2764e-05, 6.5750e-05, 5.1481e-03, 4.7029e-05, 3.6381e-04, 1.9772e-06,\n",
            "        3.4441e-06, 4.8319e-06, 8.1237e-06, 7.2399e-05, 9.2885e-06, 8.4220e-06,\n",
            "        2.8562e-06, 6.4224e-04], grad_fn=<ExpBackward>)\n",
            "{'color': OneHotCategorical(), 'shape': OneHotCategorical(), 'scale': OneHotCategorical(), 'orien': OneHotCategorical(), 'posX': OneHotCategorical(), 'posY': OneHotCategorical(), 'latent': Normal(loc: torch.Size([200]), scale: torch.Size([200])), 'img': Uniform(low: torch.Size([4096]), high: torch.Size([4096]))}\n",
            "tensor([0.9767], grad_fn=<AddBackward0>) tensor([1., 0., 0.]) tensor([0.3390, 0.0118, 0.4129, 0.0367, 0.1533, 0.0191],\n",
            "       grad_fn=<AddBackward0>) tensor([-2.2447e-02,  1.9087e-02,  3.0911e-03,  7.0892e-03, -9.0209e-03,\n",
            "         4.2897e-03, -9.3299e-03,  7.8093e-03,  1.1973e-01,  1.1508e-01,\n",
            "        -1.6352e-02, -1.0654e-02, -3.2617e-04, -1.4237e-02, -1.3522e-02,\n",
            "        -1.6659e-03, -1.2037e-03,  6.5302e-03, -2.5595e-03, -9.6705e-03,\n",
            "         1.1495e-02,  1.1823e-02, -2.9104e-04,  1.2990e-02,  4.4643e-02,\n",
            "         4.5501e-03,  1.7268e-03,  6.4441e-01,  1.4237e-02, -3.1192e-03,\n",
            "         8.6765e-04, -5.2857e-03,  1.9619e-02,  1.0445e-02, -1.7560e-02,\n",
            "        -5.5705e-03, -1.6062e-02, -8.5659e-04,  1.0308e-02,  1.1661e-02],\n",
            "       grad_fn=<AddBackward0>) tensor([-4.7312e-03,  1.4889e-02,  3.5652e-03, -1.3507e-02, -2.0418e-04,\n",
            "        -5.0672e-03,  1.3584e-02,  7.1329e-03, -7.6420e-03, -4.2175e-03,\n",
            "         2.2517e-03, -1.4798e-03,  5.0002e-03, -3.7476e-03, -3.3604e-03,\n",
            "         1.2993e-02,  7.3237e-04, -1.1067e-02, -7.7134e-03,  9.9322e-03,\n",
            "        -9.4224e-03,  1.0613e-02,  1.7326e-02, -1.0567e-03, -4.9635e-03,\n",
            "        -3.7344e-03,  1.1812e-02,  7.4816e-03,  9.9160e-01, -1.0566e-03,\n",
            "         6.4523e-03, -9.6245e-03]) tensor([-6.7917e-03,  8.1036e-03, -4.6381e-03, -1.5344e-02, -1.1271e-02,\n",
            "         1.2007e-03, -1.0816e-03, -1.4282e-02, -2.1544e-02, -1.4333e-03,\n",
            "         1.5345e-02,  2.4880e-02, -1.8088e-03, -5.4506e-03,  9.7717e-01,\n",
            "         5.4407e-03, -2.1402e-02, -2.3189e-03, -8.5264e-04,  7.9660e-03,\n",
            "         1.6009e-02, -7.3094e-03,  2.0679e-02, -6.4636e-03, -6.7318e-03,\n",
            "         6.5023e-03, -4.9245e-03,  2.1512e-03,  6.2270e-03, -1.2539e-03,\n",
            "        -1.8004e-02,  6.6997e-03], grad_fn=<AddBackward0>)\n",
            "tensor([1., 1., 0., 0., 0., 0., 0., 0., 0., 0., -0., 0., 0., 0., -0., 0., -0., 0.,\n",
            "        0., 0., -0., -0., -0., -0., -0., -0., -0., 0., -0., -0., 0., 0., -0., 0., 0., 0.,\n",
            "        0., 1., 0., -0., 0., -0., 0., 0., -0., -0., -0., -0., 0., 0., -0., 0., 0., -0.,\n",
            "        -0., -0., 0., 0., -0., -0., 0., -0., 0., -0., -0., 0., 0., -0., -0., 0., -0., 0.,\n",
            "        0., -0., -0., -0., 0., 0., 1., -0., 0., -0., -0., 0., -0., -0., -0., 0., -0., -0.,\n",
            "        -0., -0., 0., 0., -0., -0., 1., 0., -0., -0., -0., 0., 0., -0., 0., -0., -0., 0.,\n",
            "        -0., 0., 0., -0., -0., 0.], grad_fn=<RoundBackward>)\n",
            "tensor([1.], grad_fn=<ExpBackward>)\n",
            "tensor([0.0093, 0.0328, 0.9579], grad_fn=<ExpBackward>)\n",
            "tensor([0.3451, 0.0308, 0.3429, 0.1577, 0.0984, 0.0251], grad_fn=<ExpBackward>)\n",
            "tensor([7.4782e-07, 6.5463e-06, 4.5915e-06, 3.0230e-05, 1.3716e-04, 6.3455e-06,\n",
            "        2.1143e-06, 1.9985e-04, 3.8507e-06, 7.5582e-07, 2.6504e-05, 1.6948e-05,\n",
            "        1.6935e-05, 1.0732e-05, 5.2253e-06, 1.8178e-05, 9.4904e-05, 8.6851e-06,\n",
            "        5.7918e-05, 2.6666e-05, 1.9521e-05, 1.8030e-06, 7.9593e-06, 3.6919e-05,\n",
            "        7.1979e-06, 1.2374e-03, 5.2967e-05, 1.1347e-05, 4.1180e-06, 1.5453e-06,\n",
            "        1.4517e-04, 9.2386e-06, 4.6918e-06, 3.0813e-05, 5.1013e-06, 1.1003e-06,\n",
            "        6.2939e-05, 3.3796e-06, 7.0706e-05, 9.9761e-01], grad_fn=<ExpBackward>)\n",
            "tensor([1.5653e-04, 2.3014e-04, 1.4077e-01, 8.6126e-04, 5.6939e-04, 1.8387e-03,\n",
            "        8.6080e-03, 5.9920e-01, 1.1043e-03, 3.9115e-03, 3.5154e-04, 1.2707e-03,\n",
            "        5.3044e-02, 6.4880e-04, 9.0686e-04, 3.2944e-04, 2.2244e-04, 4.0983e-04,\n",
            "        5.6979e-04, 3.3174e-03, 1.5647e-03, 1.7619e-02, 3.0594e-04, 2.1607e-02,\n",
            "        7.3476e-03, 2.1596e-03, 3.2249e-04, 1.3971e-04, 2.7475e-02, 4.4228e-03,\n",
            "        9.5336e-02, 3.3737e-03], grad_fn=<ExpBackward>)\n",
            "tensor([7.7008e-04, 2.4504e-04, 1.4147e-02, 4.5002e-03, 3.3252e-04, 5.3282e-02,\n",
            "        1.5056e-03, 1.6956e-01, 2.3970e-04, 3.2331e-04, 2.9059e-03, 5.4629e-04,\n",
            "        4.8718e-01, 4.5808e-04, 1.2806e-04, 4.9509e-05, 5.3569e-03, 3.6114e-04,\n",
            "        8.5959e-03, 6.8839e-02, 2.0677e-03, 1.3802e-01, 5.4374e-04, 2.0292e-05,\n",
            "        3.2450e-02, 5.8924e-04, 2.6100e-04, 1.8626e-03, 4.3315e-03, 3.3291e-04,\n",
            "        8.1428e-05, 1.0879e-04], grad_fn=<ExpBackward>)\n",
            "{'color': OneHotCategorical(), 'shape': OneHotCategorical(), 'scale': OneHotCategorical(), 'orien': OneHotCategorical(), 'posX': OneHotCategorical(), 'posY': OneHotCategorical(), 'latent': Normal(loc: torch.Size([200]), scale: torch.Size([200])), 'img': Normal(loc: torch.Size([4096]), scale: torch.Size([4096]))}\n",
            "tensor([0.9881], grad_fn=<AddBackward0>) tensor([0., 1., 0.]) tensor([0.3511, 0.0371, 0.3425, 0.1627, 0.0986, 0.0449],\n",
            "       grad_fn=<AddBackward0>) tensor([-9.2827e-03,  1.0912e-02,  3.4394e-03, -2.5024e-02,  6.5160e-03,\n",
            "        -1.9388e-03, -1.0071e-03,  4.5260e-05, -7.4519e-03,  2.8402e-03,\n",
            "         1.0923e-02,  1.6848e-02,  8.5994e-03,  2.6661e-03, -9.4563e-03,\n",
            "         1.3015e-02,  4.2823e-03, -7.4847e-04, -2.5529e-03, -1.5254e-05,\n",
            "         2.5346e-03,  4.7888e-03,  4.0963e-03,  2.0267e-03, -1.5863e-02,\n",
            "        -1.4273e-02, -1.3749e-03, -3.3232e-03,  4.2984e-03, -1.1277e-02,\n",
            "        -2.0126e-02,  6.8014e-03,  2.7947e-03,  1.1160e-02,  1.6686e-02,\n",
            "         1.2300e-02, -2.9561e-03, -6.5432e-03,  9.4473e-03,  9.9369e-01],\n",
            "       grad_fn=<AddBackward0>) tensor([ 3.7903e-05, -4.5921e-03, -5.6799e-03, -6.8426e-03, -1.9240e-03,\n",
            "        -3.3830e-03,  6.2244e-03,  1.0072e+00, -3.9058e-03, -7.9430e-03,\n",
            "        -5.8814e-03,  1.2109e-02,  2.2176e-03, -9.6157e-04, -3.0501e-03,\n",
            "        -2.3207e-02,  2.8105e-03, -1.1124e-02, -5.6596e-03,  2.4179e-03,\n",
            "        -9.1140e-03,  2.1552e-02, -6.4888e-03, -1.3881e-02, -4.9112e-03,\n",
            "         3.4625e-03,  3.3751e-03, -2.9176e-03,  1.0050e-02, -2.2128e-02,\n",
            "         6.1595e-03,  4.1112e-03]) tensor([-1.1804e-04, -4.8201e-03,  9.6870e-03,  9.5864e-03,  4.4413e-03,\n",
            "         5.2644e-02,  2.2513e-02,  1.7228e-01,  3.1044e-04, -2.3835e-03,\n",
            "        -4.0893e-03,  1.0086e-03,  4.9700e-01, -1.2204e-02,  1.7146e-02,\n",
            "        -7.7414e-03,  2.1828e-03, -2.3343e-03,  8.4696e-03,  7.9859e-02,\n",
            "         6.3257e-03,  1.4139e-01, -7.7417e-03, -1.3591e-03,  1.6704e-02,\n",
            "         1.2547e-03, -1.1703e-02, -6.6445e-03,  1.1157e-02, -1.6774e-02,\n",
            "         3.5425e-03, -3.1582e-03], grad_fn=<AddBackward0>)\n",
            "tensor([1., 0., 1., 0., 0., 0., 0., 0., 0., 0., -0., 0., 0., -0., 0., -0., -0., 0.,\n",
            "        -0., 0., 0., 0., 0., 0., -0., 0., 0., -0., -0., -0., 0., 0., 0., 0., -0., -0.,\n",
            "        -0., -0., 0., -0., -0., 0., 0., 0., 0., 0., -0., -0., 0., 1., 0., -0., -0., -0.,\n",
            "        -0., -0., 0., 1., -0., -0., -0., 0., 0., -0., -0., -0., 0., -0., -0., 0., -0., 0.,\n",
            "        -0., -0., -0., 0., 0., -0., 0., -0., 0., 0., -0., -0., 0., 0., 0., 0., 0., 0.,\n",
            "        0., -0., -0., 0., 0., -0., 0., -0., 0., -0., 0., 0., 0., 0., -0., -0., 0., 0.,\n",
            "        -0., -0., 0., -0., 0., -0.], grad_fn=<RoundBackward>)\n"
          ],
          "name": "stdout"
        },
        {
          "output_type": "execute_result",
          "data": {
            "text/plain": [
              "tensor([ 1.0018,  0.9955, -0.0065,  ...,  1.0014,  0.9869, -0.0021])"
            ]
          },
          "metadata": {
            "tags": []
          },
          "execution_count": 131
        }
      ]
    },
    {
      "cell_type": "code",
      "metadata": {
        "id": "mdXbssJMezeT",
        "colab_type": "code",
        "colab": {}
      },
      "source": [
        ""
      ],
      "execution_count": 0,
      "outputs": []
    }
  ]
}