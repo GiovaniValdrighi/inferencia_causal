{
  "nbformat": 4,
  "nbformat_minor": 0,
  "metadata": {
    "colab": {
      "name": "vae_visualization.ipynb",
      "provenance": [],
      "machine_shape": "hm",
      "authorship_tag": "ABX9TyMJHQuzjmOcTgZ5TH3hvogP",
      "include_colab_link": true
    },
    "kernelspec": {
      "name": "python3",
      "display_name": "Python 3"
    }
  },
  "cells": [
    {
      "cell_type": "markdown",
      "metadata": {
        "id": "view-in-github",
        "colab_type": "text"
      },
      "source": [
        "<a href=\"https://colab.research.google.com/github/GiovaniValdrighi/inferencia_causal/blob/master/vae/vae_visualization.ipynb\" target=\"_parent\"><img src=\"https://colab.research.google.com/assets/colab-badge.svg\" alt=\"Open In Colab\"/></a>"
      ]
    },
    {
      "cell_type": "markdown",
      "metadata": {
        "id": "9hBpNuuGPYKf",
        "colab_type": "text"
      },
      "source": [
        "# Visualization of the trained Variational Autoencoder\n",
        "## 1.Getting acess to the dataset on Google Drive"
      ]
    },
    {
      "cell_type": "code",
      "metadata": {
        "id": "3tai0VcIJtM5",
        "colab_type": "code",
        "colab": {
          "base_uri": "https://localhost:8080/",
          "height": 55
        },
        "outputId": "300f030a-7643-4c79-b112-f077aa90659e"
      },
      "source": [
        "from google.colab import drive\n",
        "drive.mount('/content/gdrive')"
      ],
      "execution_count": 1,
      "outputs": [
        {
          "output_type": "stream",
          "text": [
            "Drive already mounted at /content/gdrive; to attempt to forcibly remount, call drive.mount(\"/content/gdrive\", force_remount=True).\n"
          ],
          "name": "stdout"
        }
      ]
    },
    {
      "cell_type": "code",
      "metadata": {
        "id": "OcOLQCnqK9qE",
        "colab_type": "code",
        "colab": {}
      },
      "source": [
        "from pydrive.auth import GoogleAuth\n",
        "from pydrive.drive import GoogleDrive\n",
        "from google.colab import auth\n",
        "from oauth2client.client import GoogleCredentials\n",
        "\n",
        "auth.authenticate_user()\n",
        "gauth = GoogleAuth()\n",
        "gauth.credentials = GoogleCredentials.get_application_default()\n",
        "drive = GoogleDrive(gauth)"
      ],
      "execution_count": 0,
      "outputs": []
    },
    {
      "cell_type": "markdown",
      "metadata": {
        "id": "Kdg456eTPqG0",
        "colab_type": "text"
      },
      "source": [
        "## 2.Installing Pyro and calling the modules"
      ]
    },
    {
      "cell_type": "code",
      "metadata": {
        "id": "YzxJukrILK3V",
        "colab_type": "code",
        "colab": {
          "base_uri": "https://localhost:8080/",
          "height": 255
        },
        "outputId": "5f7c76bc-d249-4ad5-a4bd-91e22672206e"
      },
      "source": [
        "!pip3 install -q http://download.pytorch.org/whl/{accelerator}/torch-0.4.0-{platform}-linux_x86_64.whl\n",
        "!pip3 install torchvision\n",
        "!pip3 install pyro-ppl"
      ],
      "execution_count": 3,
      "outputs": [
        {
          "output_type": "stream",
          "text": [
            "\u001b[31mERROR: torch-0.4.0-{platform}-linux_x86_64.whl is not a valid wheel filename.\u001b[0m\n",
            "Requirement already satisfied: torchvision in /usr/local/lib/python3.6/dist-packages (0.5.0)\n",
            "Requirement already satisfied: six in /usr/local/lib/python3.6/dist-packages (from torchvision) (1.12.0)\n",
            "Requirement already satisfied: numpy in /usr/local/lib/python3.6/dist-packages (from torchvision) (1.17.5)\n",
            "Requirement already satisfied: pillow>=4.1.1 in /usr/local/lib/python3.6/dist-packages (from torchvision) (6.2.2)\n",
            "Requirement already satisfied: torch==1.4.0 in /usr/local/lib/python3.6/dist-packages (from torchvision) (1.4.0)\n",
            "Requirement already satisfied: pyro-ppl in /usr/local/lib/python3.6/dist-packages (1.2.1)\n",
            "Requirement already satisfied: opt-einsum>=2.3.2 in /usr/local/lib/python3.6/dist-packages (from pyro-ppl) (3.1.0)\n",
            "Requirement already satisfied: numpy>=1.7 in /usr/local/lib/python3.6/dist-packages (from pyro-ppl) (1.17.5)\n",
            "Requirement already satisfied: pyro-api>=0.1.1 in /usr/local/lib/python3.6/dist-packages (from pyro-ppl) (0.1.1)\n",
            "Requirement already satisfied: torch>=1.4.0 in /usr/local/lib/python3.6/dist-packages (from pyro-ppl) (1.4.0)\n",
            "Requirement already satisfied: tqdm>=4.36 in /usr/local/lib/python3.6/dist-packages (from pyro-ppl) (4.42.1)\n"
          ],
          "name": "stdout"
        }
      ]
    },
    {
      "cell_type": "code",
      "metadata": {
        "id": "lmKWInTZOtMi",
        "colab_type": "code",
        "colab": {}
      },
      "source": [
        "import numpy as np\n",
        "import pyro\n",
        "import torch\n",
        "from vae_build import VAE, ind_from_att"
      ],
      "execution_count": 0,
      "outputs": []
    },
    {
      "cell_type": "code",
      "metadata": {
        "id": "i4A21fKyLbJJ",
        "colab_type": "code",
        "colab": {
          "base_uri": "https://localhost:8080/",
          "height": 35
        },
        "outputId": "c04ffc04-cc2e-49ea-d250-5c8ad6ef82a9"
      },
      "source": [
        "dataset_zip = np.load('/content/gdrive/My Drive/autoencoder/dsprites_ndarray_co1sh3sc6or40x32y32_64x64.npz', allow_pickle = True, encoding = 'bytes')\n",
        "print('Keys in the dataset:', dataset_zip.files)\n",
        "imgs = dataset_zip['imgs']\n",
        "latents_values = dataset_zip['latents_values']\n",
        "latents_classes = dataset_zip['latents_classes']\n",
        "latents_sizes = dataset_zip['metadata'][()][b'latents_sizes']\n",
        "latents_names = dataset_zip['metadata'][()][b'latents_names']"
      ],
      "execution_count": 5,
      "outputs": [
        {
          "output_type": "stream",
          "text": [
            "Keys in the dataset: ['metadata', 'imgs', 'latents_classes', 'latents_values']\n"
          ],
          "name": "stdout"
        }
      ]
    },
    {
      "cell_type": "markdown",
      "metadata": {
        "id": "xQi_qYvSPzFe",
        "colab_type": "text"
      },
      "source": [
        "# 3.Visualization of the VAE\n",
        "After the variational autoencoder is already trained we can verify it working with samples of the dataset."
      ]
    },
    {
      "cell_type": "code",
      "metadata": {
        "id": "rc-6fAyzOq30",
        "colab_type": "code",
        "colab": {
          "base_uri": "https://localhost:8080/",
          "height": 35
        },
        "outputId": "9de80fc4-14b9-462d-e49e-9aae47db5026"
      },
      "source": [
        "pyro.enable_validation(True)\n",
        "pyro.clear_param_store()\n",
        "#the training routine\n",
        "use_CUDA = False\n",
        "vae = VAE(latents_sizes, latents_names, use_CUDA = use_CUDA)\n",
        "vae.load_state_dict(torch.load('/content/gdrive/My Drive/trained_movel_epoch_24.save'))"
      ],
      "execution_count": 6,
      "outputs": [
        {
          "output_type": "execute_result",
          "data": {
            "text/plain": [
              "<All keys matched successfully>"
            ]
          },
          "metadata": {
            "tags": []
          },
          "execution_count": 6
        }
      ]
    },
    {
      "cell_type": "markdown",
      "metadata": {
        "id": "aADyq9vdQTy2",
        "colab_type": "text"
      },
      "source": [
        "First we can choose a random image on the dataset and visualize it before going through the VAE and after, passing by the encoder, generating a sample and going trough the decoder."
      ]
    },
    {
      "cell_type": "code",
      "metadata": {
        "id": "6N8b_D5cO1k8",
        "colab_type": "code",
        "colab": {
          "base_uri": "https://localhost:8080/",
          "height": 187
        },
        "outputId": "d735df93-c55e-4284-ac26-db979be772ee"
      },
      "source": [
        "ind = np.random.randint(imgs.shape[0])\n",
        "vae.run_img(imgs[ind], latents_classes[ind])"
      ],
      "execution_count": 7,
      "outputs": [
        {
          "output_type": "display_data",
          "data": {
            "image/png": "[encoded data removed]",
            "text/plain": [
              "<Figure size 288x360 with 1 Axes>"
            ]
          },
          "metadata": {
            "tags": []
          }
        }
      ]
    },
    {
      "cell_type": "code",
      "metadata": {
        "id": "WIo-qkP3Ropt",
        "colab_type": "code",
        "colab": {
          "base_uri": "https://localhost:8080/",
          "height": 187
        },
        "outputId": "46a270e6-9f85-4285-b433-a3c23c534441"
      },
      "source": [
        "ind = np.random.randint(imgs.shape[0])\n",
        "vae.run_img(imgs[ind], latents_classes[ind])"
      ],
      "execution_count": 8,
      "outputs": [
        {
          "output_type": "display_data",
          "data": {
            "image/png": "[encoded data removed]",
            "text/plain": [
              "<Figure size 288x360 with 1 Axes>"
            ]
          },
          "metadata": {
            "tags": []
          }
        }
      ]
    },
    {
      "cell_type": "markdown",
      "metadata": {
        "id": "Qjyi6XaVTYOM",
        "colab_type": "text"
      },
      "source": [
        "Also we can choose each attribute with the function ind_from_att(). Here we choose a square if no rotation and with the lowest position values."
      ]
    },
    {
      "cell_type": "code",
      "metadata": {
        "id": "yFXqmTDDTXp8",
        "colab_type": "code",
        "colab": {
          "base_uri": "https://localhost:8080/",
          "height": 187
        },
        "outputId": "5ea87b90-ef15-4a1c-adae-3e0bad230545"
      },
      "source": [
        "ind = ind_from_att(0, 0, 0, 0, 0, 0)\n",
        "vae.run_img(imgs[ind], latents_classes[ind])"
      ],
      "execution_count": 9,
      "outputs": [
        {
          "output_type": "display_data",
          "data": {
            "image/png": "[encoded data removed]",
            "text/plain": [
              "<Figure size 288x360 with 1 Axes>"
            ]
          },
          "metadata": {
            "tags": []
          }
        }
      ]
    },
    {
      "cell_type": "markdown",
      "metadata": {
        "id": "xlaAqj7ZTtrW",
        "colab_type": "text"
      },
      "source": [
        "Now choosing a big rotated ellipse."
      ]
    },
    {
      "cell_type": "code",
      "metadata": {
        "id": "vR1ia-pATgwD",
        "colab_type": "code",
        "colab": {
          "base_uri": "https://localhost:8080/",
          "height": 187
        },
        "outputId": "4f4f322e-6aee-4e00-e4bc-0911660d49a8"
      },
      "source": [
        "ind = ind_from_att(0, 1, 5, 34, 20, 0)\n",
        "vae.run_img(imgs[ind], latents_classes[ind])"
      ],
      "execution_count": 10,
      "outputs": [
        {
          "output_type": "display_data",
          "data": {
            "image/png": "[encoded data removed]",
            "text/plain": [
              "<Figure size 288x360 with 1 Axes>"
            ]
          },
          "metadata": {
            "tags": []
          }
        }
      ]
    },
    {
      "cell_type": "markdown",
      "metadata": {
        "id": "JXsVFOywTzRe",
        "colab_type": "text"
      },
      "source": [
        "The next step is to see the capability of the variational autoencoder to recreate the image when one attribute is changed in the Z space.\n",
        "We choose a image from the dataset, encode it into the Z space, draw a sample and when we are going to pass it through the decoder, we change one of the attributes of the image.\n",
        "\n",
        "Using the same image as above, we are going to change it shape."
      ]
    },
    {
      "cell_type": "code",
      "metadata": {
        "id": "mCjQ0cf8UNgO",
        "colab_type": "code",
        "colab": {
          "base_uri": "https://localhost:8080/",
          "height": 881
        },
        "outputId": "fc0b06ae-f6ea-42f0-fe57-c7b92935616a"
      },
      "source": [
        "vae.change_attribute(imgs[ind], latents_classes[ind])"
      ],
      "execution_count": 11,
      "outputs": [
        {
          "output_type": "stream",
          "text": [
            "Attribute changed was b'shape'\n"
          ],
          "name": "stdout"
        },
        {
          "output_type": "display_data",
          "data": {
            "image/png": "[encoded data removed]",
            "text/plain": [
              "<Figure size 288x1080 with 3 Axes>"
            ]
          },
          "metadata": {
            "tags": []
          }
        }
      ]
    },
    {
      "cell_type": "markdown",
      "metadata": {
        "id": "_vZPVxyLWCpd",
        "colab_type": "text"
      },
      "source": [
        "Now changing the orientation."
      ]
    },
    {
      "cell_type": "code",
      "metadata": {
        "id": "syc2E966WB7Y",
        "colab_type": "code",
        "colab": {
          "base_uri": "https://localhost:8080/",
          "height": 881
        },
        "outputId": "1f847db5-f8f2-4b1a-d4d5-a8e8f8e32d31"
      },
      "source": [
        "vae.change_attribute(imgs[ind], latents_classes[ind], attribute=3)"
      ],
      "execution_count": 14,
      "outputs": [
        {
          "output_type": "stream",
          "text": [
            "Attribute changed was b'orientation'\n"
          ],
          "name": "stdout"
        },
        {
          "output_type": "display_data",
          "data": {
            "image/png": "[encoded data removed]",
            "text/plain": [
              "<Figure size 288x1080 with 3 Axes>"
            ]
          },
          "metadata": {
            "tags": []
          }
        }
      ]
    }
  ]
}