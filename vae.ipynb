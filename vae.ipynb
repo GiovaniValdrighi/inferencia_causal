{
  "nbformat": 4,
  "nbformat_minor": 0,
  "metadata": {
    "colab": {
      "name": "vae.ipynb",
      "provenance": [],
      "collapsed_sections": [],
      "machine_shape": "hm",
      "include_colab_link": true
    },
    "kernelspec": {
      "name": "python3",
      "display_name": "Python 3"
    },
    "accelerator": "GPU"
  },
  "cells": [
    {
      "cell_type": "markdown",
      "metadata": {
        "id": "view-in-github",
        "colab_type": "text"
      },
      "source": [
        "<a href=\"https://colab.research.google.com/github/GiovaniValdrighi/inferencia_causal/blob/master/vae.ipynb\" target=\"_parent\"><img src=\"https://colab.research.google.com/assets/colab-badge.svg\" alt=\"Open In Colab\"/></a>"
      ]
    },
    {
      "cell_type": "markdown",
      "metadata": {
        "id": "dd2vuD3C7Bd4",
        "colab_type": "text"
      },
      "source": [
        "Estudo de variational autoencoder através do texto: https://towardsdatascience.com/understanding-variational-autoencoders-vaes-f70510919f73\n",
        "\n",
        "Implementação de variational autoencoder com Pyro através do texto: https://pyro.ai/examples/vae.html\n",
        "\n",
        "#Variational Autoencoder\n",
        "\n",
        "De modo simples, um **autoencoder** é um método utilizado para diminuir a dimensão de informação. Utilizando de redes neurais criamos duas, um **encoder** e um **decoder**. Seja nossa informação **X** uma matriz de dimensão **(n m)**, o encoder é uma rede neural responsável por transformar **X** para uma dimensão menor, se tornará o que chamamos de **variável latente**, **Z**. Em seguida, o decoder é responsável por transformar **Z** para as dimensões originais, teremos a matriz **X'**. O aprendizado da rede neural ocorre atráves da otimização da distância entre **X** e **X'**. \n",
        "\n",
        "No entanto, em um autoencoder simples, o espaço latente não é estável, isto é, valores similhares de **Z** não são similares à **X'**. Para isto, utilizamos de um **variational autoencoder**. A diferença é que transformamos **X** em uma distribuição no espaço latente, e não um valor constante. Assim, para recuperarmos com o decoder, utilizamos de uma amostra aleatória da distribuição do espaço latente, e por consequência do método de treinamento, teremos um decoder que leva amostras aleatórias semlehantes para **X'** semelhantes. Por conveniência, a distribuição do espaço latente é uma Gaussiana, sendo assim,o encoder ao receber **X** retorna a média e a variância da distribuição, geramos uma amostra aleatória de uma normal padrão e por fim repassamos a variável latente para o decoder.\n",
        "\n",
        "O nosso objetivo é utilizar o banco de dados Deepmind Dsprites que contém um conjunto de figuras 64x64 com 6 características: cor, forma, escala, orientação, posição no eixo X e posição no eixo Y. Geralmente, este banco de dados é utilizado para a verificação de métodos de \"desembaraço\" (desintanglement), isto é, desejamos avaliar a capacidade das dimensões do espaço latente representarem as características que geraram o banco de dados. Nesta situação, iremos utilizar esse banco de dados para construir uma SCM e realizar perguntas contrafactuais. \n",
        "\n",
        "A primeira etapa é a construção de um variational autoencoder simples utilizando o banco de dados. Para lidar com a distribuição, iremos utilizar da biblioteca Pyro. Possuímos duas redes neurais, o encoder e o decoder.\n",
        "\n",
        "## Encoder\n",
        "Rede neural resposável por receber um vetor **img** 1x4096 dos pixels de uma figura e um vetor **label** categórico 1x114 contendo as características (cor, forma, escala, orientação, pos. X, pos. Y) da figura. Os dois vetores são concatenados em um vetor **data** 1x4210. Realizamos uma transformação linear que vai do espaço 1x4210 para o espaço 1x1000, criando a variável **hidden**, em seguida, transformamos do espaço 1x1000 para o espaço latente de dimensão 1x200. Geramos duas variáveis latentes utilizando de duas transformações lineares: a **média** (vetor 1x200) e a **variância** (vetor 1x200). \n",
        "\n",
        "##Decoder\n",
        "Rede neural responsável por receber um vetor **latente** 1x200 e um vetor **label** categórico 1x114. Os dois valores são concatenados em um **data** 1x314. Em seguida utilizamos uma transformação linear para o espaço 1x1000 gerando a variável **hidden**. A partir dessa variável, iremos realizar uma transformação linear para o espaço original 1x4210 obtendo a variável **img'**.\n",
        "\n",
        "##Inferência variancional\n",
        "O método de inferência que iremos utilizar para as redes neurais utiliza do SVI do Pyro. Para o SVI devemos definir 2 funções estocásticas, o modelo e o guide. O modelo é uma função estocástica de variáveis latentes **z** retornando a imagem **x**. O guide é uma função estocástica da imagem **x** para as variáveis latents **z**.\n",
        "\n",
        "##Modelo\n",
        "O modelo é uma função estocástica que recebe a **imagem** 256x4096 e o **label** 256x114, 256 é a dimensão do nosso batch, utilizando o pyro.plate declaramos independência na dimensão do batch. Criamos um vetor média 256x200 e um vetor de variância 256x200 da normal padrão, em seguida geramos uma amostra da variável aleatória **latent** (definida com o pyro), e geramos uma variável aleatória para o label (será explicado depois), e passamos as duas amostras para decoder, que retornará uma matriz 256x4210 sendo a nossa imagem. Por fim, definimos a variável aleatória **loc**, que segue uma distribuição bernoulli com parâmetro igual a **loc** e valor observado igual a **imagem**. \n",
        "\n",
        "##Guide\n",
        "O guide é uma função estocástica que recebe a **imagem** 256x4096 e o **label** 256x114, 256 é a dimensão do nosso batch, utilizando o pyro.plate declaramos independência na dimensão do batch. Geramos uma variável aleatória para o label e passamos para o encoder a imagem e variável aleatória label, obtemos a média e a variância da normal e geramos uma amostra da variável aleatória **latent**."
      ]
    },
    {
      "cell_type": "code",
      "metadata": {
        "id": "fMenvPXS9mEE",
        "colab_type": "code",
        "outputId": "1ce2f7f8-4e02-4670-d339-610972c6fbd8",
        "colab": {
          "base_uri": "https://localhost:8080/",
          "height": 121
        }
      },
      "source": [
        "from google.colab import drive\n",
        "drive.mount('/content/gdrive')"
      ],
      "execution_count": 14,
      "outputs": [
        {
          "output_type": "stream",
          "text": [
            "Go to this URL in a browser: https://accounts.google.com/o/oauth2/auth?client_id=947318989803-6bn6qk8qdgf4n4g3pfee6491hc0brc4i.apps.googleusercontent.com&redirect_uri=urn%3aietf%3awg%3aoauth%3a2.0%3aoob&response_type=code&scope=email%20https%3a%2f%2fwww.googleapis.com%2fauth%2fdocs.test%20https%3a%2f%2fwww.googleapis.com%2fauth%2fdrive%20https%3a%2f%2fwww.googleapis.com%2fauth%2fdrive.photos.readonly%20https%3a%2f%2fwww.googleapis.com%2fauth%2fpeopleapi.readonly\n",
            "\n",
            "Enter your authorization code:\n",
            "··········\n",
            "Mounted at /content/gdrive\n"
          ],
          "name": "stdout"
        }
      ]
    },
    {
      "cell_type": "code",
      "metadata": {
        "id": "l2zs7JHz9ozQ",
        "colab_type": "code",
        "colab": {}
      },
      "source": [
        "from pydrive.auth import GoogleAuth\n",
        "from pydrive.drive import GoogleDrive\n",
        "from google.colab import auth\n",
        "from oauth2client.client import GoogleCredentials\n",
        "\n",
        "auth.authenticate_user()\n",
        "gauth = GoogleAuth()\n",
        "gauth.credentials = GoogleCredentials.get_application_default()\n",
        "drive = GoogleDrive(gauth)"
      ],
      "execution_count": 0,
      "outputs": []
    },
    {
      "cell_type": "code",
      "metadata": {
        "id": "R3NFYw1nGK5v",
        "colab_type": "code",
        "outputId": "3aae90b5-9671-4451-dc3e-c8901d9d8b4f",
        "colab": {
          "base_uri": "https://localhost:8080/",
          "height": 592
        }
      },
      "source": [
        "!pip3 install -q http://download.pytorch.org/whl/{accelerator}/torch-0.4.0-{platform}-linux_x86_64.whl\n",
        "!pip3 install torchvision\n",
        "!pip3 install pyro-ppl"
      ],
      "execution_count": 16,
      "outputs": [
        {
          "output_type": "stream",
          "text": [
            "\u001b[31mERROR: torch-0.4.0-{platform}-linux_x86_64.whl is not a valid wheel filename.\u001b[0m\n",
            "Requirement already satisfied: torchvision in /usr/local/lib/python3.6/dist-packages (0.4.2)\n",
            "Requirement already satisfied: torch==1.3.1 in /usr/local/lib/python3.6/dist-packages (from torchvision) (1.3.1)\n",
            "Requirement already satisfied: pillow>=4.1.1 in /usr/local/lib/python3.6/dist-packages (from torchvision) (6.2.2)\n",
            "Requirement already satisfied: numpy in /usr/local/lib/python3.6/dist-packages (from torchvision) (1.17.5)\n",
            "Requirement already satisfied: six in /usr/local/lib/python3.6/dist-packages (from torchvision) (1.12.0)\n",
            "Collecting pyro-ppl\n",
            "\u001b[?25l  Downloading https://files.pythonhosted.org/packages/de/4d/6dc71b764a3d5c9a24b065df8a40af5f0be1ffb272f2cda4a13267964830/pyro_ppl-1.2.0-py3-none-any.whl (470kB)\n",
            "\u001b[K     |████████████████████████████████| 471kB 2.8MB/s \n",
            "\u001b[?25hRequirement already satisfied: opt-einsum>=2.3.2 in /usr/local/lib/python3.6/dist-packages (from pyro-ppl) (3.1.0)\n",
            "Collecting torch>=1.4.0\n",
            "\u001b[?25l  Downloading https://files.pythonhosted.org/packages/24/19/4804aea17cd136f1705a5e98a00618cb8f6ccc375ad8bfa437408e09d058/torch-1.4.0-cp36-cp36m-manylinux1_x86_64.whl (753.4MB)\n",
            "\u001b[K     |████████████████████████████████| 753.4MB 21kB/s \n",
            "\u001b[?25hCollecting tqdm>=4.36\n",
            "\u001b[?25l  Downloading https://files.pythonhosted.org/packages/72/c9/7fc20feac72e79032a7c8138fd0d395dc6d8812b5b9edf53c3afd0b31017/tqdm-4.41.1-py2.py3-none-any.whl (56kB)\n",
            "\u001b[K     |████████████████████████████████| 61kB 46kB/s \n",
            "\u001b[?25hRequirement already satisfied: numpy>=1.7 in /usr/local/lib/python3.6/dist-packages (from pyro-ppl) (1.17.5)\n",
            "Collecting pyro-api>=0.1.1\n",
            "  Downloading https://files.pythonhosted.org/packages/c2/bc/6cdbd1929e32fff62a33592633c2cc0393c7f7739131ccc9c9c4e28ac8dd/pyro_api-0.1.1-py3-none-any.whl\n",
            "\u001b[31mERROR: torchvision 0.4.2 has requirement torch==1.3.1, but you'll have torch 1.4.0 which is incompatible.\u001b[0m\n",
            "Installing collected packages: torch, tqdm, pyro-api, pyro-ppl\n",
            "  Found existing installation: torch 1.3.1\n",
            "    Uninstalling torch-1.3.1:\n",
            "      Successfully uninstalled torch-1.3.1\n",
            "  Found existing installation: tqdm 4.28.1\n",
            "    Uninstalling tqdm-4.28.1:\n",
            "      Successfully uninstalled tqdm-4.28.1\n",
            "Successfully installed pyro-api-0.1.1 pyro-ppl-1.2.0 torch-1.4.0 tqdm-4.41.1\n"
          ],
          "name": "stdout"
        },
        {
          "output_type": "display_data",
          "data": {
            "application/vnd.colab-display-data+json": {
              "pip_warning": {
                "packages": [
                  "tqdm"
                ]
              }
            }
          },
          "metadata": {
            "tags": []
          }
        }
      ]
    },
    {
      "cell_type": "code",
      "metadata": {
        "id": "BK8JOHlXF0kF",
        "colab_type": "code",
        "colab": {}
      },
      "source": [
        "import pandas as pd\n",
        "import numpy as np\n",
        "import matplotlib.pyplot as plt\n",
        "import pyro\n",
        "import pyro.distributions\n",
        "import pyro.infer\n",
        "import pyro.optim\n",
        "import torchvision.transforms as transforms\n",
        "import torch\n",
        "import torch.nn as nn\n",
        "import networkx as nx\n",
        "from tqdm import tqdm\n",
        "import matplotlib.pyplot as plt"
      ],
      "execution_count": 0,
      "outputs": []
    },
    {
      "cell_type": "markdown",
      "metadata": {
        "id": "icsHBreVG7NK",
        "colab_type": "text"
      },
      "source": [
        "As propriedades latentes das imagens são: shape, scale, size, position X e position Y. Vou criar um DAG para inserir relações causais entre as variáveis e em seguida criar um SCM para este DAG."
      ]
    },
    {
      "cell_type": "code",
      "metadata": {
        "id": "kRuT7fPdHN9A",
        "colab_type": "code",
        "outputId": "195897ea-8ab0-43fc-f612-4cc126b17721",
        "colab": {
          "base_uri": "https://localhost:8080/",
          "height": 34
        }
      },
      "source": [
        "dataset_zip = np.load('/content/gdrive/My Drive/autoencoder/dsprites_ndarray_co1sh3sc6or40x32y32_64x64.npz', allow_pickle = True, encoding = 'bytes')\n",
        "print('Keys in the dataset:', dataset_zip.files)\n",
        "imgs = dataset_zip['imgs']\n",
        "latents_values = dataset_zip['latents_values']\n",
        "latents_classes = dataset_zip['latents_classes']\n",
        "latents_sizes = dataset_zip['metadata'][()][b'latents_sizes']\n",
        "latents_names = dataset_zip['metadata'][()][b'latents_names']"
      ],
      "execution_count": 18,
      "outputs": [
        {
          "output_type": "stream",
          "text": [
            "Keys in the dataset: ['metadata', 'imgs', 'latents_classes', 'latents_values']\n"
          ],
          "name": "stdout"
        }
      ]
    },
    {
      "cell_type": "code",
      "metadata": {
        "id": "3CBn8GcJDtk8",
        "colab_type": "code",
        "colab": {}
      },
      "source": [
        "#function that pick images from the dataset and return the batchs\n",
        "#with test and training data\n",
        "def setup_data_loader(images, classes, batch_size = 128, use_CUDA = False):\n",
        "  #create the dataframes for training and test from the dataset_zip['imgs]\n",
        "  index = np.random.permutation(imgs.shape[0])\n",
        "  images = images[index].astype(np.float32)\n",
        "  classes = classes[index].astype(np.float32)\n",
        "  train_df = torch.utils.data.TensorDataset(torch.from_numpy(images[100000:].reshape(-1, 4096)), torch.from_numpy(classes[100000:]))\n",
        "  test_df = torch.utils.data.TensorDataset(torch.from_numpy(images[:100000].reshape(-1, 4096)), torch.from_numpy(classes[:100000]))\n",
        "  #creates a iterable dataset to train and test, each iteration have batch_size rows of data\n",
        "  kwargs = {'num_workers': 1, 'pin_memory': use_CUDA}\n",
        "  train_loader = torch.utils.data.DataLoader(train_df, batch_size, shuffle = False, **kwargs)\n",
        "  test_loader = torch.utils.data.DataLoader(test_df, batch_size, shuffle = False, **kwargs)\n",
        "  return train_loader, test_loader\n",
        "\n",
        "class Encoder(nn.Module):\n",
        "  '''This class receive the images data as vectors 1x4096\n",
        "  and the labels of the figure in the image as a 1x114 vector (dummy variables) \n",
        "  and should encode it to the latent space as mean and variance of\n",
        "  a normal distribution\n",
        "\n",
        "  :param img_dim: dimension of image vector\n",
        "  :param label_dim: dimension of label vector\n",
        "  :param latent_dim: dimension of latent space, output\n",
        "  '''\n",
        "  def __init__(self, img_dim = 4096, label_dim = 114, latent_dim = 200):\n",
        "    super(Encoder, self).__init__()\n",
        "    self.img_dim = img_dim\n",
        "    self.label_dim = label_dim\n",
        "    self.latent_dim = latent_dim \n",
        "    #linear transformations used\n",
        "    self.fc1 = nn.Linear(img_dim + label_dim, 1000)\n",
        "    self.fc21 = nn.Linear(1000, latent_dim)\n",
        "    self.fc22 = nn.Linear(1000, latent_dim)\n",
        "    #non-linear transformation used\n",
        "    self.softplus = nn.Softplus()\n",
        "\n",
        "  def forward(self, img, label):\n",
        "    #use the transformation to get the hidden variable\n",
        "    data = torch.cat((img, label), -1)\n",
        "    hidden = self.softplus(self.fc1(data))\n",
        "    #use the transformation to get the mean and the variance\n",
        "    mean_z = self.fc21(hidden)\n",
        "    cov_z = torch.exp(self.fc22(hidden))\n",
        "    return mean_z, cov_z\n",
        "\n",
        "\n",
        "class Decoder(nn.Module):\n",
        "  '''This class receive a sample of the latent variable\n",
        "  and return the image as a data vector 1x4096 and\n",
        "  the latent classes as a vector 1x5\n",
        "\n",
        "  :param img_dim: dimension of image vector\n",
        "  :param label_dim: dimension of label vector\n",
        "  :param latent_dim: dimension of latent space, output\n",
        "  '''\n",
        "  def __init__(self, img_dim = 4096, label_dim = 114, latent_dim = 200):\n",
        "    super(Decoder, self).__init__()\n",
        "    self.img_dim = img_dim\n",
        "    self.label_dim = label_dim\n",
        "    self.latent_dim = latent_dim\n",
        "    #linear transformations used\n",
        "    self.fc1 = nn.Linear(latent_dim+label_dim, 1000)\n",
        "    self.fc2 = nn.Linear(1000, img_dim)\n",
        "    #non-linear transformations used\n",
        "    self.softplus = nn.Softplus()\n",
        "    self.sigmoid = nn.Sigmoid()\n",
        "\n",
        "  def forward(self, latent, label):\n",
        "    #use the transformation to get the hidden variable\n",
        "    data = torch.cat((latent, label), -1)\n",
        "    hidden = self.softplus(self.fc1(data))\n",
        "    #use the transformation to get the image\n",
        "    image = self.sigmoid(self.fc2(hidden))\n",
        "    return image\n",
        "\n",
        "class VAE(nn.Module):\n",
        "  '''\n",
        "  This class define the p(z|x) and the p(x|z)\n",
        "  and use the scm model to call the encoder and\n",
        "  decoder\n",
        "\n",
        "  \n",
        "  :param img_dim: dimension of image vector\n",
        "  :param label_dim: dimension of label vector\n",
        "  :param latent_dim: dimension of latent space, output\n",
        "  '''\n",
        "  def __init__(self, latents_sizes, latents_names, img_dim = 4096, label_dim = 114, latent_dim = 200, use_CUDA = False):\n",
        "    super(VAE, self).__init__()\n",
        "    #creating networks\n",
        "    self.encoder = Encoder(img_dim, label_dim, latent_dim)\n",
        "    self.decoder = Decoder(img_dim, label_dim, latent_dim)\n",
        "    self.img_dim = img_dim\n",
        "    self.label_dim = label_dim\n",
        "    self.latent_dim = latent_dim\n",
        "    self.latents_sizes = latents_sizes\n",
        "    self.latents_names = latents_names\n",
        "    if use_CUDA:\n",
        "      print('Ativei o self.cuda()')\n",
        "      self.cuda()\n",
        "    self.use_CUDA = use_CUDA\n",
        "  \n",
        "  def label_variable(self, label):\n",
        "    new_label = []\n",
        "    options = {'device': label.device, 'dtype': label.dtype}\n",
        "    for i, length in enumerate(self.latents_sizes):\n",
        "      prior = torch.ones(label.shape[0], length, **options) / (1.0 *length)\n",
        "      new_label.append(pyro.sample(\"label_\" + str(self.latents_names[i]), \n",
        "                      pyro.distributions.OneHotCategorical(prior), \n",
        "                      obs = torch.nn.functional.one_hot(torch.tensor(label[:, i], dtype = torch.int64), int(length))))\n",
        "    new_label = torch.cat(new_label, -1)\n",
        "    return new_label.to(torch.float32).to(label.device)\n",
        "\n",
        "  def model(self, img, label):\n",
        "    '''\n",
        "    Function in the VAE that defines\n",
        "    p(x|z)\n",
        "    '''\n",
        "    pyro.module(\"decoder\", self.decoder)\n",
        "    options = {'device': img.device, 'dtype': img.dtype}\n",
        "    with pyro.plate(\"data\", img.shape[0]):\n",
        "      z_mean = torch.zeros(img.shape[0], self.latent_dim, **options)\n",
        "      z_variance = torch.ones(img.shape[0], self.latent_dim, **options)\n",
        "      z_sample = pyro.sample(\"latent\", pyro.distributions.Normal(z_mean, z_variance).to_event(1))\n",
        "      image = self.decoder.forward(z_sample, self.label_variable(label))\n",
        "      pyro.sample(\"obs\", pyro.distributions.Bernoulli(image).to_event(1), obs = img)\n",
        "\n",
        "\n",
        "  def guide(self, img, label):\n",
        "    '''\n",
        "    Function that is the guide to the model\n",
        "    shape, scale, orientation, posX, posY = g(img)\n",
        "    the p(z|x) use on the encoder\n",
        "    '''\n",
        "    pyro.module(\"encoder\", self.encoder)\n",
        "    with pyro.plate(\"data\", img.shape[0]):\n",
        "      z_mean, z_variance = self.encoder.forward(img, self.label_variable(label))\n",
        "      pyro.sample(\"latent\", pyro.distributions.Normal(z_mean, z_variance).to_event(1))\n"
      ],
      "execution_count": 0,
      "outputs": []
    },
    {
      "cell_type": "code",
      "metadata": {
        "id": "65UEhCnX930C",
        "colab_type": "code",
        "colab": {}
      },
      "source": [
        "pyro.enable_validation(True)\n",
        "pyro.clear_param_store()\n",
        "#the training routine\n",
        "use_CUDA = False\n",
        "train_loader, test_loader = setup_data_loader(imgs, latents_classes, use_CUDA = use_CUDA)\n",
        "vae = VAE(latents_sizes, latents_names, use_CUDA = use_CUDA)"
      ],
      "execution_count": 0,
      "outputs": []
    },
    {
      "cell_type": "code",
      "metadata": {
        "id": "pyMu-7v499KZ",
        "colab_type": "code",
        "outputId": "0f649f09-8394-452e-de76-a82e1519aca3",
        "colab": {
          "base_uri": "https://localhost:8080/",
          "height": 34
        }
      },
      "source": [
        "vae.load_state_dict(torch.load('/content/gdrive/My Drive/trained_movel_epoch_24.save'))"
      ],
      "execution_count": 21,
      "outputs": [
        {
          "output_type": "execute_result",
          "data": {
            "text/plain": [
              "<All keys matched successfully>"
            ]
          },
          "metadata": {
            "tags": []
          },
          "execution_count": 21
        }
      ]
    },
    {
      "cell_type": "markdown",
      "metadata": {
        "id": "jpwa5Qx2fyLo",
        "colab_type": "text"
      },
      "source": [
        "## Código abaixo deve ser rodado apenas em caso de treinamento do variational autoencoder."
      ]
    },
    {
      "cell_type": "code",
      "metadata": {
        "id": "vu8kGO5K-Wyq",
        "colab_type": "code",
        "colab": {}
      },
      "source": [
        "\n",
        "#optimizer\n",
        "optimizer = pyro.optim.Adam({\"lr\" : 1.0e-3})\n",
        "\n",
        "#inference algorithm\n",
        "elbo = pyro.infer.Trace_ELBO()\n",
        "svi = pyro.infer.SVI(vae.model, vae.guide, optimizer, elbo)\n",
        "\n",
        "train_elbo = []\n",
        "test_elbo = []\n",
        "num_epochs = 70\n",
        "test_freq = 8\n",
        "for epoch in tqdm(range(num_epochs)):\n",
        "  epoch_loss = 0.\n",
        "  for (img, label) in train_loader:\n",
        "    if use_CUDA:\n",
        "      print('check')\n",
        "      img = img.cuda()\n",
        "      label = label.to(img.device)\n",
        "    epoch_loss += svi.step(img, label)\n",
        "  total_epoch_loss_train = epoch_loss/len(train_loader)\n",
        "  train_elbo.append(total_epoch_loss_train)\n",
        "  print(\"epoch: \" + str(epoch) + \" average training loss: \" + str(epoch_loss))\n",
        "\n",
        "  if epoch % test_freq == 0:\n",
        "    test_loss = 0\n",
        "    for (img, label) in test_loader:\n",
        "      if use_CUDA:\n",
        "        print('check2')\n",
        "        img = img.cuda()\n",
        "        label = label.to(img.device)\n",
        "      test_loss += svi.evaluate_loss(img, label)\n",
        "    total_epoch_loss_test  = epoch_loss/len(test_loader)\n",
        "    test_elbo.append(total_epoch_loss_test)\n",
        "    torch.save(vae.state_dict(), '/content/gdrive/My Drive/trained_movel_epoch_'+ str(epoch) + '.save')"
      ],
      "execution_count": 0,
      "outputs": []
    },
    {
      "cell_type": "code",
      "metadata": {
        "id": "4z6pxElJf5Dq",
        "colab_type": "code",
        "colab": {}
      },
      "source": [
        "def dummy_from_label(label):\n",
        "  sizes = [1, 3, 6, 40, 32, 32]\n",
        "  dummy = []\n",
        "  for i, length in enumerate(sizes):\n",
        "    dummy.append(torch.nn.functional.one_hot(torch.tensor(label[:, i], dtype = torch.int64), int(length)))\n",
        "  return torch.cat(dummy, -1).to(torch.float32)\n",
        "\n",
        "def run_img_vae(img, label, num = 1):\n",
        "  label = label.reshape(1, -6)\n",
        "  dummy_label = dummy_from_label(label)\n",
        "  img = torch.tensor(img.reshape(-1, 4096)).to(torch.float32)\n",
        "  mean, var = vae.encoder.forward(img, dummy_label)\n",
        "\n",
        "  fig = plt.figure(figsize = (4, num*5))\n",
        "  plots = []\n",
        "  plots.append(plt.subplot(num+1, 1, 1))\n",
        "  plots[0].set_title('Original image')\n",
        "  plt.imshow(img.reshape(64, 64))\n",
        "  \n",
        "  for i in range(1, num):\n",
        "    z_sample = pyro.distributions.Normal(mean, var).sample()\n",
        "    vae_img = vae.decoder.forward(z_sample, dummy_label)\n",
        "    plots.append(plt.subplot(num+1, 1, i+1))\n",
        "    plots[-1].set_title(str(i) +' - sample of latent space')\n",
        "    plt.imshow(vae_img.detach().numpy().reshape(64, 64))\n",
        "  plt.show()\n",
        "\n",
        "def change_attribute(img, label, attribute = 1):\n",
        "  print('Attribute changed was ' + str(latents_names[attribute]))\n",
        "  label = label.reshape(1, -6)\n",
        "  new_label = label2 = np.copy(label)\n",
        "  k = np.random.choice(list(range(latents_sizes[attribute]))) \n",
        "  new_label[0, attribute] = k if new_label[0, attribute] != k else k + 1.0\n",
        "  new_label[0, attribute] = new_label[0, attribute] if new_label[0, attribute] <= latents_sizes[attribute] else new_label[0, attribute] - 2.0 \n",
        "  dummy_label = dummy_from_label(label)\n",
        "  new_dummy = dummy_from_label(new_label)\n",
        "  img = torch.tensor(img.reshape(-1, 4096)).to(torch.float32)\n",
        "  mean, var = vae.encoder.forward(img, dummy_label)\n",
        "  \n",
        "  fig = plt.figure(figsize = (4, 15))\n",
        "  plots = []\n",
        "  plots.append(plt.subplot(3, 1, 1))\n",
        "  plots[0].set_title('Original image')\n",
        "  plt.imshow(img.reshape(64, 64))\n",
        "  z_sample = pyro.distributions.Normal(mean, var).sample()\n",
        "  vae_img = vae.decoder.forward(z_sample, dummy_label)\n",
        "  plots.append(plt.subplot(3, 1, 2))\n",
        "  plots[1].set_title('Sample with original attribute')\n",
        "  plt.imshow(vae_img.detach().numpy().reshape(64, 64))\n",
        "  z_sample = pyro.distributions.Normal(mean, var).sample()\n",
        "  vae_img = vae.decoder.forward(z_sample, new_dummy)\n",
        "  plots.append(plt.subplot(3, 1, 3))\n",
        "  plots[2].set_title('Sample with changed attribute')\n",
        "  plt.imshow(vae_img.detach().numpy().reshape(64, 64))\n",
        "  plt.show()\n",
        "\n",
        "\n",
        "def ind_from_att(color, shape, scale, orientation, posX, posY):\n",
        "  return (color - 1)*3*6*40*32*32 + (shape - 1)*6*40*32*32 + (scale -1)*40*32*32 + (orientation - 1)*32*32 + (posX - 1)*32 + posY "
      ],
      "execution_count": 0,
      "outputs": []
    },
    {
      "cell_type": "code",
      "metadata": {
        "id": "SSP5YIV7hwpM",
        "colab_type": "code",
        "outputId": "e335b505-0307-430b-8ee0-8afdbac5bc60",
        "colab": {
          "base_uri": "https://localhost:8080/",
          "height": 667
        }
      },
      "source": [
        "run_img_vae(imgs[0], latents_classes[0], num = 3)"
      ],
      "execution_count": 23,
      "outputs": [
        {
          "output_type": "display_data",
          "data": {
            "image/png": "[encoded data removed]",
            "text/plain": [
              "<Figure size 288x1080 with 3 Axes>"
            ]
          },
          "metadata": {
            "tags": []
          }
        }
      ]
    },
    {
      "cell_type": "code",
      "metadata": {
        "id": "rljTmsUXkMqC",
        "colab_type": "code",
        "outputId": "134f01b6-a76e-41d8-cff9-7529514e177a",
        "colab": {
          "base_uri": "https://localhost:8080/",
          "height": 667
        }
      },
      "source": [
        "ind = np.random.randint(imgs.shape[0])\n",
        "run_img_vae(imgs[ind], latents_classes[ind], num = 3)"
      ],
      "execution_count": 24,
      "outputs": [
        {
          "output_type": "display_data",
          "data": {
            "image/png": "[encoded data removed]",
            "text/plain": [
              "<Figure size 288x1080 with 3 Axes>"
            ]
          },
          "metadata": {
            "tags": []
          }
        }
      ]
    },
    {
      "cell_type": "code",
      "metadata": {
        "id": "43QhoVvqiFDi",
        "colab_type": "code",
        "outputId": "aa5e258b-ac51-4b4f-97f1-aee6ddfa976f",
        "colab": {
          "base_uri": "https://localhost:8080/",
          "height": 667
        }
      },
      "source": [
        "run_img_vae(imgs[ind_from_att(1, 2, 5, 15, 20, 20)], latents_classes[ind_from_att(1, 2, 5, 15, 20, 20)], num = 3)"
      ],
      "execution_count": 25,
      "outputs": [
        {
          "output_type": "display_data",
          "data": {
            "image/png": "[encoded data removed]",
            "text/plain": [
              "<Figure size 288x1080 with 3 Axes>"
            ]
          },
          "metadata": {
            "tags": []
          }
        }
      ]
    },
    {
      "cell_type": "code",
      "metadata": {
        "id": "zM3cyZsTlZ8s",
        "colab_type": "code",
        "outputId": "4a70d2d5-3128-4b2c-a88d-83188174c61e",
        "colab": {
          "base_uri": "https://localhost:8080/",
          "height": 880
        }
      },
      "source": [
        "change_attribute(imgs[ind_from_att(1, 2, 5, 15, 20, 20)], latents_classes[ind_from_att(1, 2, 5, 15, 20, 20)])"
      ],
      "execution_count": 26,
      "outputs": [
        {
          "output_type": "stream",
          "text": [
            "Attribute changed was b'shape'\n"
          ],
          "name": "stdout"
        },
        {
          "output_type": "display_data",
          "data": {
            "image/png": "[encoded data removed]",
            "text/plain": [
              "<Figure size 288x1080 with 3 Axes>"
            ]
          },
          "metadata": {
            "tags": []
          }
        }
      ]
    },
    {
      "cell_type": "code",
      "metadata": {
        "id": "GnxAh1zWIE8u",
        "colab_type": "code",
        "outputId": "cbe95501-39e9-4a6e-ed8b-99502dcdb777",
        "colab": {
          "base_uri": "https://localhost:8080/",
          "height": 880
        }
      },
      "source": [
        "change_attribute(imgs[ind_from_att(1, 3, 5, 15, 20, 20)], latents_classes[ind_from_att(1, 3, 5, 15, 20, 20)], attribute = 3)"
      ],
      "execution_count": 30,
      "outputs": [
        {
          "output_type": "stream",
          "text": [
            "Attribute changed was b'orientation'\n"
          ],
          "name": "stdout"
        },
        {
          "output_type": "display_data",
          "data": {
            "image/png": "[encoded data removed]",
            "text/plain": [
              "<Figure size 288x1080 with 3 Axes>"
            ]
          },
          "metadata": {
            "tags": []
          }
        }
      ]
    },
    {
      "cell_type": "markdown",
      "metadata": {
        "id": "beriXjlgJteX",
        "colab_type": "text"
      },
      "source": [
        "## Model\n",
        "The model is the generative process of the images. I invented a causal story that relates the variables: shape, scale, orientation, pos X, pos Y, image.\n",
        "Every variable has a noise, that will be uniform and is a function of other variables, the variables that cause it. The image is a function of the variables, they are the cause, and that function will be represented by our decoder, where it generates the image from the latent sample and the labels.\n",
        "\n",
        "__Noises:__ We will set a uniform with the dimensions of the dummy variable of the corresponding variable. For exemple, the variable shape has the form [0, 0, 1] so We will set a uniform of dimension 3 in the interval [0, 1] for each dimension.\n",
        "\n",
        "Our noise variables are:\n",
        "- N_color ~ U[0,1] dim 1\n",
        "- N_shape ~ U[0,1] dim 3\n",
        "- N_scale ~ U[0,1] dim 6\n",
        "- N_orien ~ U[0,1] dim 40\n",
        "- N_posX ~ U[0,1] dim 32\n",
        "- N_posY ~ U[0,1] dim 32\n",
        "- N_latent ~ U[0,1] dim 200\n",
        "- N_img ~ U[0,1] dim 4096\n",
        "\n",
        "Now we have to set functions for each propertie variable from the noise and other variables. We will use a normal distribution with a low variance to aproximate a Delta Dirac distribution. Our properties variables are:\n",
        "- Color : it's the index of the biggest value of the vector N_color.\n"
      ]
    },
    {
      "cell_type": "code",
      "metadata": {
        "id": "-e2hzRVLmS-t",
        "colab_type": "code",
        "outputId": "68ba27dd-397e-40bf-de0d-3a6fcea55c7b",
        "colab": {
          "base_uri": "https://localhost:8080/",
          "height": 128
        }
      },
      "source": [
        "def f_color(N_color):\n",
        "  _, value = N_color.max(0)\n",
        "  return torch.nn.functional.one_hot(value, 1).to(torch.float32)\n",
        "\n",
        "def f_shape(N_shape):\n",
        "  _, value = N_shape.max(0)\n",
        "  return torch.nn.functional.one_hot(value, 3).to(torch.float32)\n",
        "\n",
        "def f_scale(N_scale):\n",
        "  _, value = N_scale.max(0)\n",
        "  return torch.nn.functional.one_hot(value, 6).to(torch.float32)\n",
        "\n",
        "def f_orien(shape, scale, N_orien):\n",
        "  _, v_shape = shape.max(0)\n",
        "  _, v_scale = scale.max(0)\n",
        "  _, value = N_orien.max(0)\n",
        "  #dic shape scale\n",
        "  dist = {0 : {0:, 1:, 2:, 3:, 4:, 5:,}, \n",
        "          1 : {0:, 1:, 2:, 3:, 4:, 5:,},\n",
        "          2 : {0:, 1:, 2:, 3:, 4:, 5:,}}\n",
        "  \n",
        "  \n",
        "def f_X(N_x):\n",
        "  pass\n",
        "\n",
        "def f_Y(N_y):\n",
        "  pass\n",
        "\n",
        "  \n",
        "def model(noise):\n",
        "\n",
        "  #Noise variables\n",
        "  N_color = pyro.sample('N_color', noise['color'].to_event(1))\n",
        "  N_shape = pyro.sample('N_shape', noise['shape'].to_event(1))\n",
        "  N_scale = pyro.sample('N_scale', noise['scale'].to_event(1))\n",
        "  N_orien = pyro.sample('N_orien', noise['orien'].to_event(1))\n",
        "  N_posX = pyro.sample('N_posX', noise['posX'].to_event(1))\n",
        "  N_posY = pyro.sample('N_posY', noise['posY'].to_event(1))\n",
        "  N_latent = pyro.sample('N_latent', noise['latent'].to_event(1))\n",
        "  N_img = pyro.sample('N_img', noise['img'].to_event(1))\n",
        "\n",
        "  #Variables\n",
        "  color = pyro.sample('color', pyro.distributions.Normal(f_color(N_color), torch.tensor([0.01])))\n",
        "  shape = pyro.sample('shape', pyro.distributions.Normal(f_shape(N_shape), torch.tensor([0.01])))\n",
        "  scale = pyro.sample('scale', pyro.distributions.Normal(f_scale(N_scale), torch.tensor([0.01])))\n",
        "  #orien = pyro.sample('orien', pyro.distributions.Normal(f_orien(scale, shape, N_orien), 10e-2))\n",
        "  #X = pyro.sample('x', pyro.distributions.OneHotCategorical(f_X(N_X)))\n",
        "  #Y = pyro.sample('y', pyro.distributions.OneHotCategorical(f_Y(N_Y)))\n",
        "  print('color : ', color)\n",
        "  print('\\nshape : ', shape)\n",
        "  print('\\nscale : ',  scale)\n",
        "  #label = torch.cat([color, shape, scale, orien, X, Y], -1)\n",
        "\n",
        "  #return label\n",
        "uniform_noise = { 'color' : pyro.distributions.Uniform(torch.zeros(latents_sizes[0]), torch.ones(latents_sizes[0])),\n",
        "                  'shape' : pyro.distributions.Uniform(torch.zeros(latents_sizes[1]), torch.ones(latents_sizes[1])),\n",
        "                  'scale' : pyro.distributions.Uniform(torch.zeros(latents_sizes[2]), torch.ones(latents_sizes[2])),\n",
        "                  'orien' : pyro.distributions.Uniform(torch.zeros(latents_sizes[3]), torch.ones(latents_sizes[3])),\n",
        "                  'posX' : pyro.distributions.Uniform(torch.zeros(latents_sizes[4]), torch.ones(latents_sizes[4])),\n",
        "                  'posY' : pyro.distributions.Uniform(torch.zeros(latents_sizes[5]), torch.ones(latents_sizes[5])),\n",
        "                  'latent' : pyro.distributions.Uniform(torch.zeros(200), torch.ones(200)),\n",
        "                  'img' : pyro.distributions.Uniform(torch.zeros(4096), torch.ones(4096))}\n",
        "\n",
        "model(uniform_noise)"
      ],
      "execution_count": 28,
      "outputs": [
        {
          "output_type": "error",
          "ename": "SyntaxError",
          "evalue": "ignored",
          "traceback": [
            "\u001b[0;36m  File \u001b[0;32m\"<ipython-input-28-4fcde35259f2>\"\u001b[0;36m, line \u001b[0;32m18\u001b[0m\n\u001b[0;31m    dist = {0 : {0:, 1:, 2:, 3:, 4:, 5:,},\u001b[0m\n\u001b[0m                   ^\u001b[0m\n\u001b[0;31mSyntaxError\u001b[0m\u001b[0;31m:\u001b[0m invalid syntax\n"
          ]
        }
      ]
    },
    {
      "cell_type": "markdown",
      "metadata": {
        "id": "6KAHPXTSdfxl",
        "colab_type": "text"
      },
      "source": [
        "#um teste com uma codificação de distribuições diferente"
      ]
    },
    {
      "cell_type": "code",
      "metadata": {
        "id": "aQn3W2iXdfGN",
        "colab_type": "code",
        "outputId": "00afe128-d061-4cb4-c285-4b6ab4a48948",
        "colab": {
          "base_uri": "https://localhost:8080/",
          "height": 252
        }
      },
      "source": [
        "def f_color(N_color):\n",
        "  return N_color\n",
        "\n",
        "def f_shape(N_shape):\n",
        "  return N_shape\n",
        "\n",
        "def f_scale(shape, N_scale):\n",
        "  _, v_shape = shape.max(0)\n",
        "  v_shape = int(v_shape)\n",
        "  probs = {0 : [.1, .2, .3, .5, .7, 1],\n",
        "           1: [1/6, 2/6, 3/6, 4/6, 5/6, 1],\n",
        "           2 :[.3, .5, .7, .8, .9, 1]}\n",
        "  if N_scale <= probs[v_shape][0]:\n",
        "    return torch.tensor([1., 0., 0., 0., 0., 0.])\n",
        "  for i in range(len(probs[v_shape]) - 1):\n",
        "    if probs[v_shape][i] <= N_scale <= probs[v_shape][i+1]:\n",
        "      return torch.nn.functional.one_hot(torch.tensor([i+1]), 6).to(torch.float32)\n",
        "\n",
        "def f_orien(shape, N_orien):\n",
        "  _, v_shape = shape.max(0)\n",
        "  v_shape = int(v_shape)\n",
        "  probs = {0: [0.025*i for i in range(1,41)],\n",
        "           1: [0.000625*i**2 for i in range(1, 41)],\n",
        "           2: [0.000625*i**2 for i in range(1, 41)]}\n",
        "  if N_orien <= probs[v_shape][0]:\n",
        "    return torch.nn.functional.one_hot(torch.tensor([0]), 40).to(torch.float32)\n",
        "  for i in range(len(probs[v_shape]) - 1):\n",
        "    if probs[v_shape][i] <= N_orien <= probs[v_shape][i+1]:\n",
        "      return torch.nn.functional.one_hot(torch.tensor([i+1]), 40).to(torch.float32)\n",
        "  \n",
        "def f_X(N_x):\n",
        "  pass\n",
        "\n",
        "def f_Y(N_y):\n",
        "  pass\n",
        "\n",
        "  \n",
        "def model(noise):\n",
        "\n",
        "  #Noise variables\n",
        "  N_color = pyro.sample('N_color', noise['color'])\n",
        "  N_shape = pyro.sample('N_shape', noise['shape'])\n",
        "  N_scale = pyro.sample('N_scale', noise['scale'])\n",
        "  N_orien = pyro.sample('N_orien', noise['orien'].to_event(1))\n",
        "  N_posX = pyro.sample('N_posX', noise['posX'].to_event(1))\n",
        "  N_posY = pyro.sample('N_posY', noise['posY'].to_event(1))\n",
        "  N_latent = pyro.sample('N_latent', noise['latent'].to_event(1))\n",
        "  N_img = pyro.sample('N_img', noise['img'].to_event(1))\n",
        "  color = pyro.sample('color', pyro.distributions.Normal(f_color(N_color), torch.tensor([0.01])))\n",
        "  shape = pyro.sample('shape', pyro.distributions.Normal(f_shape(N_shape), torch.tensor([0.01])))\n",
        "  scale = pyro.sample('scale', pyro.distributions.Normal(f_scale(shape, N_scale), torch.tensor([0.01])))\n",
        "  orien = pyro.sample('orien', pyro.distributions.Normal(f_orien(shape, N_orien), torch.tensor([0.01])))\n",
        "  #X = pyro.sample('x', pyro.distributions.OneHotCategorical(f_X(N_X)))\n",
        "  #Y = pyro.sample('y', pyro.distributions.OneHotCategorical(f_Y(N_Y)))\n",
        "  print('color : ', color)\n",
        "  print('\\nshape : ', shape)\n",
        "  print('\\nscale : ',  scale)\n",
        "  print('\\norien : ', orien)\n",
        "  #label = torch.cat([color, shape, scale, orien, X, Y], -1)\n",
        "\n",
        "  #return label\n",
        "uniform_noise = { 'color' : pyro.distributions.OneHotCategorical(torch.tensor([1.])),\n",
        "                  'shape' : pyro.distributions.OneHotCategorical(torch.tensor([0.3, 0.4, 0.3])),\n",
        "                  'scale' : pyro.distributions.Uniform(torch.tensor([0.]), torch.tensor([1.])),\n",
        "                  'orien' : pyro.distributions.Uniform(torch.tensor([0.]), torch.tensor([1.])),\n",
        "                  'posX' : pyro.distributions.Uniform(torch.zeros(latents_sizes[4]), torch.ones(latents_sizes[4])),\n",
        "                  'posY' : pyro.distributions.Uniform(torch.zeros(latents_sizes[5]), torch.ones(latents_sizes[5])),\n",
        "                  'latent' : pyro.distributions.Uniform(torch.zeros(200), torch.ones(200)),\n",
        "                  'img' : pyro.distributions.Uniform(torch.zeros(4096), torch.ones(4096))}\n",
        "\n",
        "model(uniform_noise)"
      ],
      "execution_count": 45,
      "outputs": [
        {
          "output_type": "stream",
          "text": [
            "color :  tensor([0.9975])\n",
            "\n",
            "shape :  tensor([-0.0094, -0.0185,  1.0056])\n",
            "\n",
            "scale :  tensor([ 1.0177, -0.0160,  0.0079,  0.0060, -0.0025, -0.0156])\n",
            "\n",
            "orien :  tensor([[ 1.7514e-02, -6.6306e-03,  9.6700e-03, -1.4506e-02,  1.8297e-02,\n",
            "         -3.0806e-03,  8.7881e-03,  7.2598e-03, -8.5276e-03,  1.5321e-04,\n",
            "         -5.7291e-03,  1.9436e-02, -1.6844e-03, -7.4953e-03, -2.1691e-02,\n",
            "         -6.2407e-03, -1.2404e-02,  1.0559e-02, -1.5679e-03,  8.7851e-03,\n",
            "          1.5161e-02, -9.5428e-03,  8.8742e-03, -3.1731e-03, -4.7161e-04,\n",
            "          1.0517e-02,  1.0177e+00,  3.3351e-03, -6.2874e-03,  1.7896e-03,\n",
            "          1.1391e-03, -7.1673e-03,  1.8414e-02,  2.2704e-02, -1.8280e-03,\n",
            "         -1.4354e-02,  1.6252e-02,  4.8962e-03,  5.3006e-03,  7.7610e-04]])\n"
          ],
          "name": "stdout"
        }
      ]
    },
    {
      "cell_type": "code",
      "metadata": {
        "id": "HDvUo7AfStCn",
        "colab_type": "code",
        "colab": {}
      },
      "source": [
        "import matplotlib.pyplot as plt"
      ],
      "execution_count": 0,
      "outputs": []
    },
    {
      "cell_type": "code",
      "metadata": {
        "id": "8OmAvGBRXKHD",
        "colab_type": "code",
        "colab": {
          "base_uri": "https://localhost:8080/",
          "height": 282
        },
        "outputId": "69ee8b05-005c-4560-bf1d-dc46b8770480"
      },
      "source": [
        "plt.plot(range(1, 41), [1/1600 * i**2 for i in range(1, 41)])"
      ],
      "execution_count": 12,
      "outputs": [
        {
          "output_type": "execute_result",
          "data": {
            "text/plain": [
              "[<matplotlib.lines.Line2D at 0x7f914f09af98>]"
            ]
          },
          "metadata": {
            "tags": []
          },
          "execution_count": 12
        },
        {
          "output_type": "display_data",
          "data": {
            "image/png": "[encoded data removed]",
            "text/plain": [
              "<Figure size 432x288 with 1 Axes>"
            ]
          },
          "metadata": {
            "tags": []
          }
        }
      ]
    }
  ]
}