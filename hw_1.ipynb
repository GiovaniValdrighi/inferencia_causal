{
 "cells": [
  {
   "cell_type": "code",
   "execution_count": 11,
   "metadata": {},
   "outputs": [],
   "source": [
    "import torch\n",
    "import pyro\n",
    "import pyro.infer\n",
    "import numpy as np\n",
    "import matplotlib.pyplot as plt\n",
    "\n",
    "pyro.set_rng_seed(101)"
   ]
  },
  {
   "cell_type": "markdown",
   "metadata": {},
   "source": [
    "Toy example - 1\n",
    "\n",
    "Irá girar uma moeda, 0.5 cara e 0.5 coroa. Se cair cara, o jogador vai chutar a bola no gol, se cair coroa não irá chutar. Quando chuva, acerta o gol em 0.65 das vezes.\n",
    "\n",
    "Moeda:\n",
    "- cara = 0\n",
    "- coroa = 1\n",
    "\n",
    "Gol:\n",
    "- acertar gol = 1\n",
    "- errar gol = 0\n",
    "\n",
    "Desejo calcular a probabilidade de que a moeda caiu cara dado que foi observado o gol utilizando o algoritmo de inferência Importance Sampling. Note que o valor real desta probabilidade é 1.0 pois se ocorreu o gol, o jogador chutou e o único caso em que o jogador chuta é se a moeda caiu cara."
   ]
  },
  {
   "cell_type": "code",
   "execution_count": 3,
   "metadata": {},
   "outputs": [
    {
     "name": "stdout",
     "output_type": "stream",
     "text": [
      "A moeda caiu coroa e o jogador não fez o gol.\n",
      "P(moeda = cara| gol = acerto) =  0.9999997838968682\n"
     ]
    }
   ],
   "source": [
    "def print_resul_jogo(tupla):\n",
    "    if tupla[0] == 0:\n",
    "        m = \"cara\"\n",
    "    else:\n",
    "        m = \"coroa\"\n",
    "    if tupla[1] == 0:\n",
    "        g = \"não fez o gol.\"\n",
    "    else:\n",
    "        g = \"fez o gol.\"\n",
    "        \n",
    "    print(\"A moeda caiu \" + m + \" e o jogador \" + g)\n",
    "\n",
    "def jogo_gol():\n",
    "    moeda = pyro.sample(\"moeda\", pyro.distributions.Bernoulli(0.5))\n",
    "    if moeda == 0:\n",
    "        p = 0.6\n",
    "    else:\n",
    "        p = 0\n",
    "    gol = pyro.sample(\"gol\", pyro.distributions.Bernoulli(p))\n",
    "    \n",
    "    return moeda, gol\n",
    "\n",
    "print_resul_jogo(jogo_gol())\n",
    "\n",
    "#vou tentar calcular a probabilidade P(moeda = cara| gol = acertou)\n",
    "conditioned_gol = pyro.condition(jogo_gol, data = {\"gol\": torch.tensor(1.)})\n",
    "posterior = pyro.infer.Importance(conditioned_gol, num_samples=1000)\n",
    "marginal = pyro.infer.EmpiricalMarginal(posterior.run(), sites = 'moeda')\n",
    "print(\"P(moeda = cara| gol = acerto) = \", 1 - marginal.mean.item())"
   ]
  },
  {
   "cell_type": "markdown",
   "metadata": {},
   "source": [
    "Toy example - 2\n",
    "\n",
    "Uma adaptação do modelo anterior para realizar um teste utilizando a distribuição Categorical. Lançamos uma moeda, se cair cara o jogador 1 irá jogar, se cair coroa o jogador 2 irá jogar. O jogo é advinhar o peso de um saquinho de areia e para cada jogador temos as situações: chutou peso abaixo, chutou peso correto, chutou peso acima.\n",
    "\n",
    "Moeda: \n",
    "- cara = 0\n",
    "- coroa = 1\n",
    "\n",
    "Chute do peso:\n",
    "- abaixo = 0\n",
    "- correto = 1\n",
    "- acima = 2\n",
    "\n",
    "Devemos também listar as probabilidades para cada um dos jogadores.\n",
    "Jogador 1:\n",
    "- P(peso abaixo) = 0.30\n",
    "- P(peso correto) = 0.20\n",
    "- P(peso acima) = 0.50\n",
    "\n",
    "Jogador 2:\n",
    "- P(peso abaixo) = 0.5\n",
    "- P(peso correto) = 0.4\n",
    "- P(peso acima) = 0.1\n",
    "\n",
    "Quero saber a probabilidade de que foi o jogador 2 que jogou dado que o chute do peso foi correto. O valor dessa probabilidade é 0.66."
   ]
  },
  {
   "cell_type": "code",
   "execution_count": 4,
   "metadata": {},
   "outputs": [
    {
     "name": "stdout",
     "output_type": "stream",
     "text": [
      "A moeda caiu coroa e o chute do peso do saco de areia foi abaixo.\n",
      "P(moeda = coroa| chute = correto) =  0.6824769377708435\n"
     ]
    }
   ],
   "source": [
    "def print_resultado_saco_areia(tupla):\n",
    "    if tupla[0] == 0:\n",
    "        m = 'cara'\n",
    "    else:\n",
    "        m = 'coroa'\n",
    "    if tupla[1] == 0:\n",
    "        g = 'abaixo'\n",
    "    elif tupla[1] == 1:\n",
    "        g = 'correto'\n",
    "    else:\n",
    "        g = 'acima'\n",
    "    print('A moeda caiu ' + m + ' e o chute do peso do saco de areia foi ' + g + '.')\n",
    "    \n",
    "def saco_areia():\n",
    "    moeda = pyro.sample('moeda2', pyro.distributions.Bernoulli(0.5))\n",
    "    if moeda == 0: #jogador 1\n",
    "        p = torch.tensor([0.3, 0.2, 0.5])\n",
    "    else: #jogador 2\n",
    "        p = torch.tensor([0.5, 0.4, 0.1])\n",
    "    chute_peso = pyro.sample('chute-peso', pyro.distributions.Categorical(p))\n",
    "    \n",
    "    return moeda, chute_peso\n",
    "\n",
    "print_resultado_saco_areia(saco_areia())\n",
    "\n",
    "#O observado é que o chute foi correto, quero a probabilidade de foi o jogador 2\n",
    "#P(cara = coroa| chute = correto)\n",
    "conditioned_areia = pyro.condition(saco_areia, data = {\"chute-peso\":torch.tensor(1.0)})\n",
    "posterior = pyro.infer.Importance(conditioned_areia, num_samples=1000)\n",
    "marginal = pyro.infer.EmpiricalMarginal(posterior.run(), sites = \"moeda2\")\n",
    "print('P(moeda = coroa| chute = correto) = ', marginal.mean.item())"
   ]
  },
  {
   "cell_type": "markdown",
   "metadata": {},
   "source": [
    "Modelo HW1\n",
    "\n",
    "Os valores das distribuições foram obtidos através dos dados utilizando uma rede bayesiana no R.\n",
    "Temos as variáveis aleatórias:\n",
    "\n",
    "Age:\n",
    "- young = 0\n",
    "- adult = 1\n",
    "- old = 2\n",
    "\n",
    "Sex:\n",
    "- female = 0\n",
    "- male = 1\n",
    "\n",
    "Education:\n",
    "- uni = 0\n",
    "- high = 1\n",
    "\n",
    "Residence:\n",
    "- small = 0\n",
    "- big = 1\n",
    "\n",
    "Ocupation:\n",
    "- self = 0\n",
    "- emp = 1\n",
    "\n",
    "Travel:\n",
    "- train = 0\n",
    "- other = 1\n",
    "- car = 2\n",
    "\n",
    "Probabilidades condicionais: (estão no código)"
   ]
  },
  {
   "cell_type": "code",
   "execution_count": 7,
   "metadata": {},
   "outputs": [
    {
     "name": "stdout",
     "output_type": "stream",
     "text": [
      "Sex: homem| Age: adult| Education: high| Residence: big| Ocupation: emp| Travel: other\n",
      "Probabilidades da distribuição de travel dado ocupation = self e residence = big.\n",
      "[0.174 0.173 0.653]\n"
     ]
    }
   ],
   "source": [
    "def print_resul_travel(tensor):\n",
    "    s = 'homem' if tensor[0] == 1 else 'mulher'\n",
    "    if tensor[1] == 0:\n",
    "        a = 'young'\n",
    "    elif tensor[1] == 1:\n",
    "        a = 'adult'\n",
    "    else:\n",
    "        a = 'old'\n",
    "    e = 'uni' if tensor[2] == 0 else 'high'\n",
    "    r = 'small' if tensor[3] == 0 else 'big'\n",
    "    o = 'self' if tensor[4] == 0 else 'emp'\n",
    "    if tensor[5] == 0:\n",
    "        t = 'train'\n",
    "    elif tensor[5] == 1:\n",
    "        t = 'other'\n",
    "    else:\n",
    "        t = 'car'\n",
    "    print('Sex: ' + s + '| Age: ' + a + '| Education: ' + e + '| Residence: ' + r + '| Ocupation: ' + o + '| Travel: ' + t)\n",
    "def model_travel():\n",
    "    #valores de distribuição obtidos com o R    \n",
    "    sex = pyro.sample('sex', pyro.distributions.Bernoulli(0.6))\n",
    "    age = pyro.sample('age', pyro.distributions.Categorical(torch.tensor([0.32, 0.21, 0.47])))\n",
    "    if sex == 0:\n",
    "        if age == 0:\n",
    "            p1 = torch.tensor([0.46, 0.54])\n",
    "        elif age == 1:\n",
    "            p1 = torch.tensor([0.36, 0.64])\n",
    "        else:\n",
    "            p1 = torch.tensor([0.15, 0.85])\n",
    "    else:\n",
    "        if age == 0:\n",
    "            p1 = torch.tensor([0.2, 0.8])                            \n",
    "        elif age == 1:\n",
    "            p1 = torch.tensor([0.29, 0.71])\n",
    "        else:\n",
    "            p1 = torch.tensor([0.1, 0.9])\n",
    "    education = pyro.sample('education', pyro.distributions.Categorical(p1))\n",
    "    if education == 0:\n",
    "        p2 = torch.tensor([0.07, 0.93])\n",
    "    else:\n",
    "        p2 = torch.tensor([0.02, 0.98])\n",
    "    ocupation = pyro.sample('ocupation', pyro.distributions.Categorical(p2))\n",
    "    \n",
    "    if education == 0:\n",
    "        p3 = torch.tensor([0.13, 0.87])\n",
    "    else:\n",
    "        p3 = torch.tensor([0.28, 0.72])\n",
    "    residence = pyro.sample('residence', pyro.distributions.Categorical(p3))\n",
    "    \n",
    "    if residence == 0:\n",
    "        if ocupation == 0:\n",
    "            p4 = torch.tensor([0.02, 0.25, 0.73])\n",
    "        else:\n",
    "            p4 = torch.tensor([0.37, 0.08, 0.55])\n",
    "    else:\n",
    "        if ocupation == 0:\n",
    "            p4 = torch.tensor([0.16, 0.16, 0.68])            \n",
    "        else:\n",
    "            p4 = torch.tensor([0.22, 0.2, 0.58])\n",
    "    travel = pyro.sample('travel', pyro.distributions.Categorical(p4))\n",
    "    \n",
    "    return sex, age, education, ocupation, residence, travel\n",
    " \n",
    "print_resul_travel(model_travel())\n",
    "\n",
    "\n",
    "condition_model = pyro.condition(model_travel, data ={'ocupation':torch.tensor(0.0), 'residence':torch.tensor(1.0)})\n",
    "posterior = pyro.infer.Importance(condition_model, num_samples=1000)\n",
    "marginal = pyro.infer.EmpiricalMarginal(posterior.run(), sites = 'travel')\n",
    "samples = np.array([marginal().item() for x in range(1000)])\n",
    "_, val = np.unique(samples, return_counts=True)\n",
    "print('Probabilidades da distribuição de travel dado ocupation = self e residence = big.')\n",
    "print(val/1000)"
   ]
  },
  {
   "cell_type": "code",
   "execution_count": 18,
   "metadata": {},
   "outputs": [
    {
     "name": "stdout",
     "output_type": "stream",
     "text": [
      "Probabilidade marginal da idade:\n",
      "[0.39  0.259 0.351]\n"
     ]
    },
    {
     "data": {
      "image/png": "[encoded data removed]",
      "text/plain": [
       "<Figure size 432x288 with 1 Axes>"
      ]
     },
     "metadata": {
      "needs_background": "light"
     },
     "output_type": "display_data"
    }
   ],
   "source": [
    "posterior = pyro.infer.Importance(condition_model, num_samples=1000)\n",
    "marginal = pyro.infer.EmpiricalMarginal(posterior.run(), sites = 'age')\n",
    "samples = np.array([marginal().item() for x in range(1000)])\n",
    "_, val = np.unique(samples, return_counts=True)\n",
    "print('Probabilidade marginal da idade:')\n",
    "print(val/1000)\n",
    "plt.bar(['young', 'adult', 'old'], val/1000)\n",
    "plt.xlabel('Age')\n",
    "plt.title('Prob(Age = x|ocupation = self, residence = big)')\n",
    "plt.ylim([0, 1])\n",
    "plt.show()"
   ]
  },
  {
   "cell_type": "code",
   "execution_count": 28,
   "metadata": {},
   "outputs": [
    {
     "data": {
      "text/html": [
       "<img src = \"causal_model.png\"/>\n"
      ],
      "text/plain": [
       "<IPython.core.display.HTML object>"
      ]
     },
     "metadata": {},
     "output_type": "display_data"
    }
   ],
   "source": [
    "%%html\n",
    "<img src = \"causal_model.png\"/>"
   ]
  }
 ],
 "metadata": {
  "kernelspec": {
   "display_name": "Python 3",
   "language": "python",
   "name": "python3"
  },
  "language_info": {
   "codemirror_mode": {
    "name": "ipython",
    "version": 3
   },
   "file_extension": ".py",
   "mimetype": "text/x-python",
   "name": "python",
   "nbconvert_exporter": "python",
   "pygments_lexer": "ipython3",
   "version": "3.7.3"
  }
 },
 "nbformat": 4,
 "nbformat_minor": 2
}
