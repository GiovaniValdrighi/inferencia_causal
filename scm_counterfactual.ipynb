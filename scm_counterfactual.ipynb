{
  "nbformat": 4,
  "nbformat_minor": 0,
  "metadata": {
    "colab": {
      "name": "scm_counterfactual.ipynb",
      "provenance": [],
      "collapsed_sections": [],
      "authorship_tag": "ABX9TyOeFjWTMlKleZrLPIUk5Pu1",
      "include_colab_link": true
    },
    "kernelspec": {
      "name": "python3",
      "display_name": "Python 3"
    }
  },
  "cells": [
    {
      "cell_type": "markdown",
      "metadata": {
        "id": "view-in-github",
        "colab_type": "text"
      },
      "source": [
        "<a href=\"https://colab.research.google.com/github/GiovaniValdrighi/inferencia_causal/blob/master/scm_counterfactual.ipynb\" target=\"_parent\"><img src=\"https://colab.research.google.com/assets/colab-badge.svg\" alt=\"Open In Colab\"/></a>"
      ]
    },
    {
      "cell_type": "code",
      "metadata": {
        "id": "XK1wfSf5rDRM",
        "colab_type": "code",
        "outputId": "fde72c60-ee0f-431b-8111-8fec148dc445",
        "colab": {
          "base_uri": "https://localhost:8080/",
          "height": 122
        }
      },
      "source": [
        "from google.colab import drive\n",
        "drive.mount('/content/gdrive')"
      ],
      "execution_count": 1,
      "outputs": [
        {
          "output_type": "stream",
          "text": [
            "Go to this URL in a browser: https://accounts.google.com/o/oauth2/auth?client_id=947318989803-6bn6qk8qdgf4n4g3pfee6491hc0brc4i.apps.googleusercontent.com&redirect_uri=urn%3aietf%3awg%3aoauth%3a2.0%3aoob&response_type=code&scope=email%20https%3a%2f%2fwww.googleapis.com%2fauth%2fdocs.test%20https%3a%2f%2fwww.googleapis.com%2fauth%2fdrive%20https%3a%2f%2fwww.googleapis.com%2fauth%2fdrive.photos.readonly%20https%3a%2f%2fwww.googleapis.com%2fauth%2fpeopleapi.readonly\n",
            "\n",
            "Enter your authorization code:\n",
            "··········\n",
            "Mounted at /content/gdrive\n"
          ],
          "name": "stdout"
        }
      ]
    },
    {
      "cell_type": "code",
      "metadata": {
        "id": "apUQA1WZrWNH",
        "colab_type": "code",
        "colab": {}
      },
      "source": [
        "from pydrive.auth import GoogleAuth\n",
        "from pydrive.drive import GoogleDrive\n",
        "from google.colab import auth\n",
        "from oauth2client.client import GoogleCredentials\n",
        "\n",
        "auth.authenticate_user()\n",
        "gauth = GoogleAuth()\n",
        "gauth.credentials = GoogleCredentials.get_application_default()\n",
        "drive = GoogleDrive(gauth)"
      ],
      "execution_count": 0,
      "outputs": []
    },
    {
      "cell_type": "code",
      "metadata": {
        "id": "P9rBbgcKrWma",
        "colab_type": "code",
        "outputId": "7ef51ac0-02b7-45de-e8e3-8af0546414ac",
        "colab": {
          "base_uri": "https://localhost:8080/",
          "height": 476
        }
      },
      "source": [
        "!pip3 install -q http://download.pytorch.org/whl/{accelerator}/torch-0.4.0-{platform}-linux_x86_64.whl\n",
        "!pip3 install torchvision\n",
        "!pip3 install pyro-ppl"
      ],
      "execution_count": 3,
      "outputs": [
        {
          "output_type": "stream",
          "text": [
            "\u001b[31mERROR: torch-0.4.0-{platform}-linux_x86_64.whl is not a valid wheel filename.\u001b[0m\n",
            "Requirement already satisfied: torchvision in /usr/local/lib/python3.6/dist-packages (0.5.0)\n",
            "Requirement already satisfied: torch==1.4.0 in /usr/local/lib/python3.6/dist-packages (from torchvision) (1.4.0)\n",
            "Requirement already satisfied: numpy in /usr/local/lib/python3.6/dist-packages (from torchvision) (1.17.5)\n",
            "Requirement already satisfied: pillow>=4.1.1 in /usr/local/lib/python3.6/dist-packages (from torchvision) (6.2.2)\n",
            "Requirement already satisfied: six in /usr/local/lib/python3.6/dist-packages (from torchvision) (1.12.0)\n",
            "Collecting pyro-ppl\n",
            "\u001b[?25l  Downloading https://files.pythonhosted.org/packages/92/7a/4dc4d39d6db1aae0825a2a2ab60178fc4afb92efd9669be02715d3a16734/pyro_ppl-1.2.1-py3-none-any.whl (486kB)\n",
            "\u001b[K     |████████████████████████████████| 491kB 2.7MB/s \n",
            "\u001b[?25hRequirement already satisfied: opt-einsum>=2.3.2 in /usr/local/lib/python3.6/dist-packages (from pyro-ppl) (3.1.0)\n",
            "Requirement already satisfied: numpy>=1.7 in /usr/local/lib/python3.6/dist-packages (from pyro-ppl) (1.17.5)\n",
            "Requirement already satisfied: torch>=1.4.0 in /usr/local/lib/python3.6/dist-packages (from pyro-ppl) (1.4.0)\n",
            "Collecting tqdm>=4.36\n",
            "\u001b[?25l  Downloading https://files.pythonhosted.org/packages/47/55/fd9170ba08a1a64a18a7f8a18f088037316f2a41be04d2fe6ece5a653e8f/tqdm-4.43.0-py2.py3-none-any.whl (59kB)\n",
            "\u001b[K     |████████████████████████████████| 61kB 8.0MB/s \n",
            "\u001b[?25hCollecting pyro-api>=0.1.1\n",
            "  Downloading https://files.pythonhosted.org/packages/c2/bc/6cdbd1929e32fff62a33592633c2cc0393c7f7739131ccc9c9c4e28ac8dd/pyro_api-0.1.1-py3-none-any.whl\n",
            "Installing collected packages: tqdm, pyro-api, pyro-ppl\n",
            "  Found existing installation: tqdm 4.28.1\n",
            "    Uninstalling tqdm-4.28.1:\n",
            "      Successfully uninstalled tqdm-4.28.1\n",
            "Successfully installed pyro-api-0.1.1 pyro-ppl-1.2.1 tqdm-4.43.0\n"
          ],
          "name": "stdout"
        },
        {
          "output_type": "display_data",
          "data": {
            "application/vnd.colab-display-data+json": {
              "pip_warning": {
                "packages": [
                  "tqdm"
                ]
              }
            }
          },
          "metadata": {
            "tags": []
          }
        }
      ]
    },
    {
      "cell_type": "code",
      "metadata": {
        "id": "bS6uj2clreyt",
        "colab_type": "code",
        "colab": {}
      },
      "source": [
        "import numpy as np\n",
        "import torch\n",
        "from vae_build import VAE, ind_from_att, label_from_dummy, dummy_from_label\n",
        "import pyro\n",
        "import matplotlib.pyplot as plt\n",
        "from pyro.distributions import OneHotCategorical, RelaxedOneHotCategorical, Normal, Uniform, constraints, Categorical\n",
        "from torch import tensor"
      ],
      "execution_count": 0,
      "outputs": []
    },
    {
      "cell_type": "code",
      "metadata": {
        "id": "F2zR_RmLrpmr",
        "colab_type": "code",
        "outputId": "4ae864fd-e181-4b71-ba2b-928a08fe72de",
        "colab": {
          "base_uri": "https://localhost:8080/",
          "height": 34
        }
      },
      "source": [
        "dataset_zip = np.load('/content/gdrive/My Drive/autoencoder/dsprites_ndarray_co1sh3sc6or40x32y32_64x64.npz', allow_pickle = True, encoding = 'bytes')\n",
        "print('Keys in the dataset:', dataset_zip.files)\n",
        "imgs = dataset_zip['imgs']\n",
        "latents_values = dataset_zip['latents_values']\n",
        "latents_classes = dataset_zip['latents_classes']\n",
        "latents_sizes = dataset_zip['metadata'][()][b'latents_sizes']\n",
        "latents_names = dataset_zip['metadata'][()][b'latents_names']"
      ],
      "execution_count": 5,
      "outputs": [
        {
          "output_type": "stream",
          "text": [
            "Keys in the dataset: ['metadata', 'imgs', 'latents_classes', 'latents_values']\n"
          ],
          "name": "stdout"
        }
      ]
    },
    {
      "cell_type": "code",
      "metadata": {
        "id": "mZR3o4vQrq6p",
        "colab_type": "code",
        "outputId": "c43dd06f-278e-4ba0-f8c5-5e2c2cd2175e",
        "colab": {
          "base_uri": "https://localhost:8080/",
          "height": 34
        }
      },
      "source": [
        "pyro.enable_validation(True)\n",
        "pyro.clear_param_store()\n",
        "#the training routine\n",
        "use_CUDA = False\n",
        "vae = VAE(latents_sizes, latents_names, use_CUDA = use_CUDA)\n",
        "vae.load_state_dict(torch.load('/content/gdrive/My Drive/trained_movel_epoch_24.save'))"
      ],
      "execution_count": 6,
      "outputs": [
        {
          "output_type": "execute_result",
          "data": {
            "text/plain": [
              "<All keys matched successfully>"
            ]
          },
          "metadata": {
            "tags": []
          },
          "execution_count": 6
        }
      ]
    },
    {
      "cell_type": "markdown",
      "metadata": {
        "id": "5_65C8EyzVnZ",
        "colab_type": "text"
      },
      "source": [
        "#Importance Sampling \n",
        "Estou utilizando o método de Importance Sampling para realizar o cálculo de contra factuais no modelo."
      ]
    },
    {
      "cell_type": "code",
      "metadata": {
        "id": "A5nWEW9jsDnP",
        "colab_type": "code",
        "outputId": "bde17b2c-5da0-4f83-95c0-e2537ed053d3",
        "colab": {
          "base_uri": "https://localhost:8080/",
          "height": 281
        }
      },
      "source": [
        "class SCM_model1():\n",
        "  def __init__(self, vae):\n",
        "    self.vae = vae\n",
        "    dist = OneHotCategorical\n",
        "    self.init_noise = {'color': dist(tensor([1.])),\n",
        "                       'shape': dist(tensor([0.3, 0.4, 0.3])),\n",
        "                       'scale': dist(tensor([1/6]).repeat(6)),\n",
        "                       'orien': dist(tensor([1/40]).repeat(40)),\n",
        "                       'posX': dist(tensor([1/32]).repeat(32)),\n",
        "                       'posY': dist(tensor([1/32]).repeat(32)),\n",
        "                       'latent': Normal(torch.zeros(200), torch.ones(200)),\n",
        "                       'img': Uniform(torch.zeros(4096), torch.ones(4096))}\n",
        "    \n",
        "    #functions for the model\n",
        "    def f_gumbel(N):\n",
        "      return N\n",
        "    \n",
        "    def f_posX(N, scale):\n",
        "      if 31 <= int(3*scale.max(0)[1] + N.max(0)[1]):\n",
        "        return torch.nn.functional.one_hot(torch.tensor([31]), 32).to(torch.float32).reshape([32])\n",
        "      else:\n",
        "        return torch.nn.functional.one_hot(3*scale.max(0)[1] + N.max(0)[1], 32).to(torch.float32).reshape([32])\n",
        "\n",
        "    def f_shape(N, scale):\n",
        "      if scale.max(0)[1] == 5 or scale.max(0)[1] == 4:\n",
        "        return torch.nn.functional.one_hot(tensor(0), 3).to(torch.float32).reshape([3])\n",
        "      else:\n",
        "        return N\n",
        "\n",
        "    def f_latent(N_latent, color, shape, scale, orien, posX, posY):\n",
        "      ind = ind_from_att(color.max(0)[1], shape.max(0)[1], scale.max(0)[1], orien.max(0)[1], posX.max(0)[1], posY.max(0)[1])\n",
        "      label = torch.round(torch.cat([color, shape, scale, orien, posX, posY], -1))\n",
        "      mu, sigma = vae.encoder.forward(torch.tensor(imgs[ind]).reshape(4096).to(torch.float32), label)\n",
        "      return N_latent * sigma + mu\n",
        "\n",
        "    def f_image(N_img, latent, color, shape, scale, orien, posX, posY):\n",
        "      label = torch.round(torch.cat([color, shape, scale, orien, posX, posY], -1))\n",
        "      img_decode = vae.decoder.forward(latent, label)\n",
        "      return (N_img > img_decode).to(torch.float)\n",
        "\n",
        " \n",
        "    def model(noise = self.init_noise):\n",
        "\n",
        "      #Noise variables\n",
        "      N_color = pyro.sample('N_color', noise['color'])\n",
        "      N_shape = pyro.sample('N_shape', noise['shape'])\n",
        "      N_scale = pyro.sample('N_scale', noise['scale'])\n",
        "      N_orien = pyro.sample('N_orien', noise['orien'])\n",
        "      N_posX = pyro.sample('N_posX', noise['posX'])\n",
        "      N_posY = pyro.sample('N_posY', noise['posY'])\n",
        "      N_latent = pyro.sample('N_latent', noise['latent'].to_event(1))\n",
        "      N_img = pyro.sample('N_img', noise['img'].to_event(1))\n",
        "\n",
        "      #variables\n",
        "      scale = pyro.sample('scale', Normal(f_gumbel(N_scale), torch.tensor([0.01])).to_event(1))\n",
        "      color = pyro.sample('color', Normal(f_gumbel(N_color), torch.tensor([0.01])).to_event(1))\n",
        "      shape = pyro.sample('shape', Normal(f_shape(N_shape, scale), torch.tensor([0.01])).to_event(1))\n",
        "      orien = pyro.sample('orien', Normal(f_gumbel(N_orien), torch.tensor([0.01])).to_event(1))\n",
        "      posX = pyro.sample('posX', Normal(f_posX(N_posX, scale), torch.tensor([0.01])).to_event(1))\n",
        "      posY = pyro.sample('posY', Normal(f_gumbel(N_posY), torch.tensor([0.01])).to_event(1))\n",
        "\n",
        "      #variables\n",
        "      latent = pyro.sample('latent', Normal(f_latent(N_latent, color, shape, scale, orien, posX, posY), torch.tensor([0.01])).to_event(1))\n",
        "      img = pyro.sample('img', Normal(f_image(N_img, latent, color, shape, scale, orien, posX, posY), torch.tensor([0.01])).to_event(1))\n",
        "\n",
        "      return torch.round(torch.cat([color, shape, scale, orien, posX, posY], -1)), latent, img\n",
        "    \n",
        "    def guide(noise = self.init_noise):\n",
        "      \n",
        "      #params\n",
        "      cat_val =  {'color': 1, 'shape': 3, 'scale': 6, 'orien': 40, 'posX': 32, 'posY': 32}\n",
        "      probs = {key : pyro.param('prob_'+key, tensor(1/value).repeat(value), constraint = constraints.positive) for key, value in cat_val.items()}\n",
        "      mu_latent = pyro.param('mu_latent', torch.ones(200)*0.5)\n",
        "      sigma_latent = pyro.param('sigma_latent', torch.ones(200)*0.2, constraint = constraints.positive)\n",
        "      low_img = pyro.param('low_img', torch.ones(4096)*0.5, constraint = constraints.interval(0., 1.))\n",
        "      high_img = pyro.param('high_img', torch.ones(4096)*0.02, constraint = constraints.interval(0., 1.))\n",
        "      \n",
        "      #noise variables\n",
        "      N_color = pyro.sample('N_color', OneHotCategorical(probs['color']))\n",
        "      N_shape = pyro.sample('N_shape', OneHotCategorical(probs['shape']))\n",
        "      N_scale = pyro.sample('N_scale', OneHotCategorical(probs['scale']))\n",
        "      N_orien = pyro.sample('N_orien', OneHotCategorical(probs['orien']))\n",
        "      N_posX = pyro.sample('N_posX', OneHotCategorical(probs['posX']))\n",
        "      N_posY = pyro.sample('N_posY', OneHotCategorical(probs['posY']))\n",
        "      N_latent = pyro.sample('N_latent', Normal(mu_latent, sigma_latent).to_event(1))\n",
        "      N_img = pyro.sample('N_img', Normal(low_img, high_img).to_event(1))\n",
        "      #print(sum(N_img > 1))\n",
        "      #print(sum(N_img < 0))\n",
        "      #variables\n",
        "      color = pyro.sample('color', Normal(f_gumbel(N_color), tensor(0.01)).to_event(1), infer = {'is_auxiliary' : True})\n",
        "      shape = pyro.sample('shape', Normal(f_gumbel(N_shape), tensor(0.01)).to_event(1), infer = {'is_auxiliary' : True})\n",
        "      scale = pyro.sample('scale', Normal(f_gumbel(N_scale), tensor(0.01)).to_event(1), infer = {'is_auxiliary' : True})\n",
        "      orien = pyro.sample('orien', Normal(f_gumbel(N_orien), tensor(0.01)).to_event(1), infer = {'is_auxiliary' : True})\n",
        "      posX = pyro.sample('posX', Normal(f_gumbel(N_posX), tensor(0.01)).to_event(1), infer = {'is_auxiliary' : True})\n",
        "      posY = pyro.sample('posY', Normal(f_gumbel(N_posY), tensor(0.01)).to_event(1), infer = {'is_auxiliary' : True})\n",
        "      latent = pyro.sample('latent', Normal(f_latent(N_latent, color, shape, scale, orien, posX, posY), tensor(0.01)).to_event(1))\n",
        "      img = pyro.sample('img', Normal(f_image(N_img, latent, color, shape, scale, orien, posX, posY), tensor(0.01)).to_event(1))\n",
        "\n",
        "      return \n",
        "    \n",
        "    \n",
        "    def condition(obs_data, n_samples):\n",
        "      obsModel = pyro.condition(model, data = obs_data)\n",
        "      posterior = pyro.infer.Importance(obsModel, guide, num_samples = n_samples).run(self.init_noise)\n",
        "      updated_noise = {'color' : pyro.infer.EmpiricalMarginal(posterior, sites = 'N_color'),\n",
        "                       'shape': pyro.infer.EmpiricalMarginal(posterior, sites = 'N_shape'),\n",
        "                       'scale': pyro.infer.EmpiricalMarginal(posterior, sites = 'N_scale'),\n",
        "                       'orien': pyro.infer.EmpiricalMarginal(posterior, sites = 'N_orien'),\n",
        "                       'posX': pyro.infer.EmpiricalMarginal(posterior, sites = 'N_posX'),\n",
        "                       'posY': pyro.infer.EmpiricalMarginal(posterior, sites = 'N_posY'),\n",
        "                       'latent': Normal(torch.zeros(200), torch.ones(200)),\n",
        "                       'img': Uniform(torch.zeros(4096), torch.ones(4096))}\n",
        "      condition_posterior = pyro.infer.Importance(obsModel, num_samples = 1000).run(scm.init_noise)\n",
        "      marginal_condition = pyro.infer.EmpiricalMarginal(condition_posterior, sites = 'img')\n",
        "      img_condition = marginal_condition.mean\n",
        "      text = 'P(img|'\n",
        "      for key, value in obs_data.items():\n",
        "        text += key + ' = ' + str(int(value.max(0)[1])) + ', '\n",
        "      text+= ')'\n",
        "      plt.title(text)\n",
        "      plt.imshow(img_condition.detach().numpy().reshape(64, 64), cmap = 'Greys')\n",
        "      plt.show()\n",
        "\n",
        "    def counterfactual(obs_data, int_data, n_samples, do_text = ''):\n",
        "      obsModel = pyro.condition(model, data = obs_data)\n",
        "      intModel = pyro.do(model, data = int_data)\n",
        "      posterior = pyro.infer.Importance(obsModel,  num_samples = n_samples).run(self.init_noise)\n",
        "      updated_noise = {'color' : pyro.infer.EmpiricalMarginal(posterior, sites = 'N_color'),\n",
        "                       'shape': pyro.infer.EmpiricalMarginal(posterior, sites = 'N_shape'),\n",
        "                       'scale': pyro.infer.EmpiricalMarginal(posterior, sites = 'N_scale'),\n",
        "                       'orien': pyro.infer.EmpiricalMarginal(posterior, sites = 'N_orien'),\n",
        "                       'posX': pyro.infer.EmpiricalMarginal(posterior, sites = 'N_posX'),\n",
        "                       'posY': pyro.infer.EmpiricalMarginal(posterior, sites = 'N_posY'),\n",
        "                       'latent': Normal(torch.zeros(200), torch.ones(200)),\n",
        "                       'img': Uniform(torch.zeros(4096), torch.ones(4096))}\n",
        "      counterfactual_posterior = pyro.infer.Importance(intModel, num_samples = 1000).run(updated_noise)\n",
        "      marginal_counterfactual = pyro.infer.EmpiricalMarginal(counterfactual_posterior, sites = 'img')\n",
        "      img_counterfactual = marginal_counterfactual.mean\n",
        "      text = 'P(img|'\n",
        "      for key, value in obs_data.items():\n",
        "        text += key + ' = ' + str(int(value.max(0)[1])) + ', '\n",
        "      text+= do_text + ')'\n",
        "      plt.title(text)\n",
        "      plt.imshow(img_counterfactual.detach().numpy().reshape(64, 64), cmap = 'Greys')\n",
        "      plt.show()\n",
        "\n",
        "    def viz_model():\n",
        "      label, _, img = model()\n",
        "      label = label_from_dummy(label)\n",
        "      plt.imshow(img.detach().numpy().reshape(64, 64), cmap = 'Greys')\n",
        "      text = 'Color:0    Shape:'+str(int(label[1])) + '   Scale:' + str(int(label[2])) + '   Orien.:' + str(int(label[3])) + '   Pos.X:' + str(int(label[4])) + '   Pos.Y:' + str(int(label[5]))\n",
        "      plt.title(text)\n",
        "      plt.show()\n",
        "\n",
        "    self.model = model\n",
        "    self.guide = guide\n",
        "    self.viz_model = viz_model\n",
        "    self.condition = condition\n",
        "    self.counterfactual = counterfactual\n",
        "\n",
        "\n",
        "scm = SCM_model1(vae)\n",
        "scm.viz_model()"
      ],
      "execution_count": 16,
      "outputs": [
        {
          "output_type": "display_data",
          "data": {
            "image/png": "[encoded data removed]",
            "text/plain": [
              "<Figure size 432x288 with 1 Axes>"
            ]
          },
          "metadata": {
            "tags": []
          }
        }
      ]
    },
    {
      "cell_type": "code",
      "metadata": {
        "id": "59gadgpm17lY",
        "colab_type": "code",
        "outputId": "00807552-b379-4e18-e421-c584aec48dc0",
        "colab": {
          "base_uri": "https://localhost:8080/",
          "height": 281
        }
      },
      "source": [
        "obs_data = {'color': tensor([1.]),\n",
        "            'orien': torch.nn.functional.one_hot(tensor(17), 40).to(torch.float32),\n",
        "            'posY': torch.nn.functional.one_hot(tensor(5), 32).to(torch.float32),\n",
        "            'posX': torch.nn.functional.one_hot(tensor(30), 32).to(torch.float32),\n",
        "            'scale': tensor([0., 0., 0., 0., 0., 1.])}\n",
        "scm.condition(obs_data, 1000)"
      ],
      "execution_count": 13,
      "outputs": [
        {
          "output_type": "display_data",
          "data": {
            "image/png": "[encoded data removed]",
            "text/plain": [
              "<Figure size 432x288 with 1 Axes>"
            ]
          },
          "metadata": {
            "tags": []
          }
        }
      ]
    },
    {
      "cell_type": "code",
      "metadata": {
        "id": "YPeodhTsLOZY",
        "colab_type": "code",
        "outputId": "e99f071d-4b5c-4ea2-e255-c5cf0e560220",
        "colab": {
          "base_uri": "https://localhost:8080/",
          "height": 281
        }
      },
      "source": [
        "obs_data = {'color': tensor([1.]),\n",
        "            'orien': torch.nn.functional.one_hot(tensor(17), 40).to(torch.float32),\n",
        "            'posY': torch.nn.functional.one_hot(tensor(5), 32).to(torch.float32),\n",
        "            'posX': torch.nn.functional.one_hot(tensor(15), 32).to(torch.float32),\n",
        "            'scale': tensor([0., 0., 0., 0., 0., 1.])}\n",
        "scm.condition(obs_data, 1000)"
      ],
      "execution_count": 14,
      "outputs": [
        {
          "output_type": "display_data",
          "data": {
            "image/png": "[encoded data removed]",
            "text/plain": [
              "<Figure size 432x288 with 1 Axes>"
            ]
          },
          "metadata": {
            "tags": []
          }
        }
      ]
    },
    {
      "cell_type": "code",
      "metadata": {
        "id": "rM3SIaZvzU-u",
        "colab_type": "code",
        "colab": {
          "base_uri": "https://localhost:8080/",
          "height": 281
        },
        "outputId": "f8250a2a-c94d-4f1c-9626-cdbbe3a7c906"
      },
      "source": [
        "obs_data = {'color': tensor([1.]),\n",
        "            'orien': torch.nn.functional.one_hot(tensor(17), 40).to(torch.float32),\n",
        "            'posY': torch.nn.functional.one_hot(tensor(5), 32).to(torch.float32),\n",
        "            'posX': torch.nn.functional.one_hot(tensor(30), 32).to(torch.float32),\n",
        "            'scale': tensor([0., 0., 0., 0., 0., 1.])}\n",
        "int_data = obs_data.copy()\n",
        "int_data['scale'] = torch.nn.functional.one_hot(tensor(1), 6).to(torch.float32)\n",
        "scm.counterfactual(obs_data, int_data, 1000, do_text = \" do(scale = 1)\")"
      ],
      "execution_count": 17,
      "outputs": [
        {
          "output_type": "display_data",
          "data": {
            "image/png": "[encoded data removed]",
            "text/plain": [
              "<Figure size 432x288 with 1 Axes>"
            ]
          },
          "metadata": {
            "tags": []
          }
        }
      ]
    },
    {
      "cell_type": "code",
      "metadata": {
        "id": "_wUpwTrSyXd0",
        "colab_type": "code",
        "outputId": "1ca7a881-5fb3-4138-c366-68b6a1d3f8a9",
        "colab": {
          "base_uri": "https://localhost:8080/",
          "height": 296
        }
      },
      "source": [
        "obs_data = {'color': tensor([1.]),\n",
        "            'orien': torch.nn.functional.one_hot(tensor(17), 40).to(torch.float32),\n",
        "            'posY': torch.nn.functional.one_hot(tensor(5), 32).to(torch.float32),\n",
        "            'posX': torch.nn.functional.one_hot(tensor(30), 32).to(torch.float32),\n",
        "            'scale': tensor([0., 0., 0., 0., 0., 1.])}\n",
        "int_data = obs_data.copy()\n",
        "int_data['scale'] = torch.nn.functional.one_hot(tensor(1), 6).to(torch.float32)\n",
        "obsModel = pyro.condition(scm.model, data = obs_data)\n",
        "intModel = pyro.do(scm.model, data = int_data)\n",
        "posterior = pyro.infer.Importance(obsModel,  num_samples = 1000).run(scm.init_noise)\n",
        "updated_noise = {'color' : pyro.infer.EmpiricalMarginal(posterior, sites = 'N_color'),\n",
        "                 'shape': pyro.infer.EmpiricalMarginal(posterior, sites = 'N_shape'),\n",
        "                 'scale': pyro.infer.EmpiricalMarginal(posterior, sites = 'N_scale'),\n",
        "                 'orien': pyro.infer.EmpiricalMarginal(posterior, sites = 'N_orien'),\n",
        "                 'posX': pyro.infer.EmpiricalMarginal(posterior, sites = 'N_posX'),\n",
        "                 'posY': pyro.infer.EmpiricalMarginal(posterior, sites = 'N_posY'),\n",
        "                 'latent': Normal(torch.zeros(200), torch.ones(200)),\n",
        "                 'img': Uniform(torch.zeros(4096), torch.ones(4096))}\n",
        "img_test = pyro.infer.EmpiricalMarginal(posterior, sites = 'img')\n",
        "counterfactual_posterior = pyro.infer.Importance(intModel, num_samples = 1000).run(updated_noise)\n",
        "marginal_counterfactual = pyro.infer.EmpiricalMarginal(counterfactual_posterior, sites = 'img')\n",
        "img_counterfactual = marginal_counterfactual.mean\n",
        "plt.title('P(img|orien = 17, posY = 5, posX = 30, scale = 5, (do: scale=2)) \\nImage conditioned, shape is free')\n",
        "plt.imshow(img_counterfactual.detach().numpy().reshape(64, 64), cmap = 'Greys')\n",
        "plt.show()"
      ],
      "execution_count": 19,
      "outputs": [
        {
          "output_type": "display_data",
          "data": {
            "image/png": "[encoded data removed]",
            "text/plain": [
              "<Figure size 432x288 with 1 Axes>"
            ]
          },
          "metadata": {
            "tags": []
          }
        }
      ]
    },
    {
      "cell_type": "code",
      "metadata": {
        "id": "GQwOSh3Tzy36",
        "colab_type": "code",
        "colab": {
          "base_uri": "https://localhost:8080/",
          "height": 285
        },
        "outputId": "abbe4d0a-1be4-40ab-da1d-4244458ce824"
      },
      "source": [
        "plt.imshow(marginal_counterfactual().detach().numpy().reshape(64, 64))"
      ],
      "execution_count": 75,
      "outputs": [
        {
          "output_type": "execute_result",
          "data": {
            "text/plain": [
              "<matplotlib.image.AxesImage at 0x7f32105922e8>"
            ]
          },
          "metadata": {
            "tags": []
          },
          "execution_count": 75
        },
        {
          "output_type": "display_data",
          "data": {
            "image/png": "[encoded data removed]",
            "text/plain": [
              "<Figure size 432x288 with 1 Axes>"
            ]
          },
          "metadata": {
            "tags": []
          }
        }
      ]
    },
    {
      "cell_type": "code",
      "metadata": {
        "id": "NtK01yp60RJ7",
        "colab_type": "code",
        "colab": {}
      },
      "source": [
        ""
      ],
      "execution_count": 0,
      "outputs": []
    }
  ]
}