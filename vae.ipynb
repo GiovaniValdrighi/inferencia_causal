{
  "nbformat": 4,
  "nbformat_minor": 0,
  "metadata": {
    "colab": {
      "name": "vae.ipynb",
      "provenance": [],
      "collapsed_sections": [],
      "machine_shape": "hm",
      "include_colab_link": true
    },
    "kernelspec": {
      "name": "python3",
      "display_name": "Python 3"
    },
    "accelerator": "GPU"
  },
  "cells": [
    {
      "cell_type": "markdown",
      "metadata": {
        "id": "view-in-github",
        "colab_type": "text"
      },
      "source": [
        "<a href=\"https://colab.research.google.com/github/GiovaniValdrighi/inferencia_causal/blob/master/vae.ipynb\" target=\"_parent\"><img src=\"https://colab.research.google.com/assets/colab-badge.svg\" alt=\"Open In Colab\"/></a>"
      ]
    },
    {
      "cell_type": "markdown",
      "metadata": {
        "id": "dd2vuD3C7Bd4",
        "colab_type": "text"
      },
      "source": [
        "Estudo de variational autoencoder através do texto: https://towardsdatascience.com/understanding-variational-autoencoders-vaes-f70510919f73\n",
        "\n",
        "Implementação de variational autoencoder com Pyro através do texto: https://pyro.ai/examples/vae.html\n",
        "\n",
        "#Variational Autoencoder\n",
        "\n",
        "De modo simples, um **autoencoder** é um método utilizado para diminuir a dimensão de informação. Utilizando de redes neurais criamos duas, um **encoder** e um **decoder**. Seja nossa informação **X** uma matriz de dimensão **(n m)**, o encoder é uma rede neural responsável por transformar **X** para uma dimensão menor, se tornará o que chamamos de **variável latente**, **Z**. Em seguida, o decoder é responsável por transformar **Z** para as dimensões originais, teremos a matriz **X'**. O aprendizado da rede neural ocorre atráves da otimização da distância entre **X** e **X'**. \n",
        "\n",
        "No entanto, em um autoencoder simples, o espaço latente não é estável, isto é, valores similhares de **Z** não são similares à **X'**. Para isto, utilizamos de um **variational autoencoder**. A diferença é que transformamos **X** em uma distribuição no espaço latente, e não um valor constante. Assim, para recuperarmos com o decoder, utilizamos de uma amostra aleatória da distribuição do espaço latente, e por consequência do método de treinamento, teremos um decoder que leva amostras aleatórias semlehantes para **X'** semelhantes. Por conveniência, a distribuição do espaço latente é uma Gaussiana, sendo assim,o encoder ao receber **X** retorna a média e a variância da distribuição, geramos uma amostra aleatória de uma normal padrão e por fim repassamos a variável latente para o decoder.\n",
        "\n",
        "O nosso objetivo é utilizar o banco de dados Deepmind Dsprites que contém um conjunto de figuras 64x64 com 6 características: cor, forma, escala, orientação, posição no eixo X e posição no eixo Y. Geralmente, este banco de dados é utilizado para a verificação de métodos de \"desembaraço\" (desintanglement), isto é, desejamos avaliar a capacidade das dimensões do espaço latente representarem as características que geraram o banco de dados. Nesta situação, iremos utilizar esse banco de dados para construir uma SCM e realizar perguntas contrafactuais. \n",
        "\n",
        "A primeira etapa é a construção de um variational autoencoder simples utilizando o banco de dados. Para lidar com a distribuição, iremos utilizar da biblioteca Pyro. Possuímos duas redes neurais, o encoder e o decoder.\n",
        "\n",
        "## Encoder\n",
        "Rede neural resposável por receber um vetor **img** 1x4096 dos pixels de uma figura e um vetor **label** categórico 1x114 contendo as características (cor, forma, escala, orientação, pos. X, pos. Y) da figura. Os dois vetores são concatenados em um vetor **data** 1x4210. Realizamos uma transformação linear que vai do espaço 1x4210 para o espaço 1x1000, criando a variável **hidden**, em seguida, transformamos do espaço 1x1000 para o espaço latente de dimensão 1x200. Geramos duas variáveis latentes utilizando de duas transformações lineares: a **média** (vetor 1x200) e a **variância** (vetor 1x200). \n",
        "\n",
        "##Decoder\n",
        "Rede neural responsável por receber um vetor **latente** 1x200 e um vetor **label** categórico 1x114. Os dois valores são concatenados em um **data** 1x314. Em seguida utilizamos uma transformação linear para o espaço 1x1000 gerando a variável **hidden**. A partir dessa variável, iremos realizar uma transformação linear para o espaço original 1x4210 obtendo a variável **img'**.\n",
        "\n",
        "##Inferência variancional\n",
        "O método de inferência que iremos utilizar para as redes neurais utiliza do SVI do Pyro. Para o SVI devemos definir 2 funções estocásticas, o modelo e o guide. O modelo é uma função estocástica de variáveis latentes **z** retornando a imagem **x**. O guide é uma função estocástica da imagem **x** para as variáveis latents **z**.\n",
        "\n",
        "##Modelo\n",
        "O modelo é uma função estocástica que recebe a **imagem** 256x4096 e o **label** 256x114, 256 é a dimensão do nosso batch, utilizando o pyro.plate declaramos independência na dimensão do batch. Criamos um vetor média 256x200 e um vetor de variância 256x200 da normal padrão, em seguida geramos uma amostra da variável aleatória **latent** (definida com o pyro), e geramos uma variável aleatória para o label (será explicado depois), e passamos as duas amostras para decoder, que retornará uma matriz 256x4210 sendo a nossa imagem. Por fim, definimos a variável aleatória **loc**, que segue uma distribuição bernoulli com parâmetro igual a **loc** e valor observado igual a **imagem**. \n",
        "\n",
        "##Guide\n",
        "O guide é uma função estocástica que recebe a **imagem** 256x4096 e o **label** 256x114, 256 é a dimensão do nosso batch, utilizando o pyro.plate declaramos independência na dimensão do batch. Geramos uma variável aleatória para o label e passamos para o encoder a imagem e variável aleatória label, obtemos a média e a variância da normal e geramos uma amostra da variável aleatória **latent**."
      ]
    },
    {
      "cell_type": "code",
      "metadata": {
        "id": "fMenvPXS9mEE",
        "colab_type": "code",
        "outputId": "d6419e40-5103-42f7-93b3-c4dd7562f5d9",
        "colab": {
          "base_uri": "https://localhost:8080/",
          "height": 122
        }
      },
      "source": [
        "from google.colab import drive\n",
        "drive.mount('/content/gdrive')"
      ],
      "execution_count": 5,
      "outputs": [
        {
          "output_type": "stream",
          "text": [
            "Go to this URL in a browser: https://accounts.google.com/o/oauth2/auth?client_id=947318989803-6bn6qk8qdgf4n4g3pfee6491hc0brc4i.apps.googleusercontent.com&redirect_uri=urn%3aietf%3awg%3aoauth%3a2.0%3aoob&response_type=code&scope=email%20https%3a%2f%2fwww.googleapis.com%2fauth%2fdocs.test%20https%3a%2f%2fwww.googleapis.com%2fauth%2fdrive%20https%3a%2f%2fwww.googleapis.com%2fauth%2fdrive.photos.readonly%20https%3a%2f%2fwww.googleapis.com%2fauth%2fpeopleapi.readonly\n",
            "\n",
            "Enter your authorization code:\n",
            "··········\n",
            "Mounted at /content/gdrive\n"
          ],
          "name": "stdout"
        }
      ]
    },
    {
      "cell_type": "code",
      "metadata": {
        "id": "l2zs7JHz9ozQ",
        "colab_type": "code",
        "colab": {}
      },
      "source": [
        "from pydrive.auth import GoogleAuth\n",
        "from pydrive.drive import GoogleDrive\n",
        "from google.colab import auth\n",
        "from oauth2client.client import GoogleCredentials\n",
        "\n",
        "auth.authenticate_user()\n",
        "gauth = GoogleAuth()\n",
        "gauth.credentials = GoogleCredentials.get_application_default()\n",
        "drive = GoogleDrive(gauth)"
      ],
      "execution_count": 0,
      "outputs": []
    },
    {
      "cell_type": "code",
      "metadata": {
        "id": "R3NFYw1nGK5v",
        "colab_type": "code",
        "outputId": "0361ca5f-9ac6-4a54-f324-bfa1092141de",
        "colab": {
          "base_uri": "https://localhost:8080/",
          "height": 476
        }
      },
      "source": [
        "!pip3 install -q http://download.pytorch.org/whl/{accelerator}/torch-0.4.0-{platform}-linux_x86_64.whl\n",
        "!pip3 install torchvision\n",
        "!pip3 install pyro-ppl"
      ],
      "execution_count": 2,
      "outputs": [
        {
          "output_type": "stream",
          "text": [
            "\u001b[31mERROR: torch-0.4.0-{platform}-linux_x86_64.whl is not a valid wheel filename.\u001b[0m\n",
            "Requirement already satisfied: torchvision in /usr/local/lib/python3.6/dist-packages (0.5.0)\n",
            "Requirement already satisfied: pillow>=4.1.1 in /usr/local/lib/python3.6/dist-packages (from torchvision) (6.2.2)\n",
            "Requirement already satisfied: torch==1.4.0 in /usr/local/lib/python3.6/dist-packages (from torchvision) (1.4.0)\n",
            "Requirement already satisfied: numpy in /usr/local/lib/python3.6/dist-packages (from torchvision) (1.17.5)\n",
            "Requirement already satisfied: six in /usr/local/lib/python3.6/dist-packages (from torchvision) (1.12.0)\n",
            "Collecting pyro-ppl\n",
            "\u001b[?25l  Downloading https://files.pythonhosted.org/packages/f6/97/42073ec6cc550f6bf1e3982ded454500c657ee2a3fd2dd6886984c8d4ca2/pyro_ppl-1.3.0-py3-none-any.whl (495kB)\n",
            "\u001b[K     |████████████████████████████████| 501kB 2.8MB/s \n",
            "\u001b[?25hRequirement already satisfied: opt-einsum>=2.3.2 in /usr/local/lib/python3.6/dist-packages (from pyro-ppl) (3.1.0)\n",
            "Collecting tqdm>=4.36\n",
            "\u001b[?25l  Downloading https://files.pythonhosted.org/packages/47/55/fd9170ba08a1a64a18a7f8a18f088037316f2a41be04d2fe6ece5a653e8f/tqdm-4.43.0-py2.py3-none-any.whl (59kB)\n",
            "\u001b[K     |████████████████████████████████| 61kB 7.9MB/s \n",
            "\u001b[?25hRequirement already satisfied: numpy>=1.7 in /usr/local/lib/python3.6/dist-packages (from pyro-ppl) (1.17.5)\n",
            "Requirement already satisfied: torch>=1.4.0 in /usr/local/lib/python3.6/dist-packages (from pyro-ppl) (1.4.0)\n",
            "Collecting pyro-api>=0.1.1\n",
            "  Downloading https://files.pythonhosted.org/packages/c2/bc/6cdbd1929e32fff62a33592633c2cc0393c7f7739131ccc9c9c4e28ac8dd/pyro_api-0.1.1-py3-none-any.whl\n",
            "Installing collected packages: tqdm, pyro-api, pyro-ppl\n",
            "  Found existing installation: tqdm 4.28.1\n",
            "    Uninstalling tqdm-4.28.1:\n",
            "      Successfully uninstalled tqdm-4.28.1\n",
            "Successfully installed pyro-api-0.1.1 pyro-ppl-1.3.0 tqdm-4.43.0\n"
          ],
          "name": "stdout"
        },
        {
          "output_type": "display_data",
          "data": {
            "application/vnd.colab-display-data+json": {
              "pip_warning": {
                "packages": [
                  "tqdm"
                ]
              }
            }
          },
          "metadata": {
            "tags": []
          }
        }
      ]
    },
    {
      "cell_type": "code",
      "metadata": {
        "id": "BK8JOHlXF0kF",
        "colab_type": "code",
        "colab": {}
      },
      "source": [
        "import pandas as pd\n",
        "import numpy as np\n",
        "import matplotlib.pyplot as plt\n",
        "import pyro\n",
        "import pyro.distributions\n",
        "import pyro.infer\n",
        "import pyro.optim\n",
        "import torchvision.transforms as transforms\n",
        "import torch\n",
        "import torch.nn as nn\n",
        "import networkx as nx\n",
        "from tqdm import tqdm\n",
        "import matplotlib.pyplot as plt\n",
        "from statistics import mean"
      ],
      "execution_count": 0,
      "outputs": []
    },
    {
      "cell_type": "markdown",
      "metadata": {
        "id": "icsHBreVG7NK",
        "colab_type": "text"
      },
      "source": [
        "As propriedades latentes das imagens são: shape, scale, size, position X e position Y. Vou criar um DAG para inserir relações causais entre as variáveis e em seguida criar um SCM para este DAG."
      ]
    },
    {
      "cell_type": "code",
      "metadata": {
        "id": "kRuT7fPdHN9A",
        "colab_type": "code",
        "outputId": "0968beb3-712e-4d56-e066-a03bd65c45f2",
        "colab": {
          "base_uri": "https://localhost:8080/",
          "height": 34
        }
      },
      "source": [
        "dataset_zip = np.load('/content/gdrive/My Drive/autoencoder/dsprites_ndarray_co1sh3sc6or40x32y32_64x64.npz', allow_pickle = True, encoding = 'bytes')\n",
        "print('Keys in the dataset:', dataset_zip.files)\n",
        "imgs = dataset_zip['imgs']\n",
        "latents_values = dataset_zip['latents_values']\n",
        "latents_classes = dataset_zip['latents_classes']\n",
        "latents_sizes = dataset_zip['metadata'][()][b'latents_sizes']\n",
        "latents_names = dataset_zip['metadata'][()][b'latents_names']"
      ],
      "execution_count": 7,
      "outputs": [
        {
          "output_type": "stream",
          "text": [
            "Keys in the dataset: ['metadata', 'imgs', 'latents_classes', 'latents_values']\n"
          ],
          "name": "stdout"
        }
      ]
    },
    {
      "cell_type": "code",
      "metadata": {
        "id": "3CBn8GcJDtk8",
        "colab_type": "code",
        "colab": {}
      },
      "source": [
        "#function that pick images from the dataset and return the batchs\n",
        "#with test and training data\n",
        "def setup_data_loader(images, classes, batch_size = 128, use_CUDA = False):\n",
        "  #create the dataframes for training and test from the dataset_zip['imgs]\n",
        "  index = np.random.permutation(imgs.shape[0])\n",
        "  images = images[index].astype(np.float32)\n",
        "  classes = classes[index].astype(np.float32)\n",
        "  train_df = torch.utils.data.TensorDataset(torch.from_numpy(images[100000:].reshape(-1, 4096)), torch.from_numpy(classes[100000:]))\n",
        "  test_df = torch.utils.data.TensorDataset(torch.from_numpy(images[:100000].reshape(-1, 4096)), torch.from_numpy(classes[:100000]))\n",
        "  #creates a iterable dataset to train and test, each iteration have batch_size rows of data\n",
        "  kwargs = {'num_workers': 1, 'pin_memory': use_CUDA}\n",
        "  train_loader = torch.utils.data.DataLoader(train_df, batch_size, shuffle = False, **kwargs)\n",
        "  test_loader = torch.utils.data.DataLoader(test_df, batch_size, shuffle = False, **kwargs)\n",
        "  return train_loader, test_loader\n",
        "\n",
        "class Encoder(nn.Module):\n",
        "  '''This class receive the images data as vectors 1x4096\n",
        "  and the labels of the figure in the image as a 1x114 vector (dummy variables) \n",
        "  and should encode it to the latent space as mean and variance of\n",
        "  a normal distribution\n",
        "\n",
        "  :param img_dim: dimension of image vector\n",
        "  :param label_dim: dimension of label vector\n",
        "  :param latent_dim: dimension of latent space, output\n",
        "  '''\n",
        "  def __init__(self, img_dim = 4096, label_dim = 114, latent_dim = 200):\n",
        "    super(Encoder, self).__init__()\n",
        "    self.img_dim = img_dim\n",
        "    self.label_dim = label_dim\n",
        "    self.latent_dim = latent_dim \n",
        "    #linear transformations used\n",
        "    self.fc1 = nn.Linear(img_dim + label_dim, 1000)\n",
        "    self.fc21 = nn.Linear(1000, latent_dim)\n",
        "    self.fc22 = nn.Linear(1000, latent_dim)\n",
        "    #non-linear transformation used\n",
        "    self.softplus = nn.Softplus()\n",
        "\n",
        "  def forward(self, img, label):\n",
        "    #use the transformation to get the hidden variable\n",
        "    data = torch.cat((img, label), -1)\n",
        "    hidden = self.softplus(self.fc1(data))\n",
        "    #use the transformation to get the mean and the variance\n",
        "    mean_z = self.fc21(hidden)\n",
        "    cov_z = torch.exp(self.fc22(hidden))\n",
        "    return mean_z, cov_z\n",
        "\n",
        "\n",
        "class Decoder(nn.Module):\n",
        "  '''This class receive a sample of the latent variable\n",
        "  and return the image as a data vector 1x4096 and\n",
        "  the latent classes as a vector 1x5\n",
        "\n",
        "  :param img_dim: dimension of image vector\n",
        "  :param label_dim: dimension of label vector\n",
        "  :param latent_dim: dimension of latent space, output\n",
        "  '''\n",
        "  def __init__(self, img_dim = 4096, label_dim = 114, latent_dim = 200):\n",
        "    super(Decoder, self).__init__()\n",
        "    self.img_dim = img_dim\n",
        "    self.label_dim = label_dim\n",
        "    self.latent_dim = latent_dim\n",
        "    #linear transformations used\n",
        "    self.fc1 = nn.Linear(latent_dim+label_dim, 1000)\n",
        "    self.fc2 = nn.Linear(1000, img_dim)\n",
        "    #non-linear transformations used\n",
        "    self.softplus = nn.Softplus()\n",
        "    self.sigmoid = nn.Sigmoid()\n",
        "\n",
        "  def forward(self, latent, label):\n",
        "    #use the transformation to get the hidden variable\n",
        "    data = torch.cat((latent, label), -1)\n",
        "    hidden = self.softplus(self.fc1(data))\n",
        "    #use the transformation to get the image\n",
        "    image = self.sigmoid(self.fc2(hidden))\n",
        "    return image\n",
        "\n",
        "class VAE(nn.Module):\n",
        "  '''\n",
        "  This class define the p(z|x) and the p(x|z)\n",
        "  and use the scm model to call the encoder and\n",
        "  decoder\n",
        "\n",
        "  \n",
        "  :param img_dim: dimension of image vector\n",
        "  :param label_dim: dimension of label vector\n",
        "  :param latent_dim: dimension of latent space, output\n",
        "  '''\n",
        "  def __init__(self, latents_sizes, latents_names, img_dim = 4096, label_dim = 114, latent_dim = 200, use_CUDA = False):\n",
        "    super(VAE, self).__init__()\n",
        "    #creating networks\n",
        "    self.encoder = Encoder(img_dim, label_dim, latent_dim)\n",
        "    self.decoder = Decoder(img_dim, label_dim, latent_dim)\n",
        "    self.img_dim = img_dim\n",
        "    self.label_dim = label_dim\n",
        "    self.latent_dim = latent_dim\n",
        "    self.latents_sizes = latents_sizes\n",
        "    self.latents_names = latents_names\n",
        "    if use_CUDA:\n",
        "      print('Ativei o self.cuda()')\n",
        "      self.cuda()\n",
        "    self.use_CUDA = use_CUDA\n",
        "  \n",
        "  def label_variable(self, label):\n",
        "    options = {'device': label.device, 'dtype': label.dtype}\n",
        "    color = pyro.sample(\"label_color\", \n",
        "                        pyro.distributions.OneHotCategorical(torch.ones(label.shape[0], 1, **options)),\n",
        "                        obs = torch.nn.functional.one_hot(torch.tensor(label[:, 0], dtype = torch.int64), 1))\n",
        "    shape = pyro.sample(\"label_shape\", \n",
        "                        pyro.distributions.OneHotCategorical(torch.ones(label.shape[0], 3, **options)/3),\n",
        "                        obs = torch.nn.functional.one_hot(torch.tensor(label[:, 1], dtype = torch.int64), 3))\n",
        "    scale = pyro.sample(\"label_scale\", \n",
        "                        pyro.distributions.OneHotCategorical(torch.ones(label.shape[0], 6, **options)/6),\n",
        "                        obs = torch.nn.functional.one_hot(torch.tensor(label[:, 2], dtype = torch.int64), 6))\n",
        "    orien = pyro.sample(\"label_orien\", \n",
        "                        pyro.distributions.OneHotCategorical(torch.ones(label.shape[0], 40, **options)/40),\n",
        "                        obs = torch.nn.functional.one_hot(torch.tensor(label[:, 3], dtype = torch.int64), 40))\n",
        "    posX = pyro.sample(\"label_posX\", \n",
        "                        pyro.distributions.OneHotCategorical(torch.ones(label.shape[0], 32, **options)/32),\n",
        "                        obs = torch.nn.functional.one_hot(torch.tensor(label[:, 4], dtype = torch.int64), 32))\n",
        "    posY = pyro.sample(\"label_posY\", \n",
        "                        pyro.distributions.OneHotCategorical(torch.ones(label.shape[0], 32, **options)/32),\n",
        "                        obs = torch.nn.functional.one_hot(torch.tensor(label[:, 5], dtype = torch.int64), 32))\n",
        "    new_label = torch.cat([color, shape, scale, orien, posX, posY], -1).to(dtype = torch.float32, device = label.device)\n",
        "    print(new_label.device)\n",
        "    print(new_label)\n",
        "    return new_label\n",
        "\n",
        "  def model(self, img, label):\n",
        "    '''\n",
        "    Function in the VAE that defines\n",
        "    p(x|z)\n",
        "    '''\n",
        "    pyro.module(\"decoder\", self.decoder)\n",
        "    options = {'device': img.device, 'dtype': img.dtype}\n",
        "    with pyro.plate(\"data\", img.shape[0]):\n",
        "      z_mean = torch.zeros(img.shape[0], self.latent_dim, **options)\n",
        "      z_variance = torch.ones(img.shape[0], self.latent_dim, **options)\n",
        "      z_sample = pyro.sample(\"latent\", pyro.distributions.Normal(z_mean, z_variance).to_event(1))\n",
        "      image = self.decoder.forward(z_sample, self.label_variable(label))\n",
        "      pyro.sample(\"obs\", pyro.distributions.Bernoulli(image).to_event(1), obs = img)\n",
        "\n",
        "\n",
        "  def guide(self, img, label):\n",
        "    '''\n",
        "    Function that is the guide to the model\n",
        "    shape, scale, orientation, posX, posY = g(img)\n",
        "    the p(z|x) use on the encoder\n",
        "    '''\n",
        "    pyro.module(\"encoder\", self.encoder)\n",
        "    with pyro.plate(\"data\", img.shape[0]):\n",
        "      z_mean, z_variance = self.encoder.forward(img, self.label_variable(label))\n",
        "      pyro.sample(\"latent\", pyro.distributions.Normal(z_mean, z_variance).to_event(1))\n"
      ],
      "execution_count": 0,
      "outputs": []
    },
    {
      "cell_type": "code",
      "metadata": {
        "id": "65UEhCnX930C",
        "colab_type": "code",
        "colab": {}
      },
      "source": [
        "pyro.enable_validation(True)\n",
        "pyro.clear_param_store()\n",
        "#the training routine\n",
        "use_CUDA = False\n",
        "train_loader, test_loader = setup_data_loader(imgs, latents_classes, use_CUDA = use_CUDA)\n",
        "vae = VAE(latents_sizes, latents_names, use_CUDA = use_CUDA)"
      ],
      "execution_count": 0,
      "outputs": []
    },
    {
      "cell_type": "code",
      "metadata": {
        "id": "XLcKvyS8KdMX",
        "colab_type": "code",
        "colab": {}
      },
      "source": [
        "vae = VAE(latents_sizes, latents_names, use_CUDA = use_CUDA )"
      ],
      "execution_count": 0,
      "outputs": []
    },
    {
      "cell_type": "code",
      "metadata": {
        "id": "pyMu-7v499KZ",
        "colab_type": "code",
        "colab": {
          "base_uri": "https://localhost:8080/",
          "height": 34
        },
        "outputId": "154b3d5f-0537-4ef9-944e-e93e350c1ebb"
      },
      "source": [
        "vae.load_state_dict(torch.load('/content/gdrive/My Drive/trained_movel_epoch_24.save'))"
      ],
      "execution_count": 11,
      "outputs": [
        {
          "output_type": "execute_result",
          "data": {
            "text/plain": [
              "<All keys matched successfully>"
            ]
          },
          "metadata": {
            "tags": []
          },
          "execution_count": 11
        }
      ]
    },
    {
      "cell_type": "markdown",
      "metadata": {
        "id": "jpwa5Qx2fyLo",
        "colab_type": "text"
      },
      "source": [
        "## Código abaixo deve ser rodado apenas em caso de treinamento do variational autoencoder."
      ]
    },
    {
      "cell_type": "code",
      "metadata": {
        "id": "vu8kGO5K-Wyq",
        "colab_type": "code",
        "colab": {}
      },
      "source": [
        "\n",
        "#optimizer\n",
        "optimizer = pyro.optim.Adam({\"lr\" : 1.0e-3})\n",
        "\n",
        "#inference algorithm\n",
        "elbo = pyro.infer.Trace_ELBO()\n",
        "svi = pyro.infer.SVI(vae.model, vae.guide, optimizer, elbo)\n",
        "\n",
        "train_elbo = []\n",
        "test_elbo = []\n",
        "num_epochs = 70\n",
        "test_freq = 8\n",
        "for epoch in tqdm(range(num_epochs)):\n",
        "  epoch_loss = 0.\n",
        "  for (img, label) in train_loader:\n",
        "    if use_CUDA:\n",
        "      img = img.cuda()\n",
        "      label = label.to(device = img.device)\n",
        "    epoch_loss += svi.step(img, label)\n",
        "  total_epoch_loss_train = epoch_loss/len(train_loader)\n",
        "  train_elbo.append(total_epoch_loss_train)\n",
        "  print(\"epoch: \" + str(epoch) + \" average training loss: \" + str(epoch_loss))\n",
        "\n",
        "  if epoch % test_freq == 0:\n",
        "    test_loss = 0\n",
        "    for (img, label) in test_loader:\n",
        "      if use_CUDA:\n",
        "        img = img.cuda()\n",
        "        label = label.to(device = img.device)\n",
        "      test_loss += svi.evaluate_loss(img, label)\n",
        "    total_epoch_loss_test  = epoch_loss/len(test_loader)\n",
        "    test_elbo.append(total_epoch_loss_test)\n",
        "    torch.save(vae.state_dict(), '/content/gdrive/My Drive/trained_movel_epoch_'+ str(epoch) + '.save')"
      ],
      "execution_count": 0,
      "outputs": []
    },
    {
      "cell_type": "code",
      "metadata": {
        "id": "4z6pxElJf5Dq",
        "colab_type": "code",
        "colab": {}
      },
      "source": [
        "def dummy_from_label(label):\n",
        "  sizes = [1, 3, 6, 40, 32, 32]\n",
        "  dummy = []\n",
        "  for i, length in enumerate(sizes):\n",
        "    dummy.append(torch.nn.functional.one_hot(torch.tensor(label[:, i], dtype = torch.int64), int(length)))\n",
        "  return torch.cat(dummy, -1).to(torch.float32)\n",
        "\n",
        "def label_from_dummy(dummy):\n",
        "  label = []\n",
        "  label.append(0)\n",
        "  label.append(dummy[1:4].max(0)[1])\n",
        "  label.append(dummy[4:10].max(0)[1])\n",
        "  label.append(dummy[10:50].max(0)[1])\n",
        "  label.append(dummy[50:82].max(0)[1])\n",
        "  label.append(dummy[82:114].max(0)[1])\n",
        "  return label\n",
        "\n",
        "def run_img_vae(img, label, num = 1):\n",
        "  label = label.reshape(1, -6)\n",
        "  dummy_label = dummy_from_label(label)\n",
        "  img = torch.tensor(img.reshape(-1, 4096)).to(torch.float32)\n",
        "  mean, var = vae.encoder.forward(img, dummy_label)\n",
        "\n",
        "  fig = plt.figure(figsize = (4, num*5))\n",
        "  plots = []\n",
        "  plots.append(plt.subplot(num+1, 1, 1))\n",
        "  plots[0].set_title('Original image')\n",
        "  plt.imshow(img.reshape(64, 64))\n",
        "  \n",
        "  for i in range(1, num):\n",
        "    z_sample = pyro.distributions.Normal(mean, var).sample()\n",
        "    vae_img = vae.decoder.forward(z_sample, dummy_label)\n",
        "    plots.append(plt.subplot(num+1, 1, i+1))\n",
        "    plots[-1].set_title(str(i) +' - sample of latent space')\n",
        "    plt.imshow(vae_img.detach().numpy().reshape(64, 64))\n",
        "  plt.show()\n",
        "\n",
        "def change_attribute(img, label, attribute = 1):\n",
        "  print('Attribute changed was ' + str(latents_names[attribute]))\n",
        "  label = label.reshape(1, -6)\n",
        "  new_label = label2 = np.copy(label)\n",
        "  k = np.random.choice(list(range(latents_sizes[attribute]))) \n",
        "  new_label[0, attribute] = k if new_label[0, attribute] != k else k + 1.0\n",
        "  new_label[0, attribute] = new_label[0, attribute] if new_label[0, attribute] <= latents_sizes[attribute] else new_label[0, attribute] - 2.0 \n",
        "  dummy_label = dummy_from_label(label)\n",
        "  new_dummy = dummy_from_label(new_label)\n",
        "  img = torch.tensor(img.reshape(-1, 4096)).to(torch.float32)\n",
        "  mean, var = vae.encoder.forward(img, dummy_label)\n",
        "  \n",
        "  fig = plt.figure(figsize = (4, 15))\n",
        "  plots = []\n",
        "  plots.append(plt.subplot(3, 1, 1))\n",
        "  plots[0].set_title('Original image')\n",
        "  plt.imshow(img.reshape(64, 64))\n",
        "  z_sample = pyro.distributions.Normal(mean, var).sample()\n",
        "  vae_img = vae.decoder.forward(z_sample, dummy_label)\n",
        "  plots.append(plt.subplot(3, 1, 2))\n",
        "  plots[1].set_title('Sample with original attribute')\n",
        "  plt.imshow(vae_img.detach().numpy().reshape(64, 64))\n",
        "  z_sample = pyro.distributions.Normal(mean, var).sample()\n",
        "  vae_img = vae.decoder.forward(z_sample, new_dummy)\n",
        "  plots.append(plt.subplot(3, 1, 3))\n",
        "  plots[2].set_title('Sample with changed attribute')\n",
        "  plt.imshow(vae_img.detach().numpy().reshape(64, 64))\n",
        "  plt.show()\n",
        "\n",
        "\n",
        "def ind_from_att(color, shape, scale, orientation, posX, posY):\n",
        "  if type(color) != int:\n",
        "    color = int(color)\n",
        "  if type(shape) != int:\n",
        "    shape = int(shape)\n",
        "  if type(scale) != int:\n",
        "    scale = int(scale)\n",
        "  if type(orientation) != int:\n",
        "    orientation = int(orientation)\n",
        "  if type(posX) != int:\n",
        "    posX = int(posX)\n",
        "  if type(posY) != int:\n",
        "    posY = int(posY)\n",
        "  return (color)*3*6*40*32*32 + (shape )*6*40*32*32 + (scale)*40*32*32 + (orientation)*32*32 + (posX)*32 + posY "
      ],
      "execution_count": 0,
      "outputs": []
    },
    {
      "cell_type": "code",
      "metadata": {
        "id": "EiNko9L-Yl8N",
        "colab_type": "code",
        "outputId": "0a75cd2a-6ed5-4f92-e775-fc2813e2a535",
        "colab": {
          "base_uri": "https://localhost:8080/",
          "height": 499
        }
      },
      "source": [
        "fig = plt.figure(figsize = (10, 8))\n",
        "plt.subplot(2, 2, 1)\n",
        "plt.title('Examplo de quadrado.')\n",
        "plt.imshow(1 - imgs[ind_from_att(0, 0, 0, 0, 0, 0)], cmap = 'Greys')\n",
        "plt.subplot(2, 2, 2)\n",
        "plt.title('Examplo de elipse.')\n",
        "plt.imshow(1 - imgs[ind_from_att(0, 1, 3, 0, 5, 4)], cmap = 'Greys')\n",
        "plt.subplot(2, 2, 3)\n",
        "plt.title('Examplo de elipse com grande rotação.')\n",
        "plt.imshow(1 - imgs[ind_from_att(0, 1, 5, 35, 24, 10)], cmap = 'Greys')\n",
        "plt.subplot(2, 2, 4)\n",
        "plt.title('Examplo de coração.')\n",
        "plt.imshow(1 - imgs[ind_from_att(0, 2, 4, 5, 0, 10)], cmap = 'Greys')\n",
        "\n",
        "plt.show()"
      ],
      "execution_count": 16,
      "outputs": [
        {
          "output_type": "display_data",
          "data": {
            "image/png": "[encoded data removed]",
            "text/plain": [
              "<Figure size 720x576 with 4 Axes>"
            ]
          },
          "metadata": {
            "tags": []
          }
        }
      ]
    },
    {
      "cell_type": "code",
      "metadata": {
        "id": "SSP5YIV7hwpM",
        "colab_type": "code",
        "outputId": "1fcc5971-9ac0-467e-9524-9dc8e0e8f8b4",
        "colab": {
          "base_uri": "https://localhost:8080/",
          "height": 667
        }
      },
      "source": [
        "run_img_vae(imgs[0], latents_classes[0], num = 3)"
      ],
      "execution_count": 17,
      "outputs": [
        {
          "output_type": "display_data",
          "data": {
            "image/png": "[encoded data removed]",
            "text/plain": [
              "<Figure size 288x1080 with 3 Axes>"
            ]
          },
          "metadata": {
            "tags": []
          }
        }
      ]
    },
    {
      "cell_type": "code",
      "metadata": {
        "id": "rljTmsUXkMqC",
        "colab_type": "code",
        "outputId": "79520a31-76a0-426c-c57c-c92a07f74f41",
        "colab": {
          "base_uri": "https://localhost:8080/",
          "height": 667
        }
      },
      "source": [
        "ind = np.random.randint(imgs.shape[0])\n",
        "run_img_vae(imgs[ind], latents_classes[ind], num = 3)"
      ],
      "execution_count": 18,
      "outputs": [
        {
          "output_type": "display_data",
          "data": {
            "image/png": "[encoded data removed]",
            "text/plain": [
              "<Figure size 288x1080 with 3 Axes>"
            ]
          },
          "metadata": {
            "tags": []
          }
        }
      ]
    },
    {
      "cell_type": "code",
      "metadata": {
        "id": "43QhoVvqiFDi",
        "colab_type": "code",
        "outputId": "faaddb07-2d1f-49de-a9a2-f0bf90489489",
        "colab": {
          "base_uri": "https://localhost:8080/",
          "height": 667
        }
      },
      "source": [
        "run_img_vae(imgs[ind_from_att(0, 1, 4, 14, 19, 19)], latents_classes[ind_from_att(0, 1, 4, 14, 19, 19)], num = 3)"
      ],
      "execution_count": 19,
      "outputs": [
        {
          "output_type": "display_data",
          "data": {
            "image/png": "[encoded data removed]",
            "text/plain": [
              "<Figure size 288x1080 with 3 Axes>"
            ]
          },
          "metadata": {
            "tags": []
          }
        }
      ]
    },
    {
      "cell_type": "code",
      "metadata": {
        "id": "zM3cyZsTlZ8s",
        "colab_type": "code",
        "outputId": "fd1be3c4-b4c8-4bcc-a767-cdf5a4dd86bc",
        "colab": {
          "base_uri": "https://localhost:8080/",
          "height": 880
        }
      },
      "source": [
        "change_attribute(imgs[ind_from_att(0, 1, 4, 14, 19, 19)], latents_classes[ind_from_att(0, 1, 4, 14, 19, 19)])"
      ],
      "execution_count": 20,
      "outputs": [
        {
          "output_type": "stream",
          "text": [
            "Attribute changed was b'shape'\n"
          ],
          "name": "stdout"
        },
        {
          "output_type": "display_data",
          "data": {
            "image/png": "[encoded data removed]",
            "text/plain": [
              "<Figure size 288x1080 with 3 Axes>"
            ]
          },
          "metadata": {
            "tags": []
          }
        }
      ]
    },
    {
      "cell_type": "code",
      "metadata": {
        "id": "GnxAh1zWIE8u",
        "colab_type": "code",
        "outputId": "5ed4355f-0e8f-42c8-d68a-a4fc8b08000f",
        "colab": {
          "base_uri": "https://localhost:8080/",
          "height": 880
        }
      },
      "source": [
        "change_attribute(imgs[ind_from_att(0, 2, 4, 14, 19, 19)], latents_classes[ind_from_att(0, 2, 4, 14, 19, 19)], attribute = 3)"
      ],
      "execution_count": 21,
      "outputs": [
        {
          "output_type": "stream",
          "text": [
            "Attribute changed was b'orientation'\n"
          ],
          "name": "stdout"
        },
        {
          "output_type": "display_data",
          "data": {
            "image/png": "[encoded data removed]",
            "text/plain": [
              "<Figure size 288x1080 with 3 Axes>"
            ]
          },
          "metadata": {
            "tags": []
          }
        }
      ]
    },
    {
      "cell_type": "code",
      "metadata": {
        "id": "xeaUme-5R5OX",
        "colab_type": "code",
        "colab": {}
      },
      "source": [
        "def hypothesis(vae, img, label):\n",
        "  label = label.reshape(1, -6)\n",
        "  dummy_label = dummy_from_label(label)\n",
        "  img = torch.tensor(img.reshape(-1, 4096)).to(torch.float32)\n",
        "  mean, var = vae.encoder.forward(img, dummy_label)\n",
        "  latent = pyro.distributions.Normal(mean, var).sample()\n",
        "  img_sample = vae.decoder.forward(latent, dummy_label)\n",
        "  latent_random = pyro.distributions.Normal(torch.zeros(mean.shape), torch.ones(var.shape)).sample()\n",
        "  img_random  = vae.decoder.forward(latent_random, dummy_label)\n",
        "\n",
        "  fig = plt.figure(figsize = (10, 8))\n",
        "  plt.subplot(2, 1, 1)\n",
        "  plt.imshow(1 - img_sample.detach().numpy().reshape(64, 64), cmap = 'Greys')\n",
        "  plt.subplot(2, 1, 2)\n",
        "  plt.imshow(1 - img_random.detach().numpy().reshape(64, 64), cmap = 'Greys')\n",
        "  plt.show()\n",
        "\n",
        "  return latent"
      ],
      "execution_count": 0,
      "outputs": []
    },
    {
      "cell_type": "code",
      "metadata": {
        "id": "Y3t2vKfJSjR3",
        "colab_type": "code",
        "colab": {
          "base_uri": "https://localhost:8080/",
          "height": 485
        },
        "outputId": "d7755a1b-11dc-4ea8-eddd-a18b8a016ce9"
      },
      "source": [
        "ind = np.random.randint(len(imgs))\n",
        "latent = hypothesis(vae, imgs[ind], latents_classes[ind])"
      ],
      "execution_count": 93,
      "outputs": [
        {
          "output_type": "display_data",
          "data": {
            "image/png": "[encoded data removed]",
            "text/plain": [
              "<Figure size 720x576 with 2 Axes>"
            ]
          },
          "metadata": {
            "tags": []
          }
        }
      ]
    },
    {
      "cell_type": "code",
      "metadata": {
        "id": "cn_kGDAJpf4y",
        "colab_type": "code",
        "colab": {
          "base_uri": "https://localhost:8080/",
          "height": 316
        },
        "outputId": "c0e08718-54fe-402b-f12d-94216ef17537"
      },
      "source": [
        "print('How much normal is the latent variable?')\n",
        "print('Max: {}'.format(latent.max()))\n",
        "print('Min: {}'.format(latent.min()))\n",
        "latent, _ = torch.sort(latent.reshape(200))\n",
        "\n",
        "import scipy.stats as ss\n",
        "myHist = plt.hist(latent, density=True)\n",
        "rv = ss.norm(0,1)\n",
        "x = np.linspace(-3,3) \n",
        "h = plt.plot(x, rv.pdf(x))\n",
        "plt.show()"
      ],
      "execution_count": 94,
      "outputs": [
        {
          "output_type": "stream",
          "text": [
            "How much normal is the latent variable?\n",
            "Max: 2.956674098968506\n",
            "Min: -2.2586984634399414\n"
          ],
          "name": "stdout"
        },
        {
          "output_type": "display_data",
          "data": {
            "image/png": "[encoded data removed]",
            "text/plain": [
              "<Figure size 432x288 with 1 Axes>"
            ]
          },
          "metadata": {
            "tags": []
          }
        }
      ]
    },
    {
      "cell_type": "code",
      "metadata": {
        "id": "XnQUBFCWt2S1",
        "colab_type": "code",
        "colab": {}
      },
      "source": [
        ""
      ],
      "execution_count": 0,
      "outputs": []
    }
  ]
}