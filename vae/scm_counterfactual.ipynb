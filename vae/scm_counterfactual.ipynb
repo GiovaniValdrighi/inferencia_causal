{
  "nbformat": 4,
  "nbformat_minor": 0,
  "metadata": {
    "colab": {
      "name": "scm_counterfactual.ipynb",
      "provenance": [],
      "collapsed_sections": [],
      "authorship_tag": "ABX9TyO/crQljWbyGg6QONYoB+Rb",
      "include_colab_link": true
    },
    "kernelspec": {
      "name": "python3",
      "display_name": "Python 3"
    }
  },
  "cells": [
    {
      "cell_type": "markdown",
      "metadata": {
        "id": "view-in-github",
        "colab_type": "text"
      },
      "source": [
        "<a href=\"https://colab.research.google.com/github/GiovaniValdrighi/inferencia_causal/blob/master/vae/scm_counterfactual.ipynb\" target=\"_parent\"><img src=\"https://colab.research.google.com/assets/colab-badge.svg\" alt=\"Open In Colab\"/></a>"
      ]
    },
    {
      "cell_type": "code",
      "metadata": {
        "id": "XK1wfSf5rDRM",
        "colab_type": "code",
        "outputId": "6dd19606-23ae-463d-a962-3b4db72c383b",
        "colab": {
          "base_uri": "https://localhost:8080/",
          "height": 125
        }
      },
      "source": [
        "from google.colab import drive\n",
        "drive.mount('/content/gdrive')"
      ],
      "execution_count": 1,
      "outputs": [
        {
          "output_type": "stream",
          "text": [
            "Go to this URL in a browser: https://accounts.google.com/o/oauth2/auth?client_id=947318989803-6bn6qk8qdgf4n4g3pfee6491hc0brc4i.apps.googleusercontent.com&redirect_uri=urn%3aietf%3awg%3aoauth%3a2.0%3aoob&response_type=code&scope=email%20https%3a%2f%2fwww.googleapis.com%2fauth%2fdocs.test%20https%3a%2f%2fwww.googleapis.com%2fauth%2fdrive%20https%3a%2f%2fwww.googleapis.com%2fauth%2fdrive.photos.readonly%20https%3a%2f%2fwww.googleapis.com%2fauth%2fpeopleapi.readonly\n",
            "\n",
            "Enter your authorization code:\n",
            "··········\n",
            "Mounted at /content/gdrive\n"
          ],
          "name": "stdout"
        }
      ]
    },
    {
      "cell_type": "code",
      "metadata": {
        "id": "apUQA1WZrWNH",
        "colab_type": "code",
        "colab": {}
      },
      "source": [
        "from pydrive.auth import GoogleAuth\n",
        "from pydrive.drive import GoogleDrive\n",
        "from google.colab import auth\n",
        "from oauth2client.client import GoogleCredentials\n",
        "\n",
        "auth.authenticate_user()\n",
        "gauth = GoogleAuth()\n",
        "gauth.credentials = GoogleCredentials.get_application_default()\n",
        "drive = GoogleDrive(gauth)"
      ],
      "execution_count": 0,
      "outputs": []
    },
    {
      "cell_type": "code",
      "metadata": {
        "id": "P9rBbgcKrWma",
        "colab_type": "code",
        "outputId": "191d4169-893c-48b6-9838-18b7ca5addf0",
        "colab": {
          "base_uri": "https://localhost:8080/",
          "height": 495
        }
      },
      "source": [
        "!pip3 install -q http://download.pytorch.org/whl/{accelerator}/torch-0.4.0-{platform}-linux_x86_64.whl\n",
        "!pip3 install torchvision\n",
        "!pip3 install pyro-ppl"
      ],
      "execution_count": 3,
      "outputs": [
        {
          "output_type": "stream",
          "text": [
            "\u001b[31mERROR: torch-0.4.0-{platform}-linux_x86_64.whl is not a valid wheel filename.\u001b[0m\n",
            "Requirement already satisfied: torchvision in /usr/local/lib/python3.6/dist-packages (0.5.0)\n",
            "Requirement already satisfied: six in /usr/local/lib/python3.6/dist-packages (from torchvision) (1.12.0)\n",
            "Requirement already satisfied: torch==1.4.0 in /usr/local/lib/python3.6/dist-packages (from torchvision) (1.4.0)\n",
            "Requirement already satisfied: numpy in /usr/local/lib/python3.6/dist-packages (from torchvision) (1.17.5)\n",
            "Requirement already satisfied: pillow>=4.1.1 in /usr/local/lib/python3.6/dist-packages (from torchvision) (6.2.2)\n",
            "Collecting pyro-ppl\n",
            "\u001b[?25l  Downloading https://files.pythonhosted.org/packages/92/7a/4dc4d39d6db1aae0825a2a2ab60178fc4afb92efd9669be02715d3a16734/pyro_ppl-1.2.1-py3-none-any.whl (486kB)\n",
            "\u001b[K     |████████████████████████████████| 491kB 2.9MB/s \n",
            "\u001b[?25hRequirement already satisfied: torch>=1.4.0 in /usr/local/lib/python3.6/dist-packages (from pyro-ppl) (1.4.0)\n",
            "Requirement already satisfied: opt-einsum>=2.3.2 in /usr/local/lib/python3.6/dist-packages (from pyro-ppl) (3.1.0)\n",
            "Requirement already satisfied: numpy>=1.7 in /usr/local/lib/python3.6/dist-packages (from pyro-ppl) (1.17.5)\n",
            "Collecting pyro-api>=0.1.1\n",
            "  Downloading https://files.pythonhosted.org/packages/c2/bc/6cdbd1929e32fff62a33592633c2cc0393c7f7739131ccc9c9c4e28ac8dd/pyro_api-0.1.1-py3-none-any.whl\n",
            "Collecting tqdm>=4.36\n",
            "\u001b[?25l  Downloading https://files.pythonhosted.org/packages/cd/80/5bb262050dd2f30f8819626b7c92339708fe2ed7bd5554c8193b4487b367/tqdm-4.42.1-py2.py3-none-any.whl (59kB)\n",
            "\u001b[K     |████████████████████████████████| 61kB 8.5MB/s \n",
            "\u001b[?25hInstalling collected packages: pyro-api, tqdm, pyro-ppl\n",
            "  Found existing installation: tqdm 4.28.1\n",
            "    Uninstalling tqdm-4.28.1:\n",
            "      Successfully uninstalled tqdm-4.28.1\n",
            "Successfully installed pyro-api-0.1.1 pyro-ppl-1.2.1 tqdm-4.42.1\n"
          ],
          "name": "stdout"
        },
        {
          "output_type": "display_data",
          "data": {
            "application/vnd.colab-display-data+json": {
              "pip_warning": {
                "packages": [
                  "tqdm"
                ]
              }
            }
          },
          "metadata": {
            "tags": []
          }
        }
      ]
    },
    {
      "cell_type": "code",
      "metadata": {
        "id": "bS6uj2clreyt",
        "colab_type": "code",
        "colab": {}
      },
      "source": [
        "import numpy as np\n",
        "import torch\n",
        "from vae_build import VAE, ind_from_att, label_from_dummy\n",
        "import pyro\n",
        "import matplotlib.pyplot as plt\n",
        "from pyro.distributions import OneHotCategorical, RelaxedOneHotCategorical, Normal, Uniform, constraints, Categorical\n",
        "from torch import tensor"
      ],
      "execution_count": 0,
      "outputs": []
    },
    {
      "cell_type": "code",
      "metadata": {
        "id": "F2zR_RmLrpmr",
        "colab_type": "code",
        "outputId": "06939c64-390c-4ece-f8e6-39a7fd5fa6a4",
        "colab": {
          "base_uri": "https://localhost:8080/",
          "height": 34
        }
      },
      "source": [
        "dataset_zip = np.load('/content/gdrive/My Drive/autoencoder/dsprites_ndarray_co1sh3sc6or40x32y32_64x64.npz', allow_pickle = True, encoding = 'bytes')\n",
        "print('Keys in the dataset:', dataset_zip.files)\n",
        "imgs = dataset_zip['imgs']\n",
        "latents_values = dataset_zip['latents_values']\n",
        "latents_classes = dataset_zip['latents_classes']\n",
        "latents_sizes = dataset_zip['metadata'][()][b'latents_sizes']\n",
        "latents_names = dataset_zip['metadata'][()][b'latents_names']"
      ],
      "execution_count": 5,
      "outputs": [
        {
          "output_type": "stream",
          "text": [
            "Keys in the dataset: ['metadata', 'imgs', 'latents_classes', 'latents_values']\n"
          ],
          "name": "stdout"
        }
      ]
    },
    {
      "cell_type": "code",
      "metadata": {
        "id": "mZR3o4vQrq6p",
        "colab_type": "code",
        "outputId": "ae82ca43-d7e5-4ffb-db9d-b77e6cac1f6a",
        "colab": {
          "base_uri": "https://localhost:8080/",
          "height": 34
        }
      },
      "source": [
        "pyro.enable_validation(True)\n",
        "pyro.clear_param_store()\n",
        "#the training routine\n",
        "use_CUDA = False\n",
        "vae = VAE(latents_sizes, latents_names, use_CUDA = use_CUDA)\n",
        "vae.load_state_dict(torch.load('/content/gdrive/My Drive/trained_movel_epoch_24.save'))"
      ],
      "execution_count": 6,
      "outputs": [
        {
          "output_type": "execute_result",
          "data": {
            "text/plain": [
              "<All keys matched successfully>"
            ]
          },
          "metadata": {
            "tags": []
          },
          "execution_count": 6
        }
      ]
    },
    {
      "cell_type": "markdown",
      "metadata": {
        "id": "skuKdZ2uvBd-",
        "colab_type": "text"
      },
      "source": [
        "def condition(cond_values, n_steps = 1000):\n",
        "      #calculating noise posterior in the observation model\n",
        "      condModel = pyro.condition(model, data = cond_values)\n",
        "      pyro.clear_param_store()\n",
        "\n",
        "      #setting the SVI attributes\n",
        "      adam_params = {'lr': 0.001}\n",
        "      optmizer = pyro.optim.Adam(adam_params)\n",
        "      elbo = pyro.infer.Trace_ELBO()\n",
        "      svi = pyro.infer.SVI(condModel, guide, optmizer, elbo)\n",
        "\n",
        "      #training loop\n",
        "      losses = []\n",
        "      mu_samples = {key: [] for key in self.init_noise.keys()}\n",
        "      sigma_samples = {key: [] for key in self.init_noise.keys()}\n",
        "\n",
        "      for i in range(n_steps):\n",
        "        losses.append(svi.step(self.init_noise))\n",
        "        #saving samples\n",
        "        for key in self.init_noise.keys():\n",
        "          mu_samples[key].append(pyro.param('mu_'+key))\n",
        "          sigma_samples[key].append(pyro.param('sigma_'+key))\n",
        "\n",
        "      #calculating means\n",
        "      mean_samples = {}\n",
        "      mean_samples['mu'] = {key: [] for key in self.init_noise.keys()}\n",
        "      mean_samples['sigma'] = {key: [] for key in self.init_noise.keys()}\n",
        "      for key in self.init_noise.keys():\n",
        "        mean_samples['mu'][key] = torch.mean(torch.stack(mu_samples[key]), dim = 0)\n",
        "        mean_samples['sigma'][key] = torch.mean(torch.stack(sigma_samples[key]), dim = 0)\n",
        "\n",
        "      print(mean_samples)\n",
        "      updated_noise = {}\n",
        "      for key in self.init_noise.keys():\n",
        "        updated_noise[key] = Normal(mean_samples['mu'][key], mean_samples['sigma'][key])\n",
        "\n",
        "      img_samples = []\n",
        "      for _ in range(1000):\n",
        "        _, _, s = model(updated_noise)\n",
        "        img_samples.append(s)\n",
        "      img_samples = torch.mean(torch.stack(img_samples), dim = 0)\n",
        "      print(losses)\n",
        "      plt.figure()\n",
        "      plt.plot(losses)\n",
        "      plt.figure()\n",
        "      plt.imshow(img_samples.detach().numpy().reshape(64, 64))\n",
        "      plt.show()\n",
        "      \n",
        "\n",
        "    def counterfactual(var_name, obs_var, counter_var, n_steps = 1000):\n",
        "      #calculating noise posterior in the observation model\n",
        "      obsModel = pyro.condition(model, data = {var_name : obs_var})\n",
        "      pyro.clear_param_store()\n",
        "\n",
        "      #setting the SVI attributes\n",
        "      adam_params = {'lr': 0.001}\n",
        "      optmizer = pyro.optim.Adam(adam_params)\n",
        "      elbo = pyro.infer.Trace_ELBO()\n",
        "      svi = pyro.infer.SVI(obsModel, guide, optmizer, elbo)\n",
        "\n",
        "      #training loop\n",
        "      losses = []\n",
        "      noise_samples = {latent:[] for latent in self.latents_names}\n",
        "      noise_samples['latent'] = {'mu':[], 'sigma': []}\n",
        "      noise_samples['img'] = {'low':[], 'high': []}\n",
        "\n",
        "      for i in range(n_steps):\n",
        "        losses.append(svi.step(self.init_noise))\n",
        "        #print(losses[-1])\n",
        "        #saving samples\n",
        "        for latent in self.latents_names:\n",
        "          noise_samples[latent].append(pyro.param('prob_'+latent))\n",
        "        noise_samples['latent']['mu'].append(pyro.param('mu_latent'))\n",
        "        noise_samples['latent']['sigma'].append(pyro.param('sigma_latent'))\n",
        "        noise_samples['img']['low'].append(pyro.param('low_img'))\n",
        "        noise_samples['img']['high'].append(pyro.param('high_img'))\n",
        "\n",
        "      #calculating means\n",
        "      mean_values = {latent:[] for latent in self.latents_names}\n",
        "      mean_values['latent'] = {'mu':[], 'sigma': []}\n",
        "      mean_values['img'] = {'low':[], 'high': []}\n",
        "      for latent in self.latents_names:\n",
        "        mean_values[latent] = torch.mean(torch.stack(noise_samples[latent]), dim = 0)\n",
        "      mean_values['latent']['mu'] = torch.mean(torch.stack(noise_samples['latent']['mu']), dim = 0)\n",
        "      mean_values['latent']['sigma'] = torch.mean(torch.stack(noise_samples['latent']['sigma']), dim = 0)\n",
        "      mean_values['img']['low'] = torch.mean(torch.stack(noise_samples['img']['low']), dim = 0)\n",
        "      mean_values['img']['high'] = torch.mean(torch.stack(noise_samples['img']['high']), dim = 0)\n",
        "\n",
        "      updated_noise = {}\n",
        "      for latent in self.latents_names:\n",
        "        updated_noise[latent] = OneHotCategorical(mean_values[latent])\n",
        "      updated_noise['latent'] = Normal(mean_values['latent']['mu'], mean_values['latent']['sigma'])\n",
        "      updated_noise['img'] = Normal(mean_values['img']['low'], mean_values['img']['high'])\n",
        "\n",
        "      #counterfactual query with updated noise\n",
        "      intModel = pyro.do(model, data = {var_name : counter_var})\n",
        "      cf_posterior = pyro.infer.Importance(intModel, guide, n_steps).run(updated_noise)\n",
        "      cf_marginal = pyro.infer.EmpiricalMarginal(cf_posterior, sites = 'img')\n",
        "      plt.imshow(cf_marginal.mean.detach().numpy().reshape(64, 64), cmap = 'Greys')\n",
        "      plt.show()"
      ]
    },
    {
      "cell_type": "code",
      "metadata": {
        "id": "A5nWEW9jsDnP",
        "colab_type": "code",
        "outputId": "d34acd7f-17c7-46bb-fc4d-0845243df60d",
        "colab": {
          "base_uri": "https://localhost:8080/",
          "height": 281
        }
      },
      "source": [
        "class SCM():\n",
        "  def __init__(self, vae):\n",
        "    self.vae = vae\n",
        "    self.latents_names = ['color', 'shape', 'scale', 'orien', 'posX', 'posY']\n",
        "    self.latents_sizes = {'color' : 1, 'shape': 3, 'scale':6, 'orien': 40, 'posX': 32, 'posY':32}\n",
        "    dist = OneHotCategorical\n",
        "    self.init_noise = {'color': dist(tensor([1.])),\n",
        "                       'shape': dist(tensor([0.4, 0.4, 0.2])),\n",
        "                       'scale': dist(tensor([1/6]).repeat(6)),\n",
        "                       'orien': dist(tensor([1/40]).repeat(40)),\n",
        "                       'posX': dist(tensor([1/32]).repeat(32)),\n",
        "                       'posY': dist(tensor([1/32]).repeat(32)),\n",
        "                       'latent': Normal(torch.zeros(200), torch.ones(200)),\n",
        "                       'img': Uniform(torch.zeros(4096), torch.ones(4096))}\n",
        "    \n",
        "    #functions for the model\n",
        "    def f_gumbel(N):\n",
        "      return N\n",
        "    \n",
        "    def f_posX(N, scale):\n",
        "      if 31 <= int(scale.max(0)[1] + N.max(0)[1]):\n",
        "        return torch.nn.functional.one_hot(torch.tensor([31]), 32).to(torch.float32).reshape([32])\n",
        "      else:\n",
        "        return torch.nn.functional.one_hot(scale.max(0)[1] + N.max(0)[1], 32).to(torch.float32).reshape([32])\n",
        "\n",
        "    def f_latent(N_latent, color, shape, scale, orien, posX, posY):\n",
        "      ind = ind_from_att(color.max(0)[1], shape.max(0)[1], scale.max(0)[1], orien.max(0)[1], posX.max(0)[1], posY.max(0)[1])\n",
        "      label = torch.round(torch.cat([color, shape, scale, orien, posX, posY], -1))\n",
        "      mu, sigma = vae.encoder.forward(torch.tensor(imgs[ind]).reshape(4096).to(torch.float32), label)\n",
        "      return N_latent * sigma + mu\n",
        "\n",
        "    def f_image(N_img, latent, color, shape, scale, orien, posX, posY):\n",
        "      label = torch.round(torch.cat([color, shape, scale, orien, posX, posY], -1))\n",
        "      img_decode = vae.decoder.forward(latent, label)\n",
        "      return (N_img > img_decode).to(torch.float)\n",
        "\n",
        " \n",
        "    def model(noise = self.init_noise):\n",
        "\n",
        "      #Noise variables\n",
        "      N_color = pyro.sample('N_color', noise['color'])\n",
        "      N_shape = pyro.sample('N_shape', noise['shape'])\n",
        "      N_scale = pyro.sample('N_scale', noise['scale'])\n",
        "      N_orien = pyro.sample('N_orien', noise['orien'])\n",
        "      N_posX = pyro.sample('N_posX', noise['posX'])\n",
        "      N_posY = pyro.sample('N_posY', noise['posY'])\n",
        "      N_latent = pyro.sample('N_latent', noise['latent'].to_event(1))\n",
        "      N_img = pyro.sample('N_img', noise['img'].to_event(1))\n",
        "\n",
        "      #variables\n",
        "      color = pyro.sample('color', Normal(f_gumbel(N_color), torch.tensor([0.01])).to_event(1))\n",
        "      shape = pyro.sample('shape', Normal(f_gumbel(N_shape), torch.tensor([0.01])).to_event(1))\n",
        "      scale = pyro.sample('scale', Normal(f_gumbel(N_scale), torch.tensor([0.01])).to_event(1))\n",
        "      orien = pyro.sample('orien', Normal(f_gumbel(N_orien), torch.tensor([0.01])).to_event(1))\n",
        "      posX = pyro.sample('posX', Normal(f_posX(N_posX, scale), torch.tensor([0.01])).to_event(1))\n",
        "      posY = pyro.sample('posY', Normal(f_gumbel(N_posY), torch.tensor([0.01])).to_event(1))\n",
        "\n",
        "      #variables\n",
        "      latent = pyro.sample('latent', Normal(f_latent(N_latent, color, shape, scale, orien, posX, posY), torch.tensor([0.01])).to_event(1))\n",
        "      img = pyro.sample('img', Normal(f_image(N_img, latent, color, shape, scale, orien, posX, posY), torch.tensor([0.01])).to_event(1))\n",
        "\n",
        "      return torch.round(torch.cat([color, shape, scale, orien, posX, posY], -1)), latent, img\n",
        "    \n",
        "    def guide(noise = self.init_noise):\n",
        "      \n",
        "      #params\n",
        "      cat_val =  {'color': 1, 'shape': 3, 'scale': 6, 'orien': 40, 'posX': 32, 'posY': 32}\n",
        "      probs = {key : pyro.param('prob_'+key, tensor(1/value).repeat(value), constraint = constraints.positive) for key, value in cat_val.items()}\n",
        "      mu_latent = pyro.param('mu_latent', torch.ones(200)*0.5)\n",
        "      sigma_latent = pyro.param('sigma_latent', torch.ones(200)*0.2, constraint = constraints.positive)\n",
        "      low_img = pyro.param('low_img', torch.ones(4096)*0.5, constraint = constraints.interval(0., 1.))\n",
        "      high_img = pyro.param('high_img', torch.ones(4096)*0.02, constraint = constraints.interval(0., 1.))\n",
        "      \n",
        "      #noise variables\n",
        "      N_color = pyro.sample('N_color', OneHotCategorical(probs['color']))\n",
        "      N_shape = pyro.sample('N_shape', OneHotCategorical(probs['shape']))\n",
        "      N_scale = pyro.sample('N_scale', OneHotCategorical(probs['scale']))\n",
        "      N_orien = pyro.sample('N_orien', OneHotCategorical(probs['orien']))\n",
        "      N_posX = pyro.sample('N_posX', OneHotCategorical(probs['posX']))\n",
        "      N_posY = pyro.sample('N_posY', OneHotCategorical(probs['posY']))\n",
        "      N_latent = pyro.sample('N_latent', Normal(mu_latent, sigma_latent).to_event(1))\n",
        "      N_img = pyro.sample('N_img', Normal(low_img, high_img).to_event(1))\n",
        "      #print(sum(N_img > 1))\n",
        "      #print(sum(N_img < 0))\n",
        "      #variables\n",
        "      color = pyro.sample('color', Normal(f_gumbel(N_color), tensor(0.01)).to_event(1), infer = {'is_auxiliary' : True})\n",
        "      shape = pyro.sample('shape', Normal(f_gumbel(N_shape), tensor(0.01)).to_event(1), infer = {'is_auxiliary' : True})\n",
        "      scale = pyro.sample('scale', Normal(f_gumbel(N_scale), tensor(0.01)).to_event(1), infer = {'is_auxiliary' : True})\n",
        "      orien = pyro.sample('orien', Normal(f_gumbel(N_orien), tensor(0.01)).to_event(1), infer = {'is_auxiliary' : True})\n",
        "      posX = pyro.sample('posX', Normal(f_gumbel(N_posX), tensor(0.01)).to_event(1), infer = {'is_auxiliary' : True})\n",
        "      posY = pyro.sample('posY', Normal(f_gumbel(N_posY), tensor(0.01)).to_event(1), infer = {'is_auxiliary' : True})\n",
        "      latent = pyro.sample('latent', Normal(f_latent(N_latent, color, shape, scale, orien, posX, posY), tensor(0.01)).to_event(1))\n",
        "      img = pyro.sample('img', Normal(f_image(N_img, latent, color, shape, scale, orien, posX, posY), tensor(0.01)).to_event(1))\n",
        "\n",
        "      return \n",
        "    \n",
        "    \n",
        "\n",
        "    def viz_model():\n",
        "      label, _, img = model()\n",
        "      label = label_from_dummy(label)\n",
        "      plt.imshow(img.detach().numpy().reshape(64, 64), cmap = 'Greys')\n",
        "      text = 'Color:0    Shape:'+str(int(label[1])) + '   Scale:' + str(int(label[2])) + '   Orien.:' + str(int(label[3])) + '   Pos.X:' + str(int(label[4])) + '   Pos.Y:' + str(int(label[5]))\n",
        "      plt.title(text)\n",
        "      plt.show()\n",
        "\n",
        "    self.model = model\n",
        "    self.guide = guide\n",
        "    self.viz_model = viz_model\n",
        "\n",
        "\n",
        "scm = SCM(vae)\n",
        "scm.viz_model()"
      ],
      "execution_count": 0,
      "outputs": [
        {
          "output_type": "display_data",
          "data": {
            "image/png": "[encoded data removed]",
            "text/plain": [
              "<Figure size 432x288 with 1 Axes>"
            ]
          },
          "metadata": {
            "tags": []
          }
        }
      ]
    },
    {
      "cell_type": "code",
      "metadata": {
        "id": "V6PwIXTl0pqq",
        "colab_type": "code",
        "outputId": "abd1c46b-b614-41e7-d97d-ae9c633a9376",
        "colab": {
          "base_uri": "https://localhost:8080/",
          "height": 250
        }
      },
      "source": [
        "#condition algoritm\n",
        "obs = {'color': tensor([1.]),\n",
        "      'shape': tensor([0., 1., 0.]),\n",
        "      'orien': torch.zeros(40),\n",
        "      'posX': torch.zeros(32),\n",
        "      'posY': torch.zeros(32)}\n",
        "obs['orien'][17] = 1.\n",
        "obs['posY'][3] = 1.\n",
        "obs['posX'][4] = 1.\n",
        "obs['scale'] = tensor([1.0, 0., 0., 0., 0., 0.])\n",
        "condModel = pyro.condition(scm.model, data = obs)\n",
        "pyro.clear_param_store()\n",
        "\n",
        "var_shapes = {'color': 1, 'shape':3, 'scale':6, 'orien':40, 'posX':32, 'posY':32}\n",
        "\n",
        "#setting the SVI attributes\n",
        "adam_params = {'lr': 0.01}\n",
        "optmizer = pyro.optim.Adam(adam_params)\n",
        "elbo = pyro.infer.Trace_ELBO()\n",
        "svi = pyro.infer.SVI(condModel, scm.guide, optmizer, elbo)\n",
        "\n",
        "#training loop\n",
        "losses = []\n",
        "prob_samples = {key : [] for key in var_shapes.keys()}\n",
        "mu_samples = []\n",
        "sigma_samples = []\n",
        "low_samples = []\n",
        "high_samples = []\n",
        "\n",
        "for i in range(500):\n",
        "  losses.append(svi.step(scm.init_noise))\n",
        "  #saving samples\n",
        "  for key in var_shapes.keys():\n",
        "    prob_samples[key].append(pyro.param('prob_'+key))\n",
        "  mu_samples.append(pyro.param('mu_latent'))\n",
        "  sigma_samples.append(pyro.param('sigma_latent'))\n",
        "  low_samples.append(pyro.param('low_img'))\n",
        "  high_samples.append(pyro.param('high_img'))\n",
        "\n",
        "#calculating means\n",
        "for key in var_shapes.keys():\n",
        "  prob_samples[key] = torch.mean(torch.stack(prob_samples[key]), dim = 0)\n",
        "mu_samples = torch.mean(torch.stack(mu_samples), dim = 0)\n",
        "sigma_samples = torch.mean(torch.stack(sigma_samples), dim = 0)\n",
        "low_samples = torch.mean(torch.stack(low_samples),dim = 0)\n",
        "high_samples = torch.mean(torch.stack(high_samples), dim = 0)\n",
        "\n",
        "updated_noise = {}\n",
        "for key in var_shapes.keys():\n",
        "  updated_noise[key] = OneHotCategorical( prob_samples[key])\n",
        "updated_noise['latent'] = Normal(mu_samples, sigma_samples)\n",
        "updated_noise['img'] =  Normal(low_samples, high_samples)\n",
        "img_samples = []\n",
        "for _ in range(1000):\n",
        "  _, _, s = scm.model(updated_noise)\n",
        "  img_samples.append(s)\n",
        "img_samples = torch.mean(torch.stack(img_samples), dim = 0)\n",
        "print(prob_samples)"
      ],
      "execution_count": 0,
      "outputs": [
        {
          "output_type": "stream",
          "text": [
            "{'color': tensor([1.], grad_fn=<MeanBackward1>), 'shape': tensor([0.3325, 0.3336, 0.3344], grad_fn=<MeanBackward1>), 'scale': tensor([0.1682, 0.1675, 0.1670, 0.1668, 0.1662, 0.1661],\n",
            "       grad_fn=<MeanBackward1>), 'orien': tensor([0.0250, 0.0251, 0.0250, 0.0250, 0.0251, 0.0250, 0.0253, 0.0251, 0.0250,\n",
            "        0.0250, 0.0250, 0.0251, 0.0251, 0.0250, 0.0251, 0.0250, 0.0250, 0.0251,\n",
            "        0.0252, 0.0251, 0.0251, 0.0250, 0.0252, 0.0251, 0.0250, 0.0250, 0.0251,\n",
            "        0.0251, 0.0252, 0.0250, 0.0250, 0.0250, 0.0250, 0.0252, 0.0253, 0.0251,\n",
            "        0.0251, 0.0254, 0.0250, 0.0252], grad_fn=<MeanBackward1>), 'posX': tensor([0.0312, 0.0318, 0.0314, 0.0313, 0.0313, 0.0314, 0.0313, 0.0313, 0.0313,\n",
            "        0.0315, 0.0313, 0.0313, 0.0313, 0.0313, 0.0313, 0.0315, 0.0314, 0.0314,\n",
            "        0.0315, 0.0313, 0.0314, 0.0312, 0.0313, 0.0313, 0.0314, 0.0312, 0.0313,\n",
            "        0.0313, 0.0312, 0.0313, 0.0314, 0.0312], grad_fn=<MeanBackward1>), 'posY': tensor([0.0314, 0.0313, 0.0315, 0.0313, 0.0313, 0.0314, 0.0315, 0.0313, 0.0313,\n",
            "        0.0314, 0.0313, 0.0315, 0.0313, 0.0312, 0.0313, 0.0313, 0.0313, 0.0312,\n",
            "        0.0313, 0.0313, 0.0313, 0.0313, 0.0313, 0.0314, 0.0314, 0.0314, 0.0313,\n",
            "        0.0313, 0.0313, 0.0313, 0.0314, 0.0313], grad_fn=<MeanBackward1>)}\n"
          ],
          "name": "stdout"
        }
      ]
    },
    {
      "cell_type": "code",
      "metadata": {
        "id": "pmTEJyyDVmXv",
        "colab_type": "code",
        "outputId": "1f57767c-8f42-4cab-edaa-6bdbbfbff90c",
        "colab": {
          "base_uri": "https://localhost:8080/",
          "height": 34
        }
      },
      "source": [
        "#initial_noise = {'A': OneHotCategorical(probs = tensor([0.3, 0.1, 0.6]))}\n",
        "initial_noise = {'A': Uniform(tensor(0.), tensor(1.))}\n",
        "\n",
        "def f_A(N):\n",
        "  return N\n",
        "\n",
        "def model(noise):\n",
        "  N_A = pyro.sample('N_A', noise['A'])\n",
        "  A = pyro.sample('A', pyro.distributions.Normal(f_A(N_A), tensor(0.01)))\n",
        "  return A\n",
        "\n",
        "def guide(noise):\n",
        "  #prob_A = pyro.param('A_probs', tensor([1/3]).repeat(3), constraint = constraints.positive)\n",
        "  #N_A = pyro.sample('N_A', OneHotCategorical(probs = prob_A))\n",
        "  mu_A = pyro.param('A_mu', tensor(0.4), constraint = constraints.interval(0., 1.))\n",
        "  sigma_A = pyro.param('A_sigma', tensor(0.2), constraint = constraints.interval(0., 1.))\n",
        "  pyro.sample('N_A', Normal(mu_A, sigma_A))\n",
        "\n",
        "condModel = pyro.condition(model, data = {'A': tensor(0.6)})\n",
        "pyro.clear_param_store()\n",
        "\n",
        "#setting the SVI attributes\n",
        "adam_params = {'lr': 0.01}\n",
        "optmizer = pyro.optim.Adam(adam_params)\n",
        "elbo = pyro.infer.Trace_ELBO()\n",
        "svi = pyro.infer.SVI(condModel, guide, optmizer, elbo)\n",
        "\n",
        "#training loop\n",
        "#prob_samples = []\n",
        "mu_samples = []\n",
        "sigma_samples = []\n",
        "losses = []\n",
        "for i in range(1000):\n",
        "  losses.append(svi.step(initial_noise))\n",
        "  #saving samples\n",
        "  #prob_samples.append(pyro.param('A_probs'))\n",
        "  mu_samples.append(pyro.param('A_mu'))\n",
        "  sigma_samples.append(pyro.param('A_sigma'))\n",
        "#prob_samples = torch.mean(torch.stack(prob_samples), dim = 0)\n",
        "mu_samples = torch.mean(torch.stack(mu_samples), dim = 0)\n",
        "sigma_samples = torch.mean(torch.stack(sigma_samples), dim = 0)\n",
        "\n",
        "updated_noise = {'A': Normal(mu_samples, sigma_samples)}\n",
        "A_samples = []\n",
        "for _ in range(1000):\n",
        "  s = model(updated_noise)\n",
        "  A_samples.append(s)\n",
        "A_samples = torch.mean(torch.stack(A_samples), dim = 0)\n",
        "\n",
        "A_samples      "
      ],
      "execution_count": 0,
      "outputs": [
        {
          "output_type": "execute_result",
          "data": {
            "text/plain": [
              "tensor(0.5870, grad_fn=<MeanBackward1>)"
            ]
          },
          "metadata": {
            "tags": []
          },
          "execution_count": 161
        }
      ]
    },
    {
      "cell_type": "code",
      "metadata": {
        "id": "mvZ7DJFkZJ-h",
        "colab_type": "code",
        "colab": {}
      },
      "source": [
        "initial_noise = {'A': Uniform(tensor(0.), tensor(1.))}\n",
        "\n",
        "def f_A(N):\n",
        "  return N\n",
        "\n",
        "def model(noise):\n",
        "  N_A = pyro.sample('N_A', noise['A'])\n",
        "  A = pyro.sample('A', pyro.distributions.Normal(f_A(N_A), tensor(0.01)).to_event(1))\n",
        "  return A\n",
        "\n",
        "def guide(noise):\n",
        "  mu_A = pyro.param('A_probs', tensor([1/3]).repeat(3), constraint = constraints.positive)\n",
        "  \n",
        "  N_A = pyro.sample('N_A', OneHotCategorical(probs = prob_A))\n",
        "\n",
        "\n",
        "condModel = pyro.condition(model, data = {'A': tensor([0., 1., 0.])})\n",
        "pyro.clear_param_store()\n",
        "\n",
        "#setting the SVI attributes\n",
        "adam_params = {'lr': 0.01}\n",
        "optmizer = pyro.optim.Adam(adam_params)\n",
        "elbo = pyro.infer.Trace_ELBO()\n",
        "svi = pyro.infer.SVI(condModel, guide, optmizer, elbo)\n",
        "\n",
        "#training loop\n",
        "prob_samples = []\n",
        "losses = []\n",
        "for i in range(1000):\n",
        "  losses.append(svi.step(initial_noise))\n",
        "  #saving samples\n",
        "  prob_samples.append(pyro.param('A_probs'))\n",
        "\n",
        "prob_samples = torch.mean(torch.stack(prob_samples), dim = 0)\n",
        "\n",
        "updated_noise = {'A': OneHotCategorical(prob_samples)}\n",
        "A_samples = []\n",
        "for _ in range(1000):\n",
        "  s = model(updated_noise)\n",
        "  A_samples.append(s)\n",
        "A_samples = torch.mean(torch.stack(A_samples), dim = 0)\n",
        "\n",
        "A_samples      "
      ],
      "execution_count": 0,
      "outputs": []
    },
    {
      "cell_type": "code",
      "metadata": {
        "id": "fKoIjkZj9pQ1",
        "colab_type": "code",
        "colab": {}
      },
      "source": [
        "def t_mean(tens):\n",
        "  return torch.mean(torch.stack(tens), dim = 0)\n",
        "\n",
        "class SCM_test():\n",
        "  def __init__(self, vae):\n",
        "    self.vae = vae\n",
        "    self.latents_names = ['shape', 'scale', 'orien', 'posX', 'posY']\n",
        "    dist = OneHotCategorical\n",
        "    self.init_noise = {'shape': dist(tensor([.4, .4, .2])),\n",
        "                       'scale': dist(tensor([1., 2., 2., 2., 2., 1.])),\n",
        "                       'posX': dist(tensor(1/32).repeat(32))}\n",
        "    aux = torch.ones(40)*0.02\n",
        "    aux[8] = 0.2\n",
        "    self.init_noise['orien'] = dist(aux)\n",
        "    aux = torch.ones(32)*0.02\n",
        "    aux[14] = 0.18\n",
        "    aux[15] = 0.18\n",
        "    self.init_noise['posY'] = dist(aux)\n",
        "\n",
        "    def f_cat(N):\n",
        "      return N\n",
        "\n",
        "    def f_posX(N, scale):\n",
        "      if 31 <= int(scale.max(0)[1] + N.max(0)[1]):\n",
        "        return torch.nn.functional.one_hot(torch.tensor([31]), 32).to(torch.float32).reshape([32])\n",
        "      else:\n",
        "        return torch.nn.functional.one_hot(scale.max(0)[1] + N.max(0)[1], 32).to(torch.float32).reshape([32])\n",
        "\n",
        "    def model(noise  = self.init_noise):\n",
        "      #noise variables\n",
        "      N_shape = pyro.sample('N_shape', noise['shape'])\n",
        "      N_scale = pyro.sample('N_scale', noise['scale'])\n",
        "      N_orien = pyro.sample('N_orien', noise['orien'])\n",
        "      N_posX = pyro.sample('N_posX', noise['posX'])\n",
        "      N_posY = pyro.sample('N_posY', noise['posY'])\n",
        "      #variables\n",
        "      shape = pyro.sample('shape', Normal(f_cat(N_shape), tensor(0.01)).to_event(1))\n",
        "      scale = pyro.sample('scale', Normal(f_cat(N_scale), tensor(0.01)).to_event(1))\n",
        "      orien = pyro.sample('orien', Normal(f_cat(N_orien), tensor(0.01)).to_event(1))\n",
        "      posX = pyro.sample('posX', Normal(f_posX(N_posX, scale), tensor(0.01)).to_event(1))\n",
        "      posY = pyro.sample('posY', Normal(f_cat(N_posY), tensor(0.01)).to_event(1))\n",
        "      return shape, scale, orien, posX, posY\n",
        "\n",
        "    def guide(noise = self.init_noise):\n",
        "      #noise params\n",
        "      prob_shape = pyro.param('prob_shape', tensor(1/3).repeat(3), constraint = constraints.positive)\n",
        "      prob_scale = pyro.param('prob_scale', tensor(1/6).repeat(6), constraint = constraints.positive)\n",
        "      prob_orien = pyro.param('prob_orien', tensor(1/10).repeat(40), constraint = constraints.positive)\n",
        "      prob_posX = pyro.param('prob_posX', tensor(1/32).repeat(32), constraint = constraints.positive)\n",
        "      prob_posY = pyro.param('prob_posY', tensor(1/32).repeat(32), constraint = constraints.positive)\n",
        "      #noise variables\n",
        "      N_shape = pyro.sample('N_shape', OneHotCategorical(prob_shape))\n",
        "      N_scale = pyro.sample('N_scale', OneHotCategorical(prob_scale))\n",
        "      N_orien = pyro.sample('N_orien', OneHotCategorical(prob_orien))\n",
        "      N_posX= pyro.sample('N_posX', OneHotCategorical(prob_posX))\n",
        "      N_posY= pyro.sample('N_posY', OneHotCategorical(prob_posY))\n",
        "      #variables\n",
        "      shape = pyro.sample('shape', Normal(f_cat(N_shape), tensor(0.01)).to_event(1), infer={'is_auxiliary': True})\n",
        "      scale = pyro.sample('scale', Normal(f_cat(N_scale), tensor(0.01)).to_event(1), infer={'is_auxiliary': True})\n",
        "      orien = pyro.sample('orien', Normal(f_cat(N_orien), tensor(0.01)).to_event(1), infer={'is_auxiliary': True})\n",
        "      posX = pyro.sample('posX', Normal(f_cat(N_posX), tensor(0.01)).to_event(1), infer={'is_auxiliary': True})\n",
        "      posY = pyro.sample('posY', Normal(f_cat(N_posY), tensor(0.01)).to_event(1), infer={'is_auxiliary': True})\n",
        "      return\n",
        "\n",
        "    self.model = model\n",
        "    self.guide = guide\n",
        "\n",
        "def svi_calculate(scm, datacond, lr, betas, n_steps):\n",
        "  condModel = pyro.condition(scm.model, data = datacond)\n",
        "  pyro.clear_param_store()\n",
        "\n",
        "  #setting the SVI attributes\n",
        "  args = {'lr': lr, 'betas': betas}\n",
        "  optmizer = pyro.optim.Adam(args)\n",
        "  elbo = pyro.infer.Trace_ELBO()\n",
        "  svi = pyro.infer.SVI(condModel, scm.guide, optmizer, elbo)\n",
        "  var = ['shape', 'scale', 'orien', 'posX','posY']\n",
        "  #training loop\n",
        "  cat_samples = {'shape':[], 'scale':[], 'orien':[], 'posX':[], 'posY':[]}\n",
        "  losses = []\n",
        "  for i in range(n_steps):\n",
        "    losses.append(svi.step(scm.init_noise))\n",
        "    #saving samples\n",
        "    for key in var:\n",
        "      cat_samples[key].append(pyro.param('prob_'+key))\n",
        "  for key in var:\n",
        "    cat_samples[key] = t_mean(cat_samples[key])\n",
        "\n",
        "  updated_noise = {key : OneHotCategorical(cat_samples[key]) for key in var}\n",
        "\n",
        "  samples = {'shape':[], 'scale':[], 'orien':[], 'posX':[], 'posY':[]}\n",
        "  for _ in range(1000):\n",
        "    sh, sc, ori, px, py = scm.model(updated_noise)\n",
        "    samples['shape'].append(sh)\n",
        "    samples['scale'].append(sc)\n",
        "    samples['orien'].append(ori)\n",
        "    samples['posX'].append(px)\n",
        "    samples['posY'].append(py)\n",
        "  for key in var:\n",
        "    samples[key] = t_mean(samples[key])\n",
        "  print('=====================')\n",
        "  print('SVI')\n",
        "  print('The SVI was run with ' + str(n_steps) + ' steps. The Adam lr was ' + str(lr) + ' and the betas interval was ' + str(betas) + '.')\n",
        "  print('The conditioned values was:')\n",
        "  print('Shape: '+ str(datacond['shape'].max(0)[1]))\n",
        "  print('Scale: '+ str(datacond['scale'].max(0)[1]))\n",
        "  print('Orien: '+ str(datacond['orien'].max(0)[1]))\n",
        "  print('PosX: '+ str(datacond['posX'].max(0)[1]))\n",
        "  print('PosY: '+ str(datacond['posY'].max(0)[1]))\n",
        "  print('The infered values was:')\n",
        "  print('Shape: '+ str(samples['shape'].max(0)[1]))\n",
        "  print('Scale: '+ str(samples['scale'].max(0)[1]))\n",
        "  print('Orien: '+ str(samples['orien'].max(0)[1]))\n",
        "  print('PosX: '+ str(samples['posX'].max(0)[1]))\n",
        "  print('PosY: '+ str(samples['posY'].max(0)[1]))    \n"
      ],
      "execution_count": 0,
      "outputs": []
    },
    {
      "cell_type": "code",
      "metadata": {
        "id": "XoJU8upIYQh_",
        "colab_type": "code",
        "colab": {
          "base_uri": "https://localhost:8080/",
          "height": 283
        },
        "outputId": "6ae4e689-2524-4f26-ed05-c69e74b441ca"
      },
      "source": [
        "scm = SCM_test(vae)\n",
        "data = {'shape': tensor([0., 1., 0.]),\n",
        "        'scale': tensor([1., 0., 0., 0., 0., 0.]),\n",
        "        'orien': torch.nn.functional.one_hot(tensor(5), 40).to(torch.float32),\n",
        "        'posX': torch.nn.functional.one_hot(tensor(4), 32).to(torch.float32),\n",
        "        'posY': torch.nn.functional.one_hot(tensor(4), 32).to(torch.float32)}\n",
        "svi_calculate(scm, data, 0.01, [0.1, 0.99], 1000)"
      ],
      "execution_count": 117,
      "outputs": [
        {
          "output_type": "stream",
          "text": [
            "=====================\n",
            "SVI\n",
            "The SVI was run with 1000 steps. The Adam lr was 0.01 and the betas interval was [0.1, 0.99].\n",
            "The conditioned values was:\n",
            "Shape: tensor(1)\n",
            "Scale: tensor(0)\n",
            "Orien: tensor(5)\n",
            "PosX: tensor(4)\n",
            "PosY: tensor(4)\n",
            "The infered values was:\n",
            "Shape: tensor(1)\n",
            "Scale: tensor(0)\n",
            "Orien: tensor(10)\n",
            "PosX: tensor(31)\n",
            "PosY: tensor(7)\n"
          ],
          "name": "stdout"
        }
      ]
    },
    {
      "cell_type": "code",
      "metadata": {
        "id": "n-xcXVUv84EW",
        "colab_type": "code",
        "colab": {}
      },
      "source": [
        "for i in [0.001, 0.01, 0.05, 0.1, 0.2, 0.5, 0.8, 1., 10.]:\n",
        "  svi_calculate(scm, data, i, [0.1, 0.99], 1000)"
      ],
      "execution_count": 0,
      "outputs": []
    },
    {
      "cell_type": "code",
      "metadata": {
        "id": "K5Nz5EKk_E4b",
        "colab_type": "code",
        "colab": {
          "base_uri": "https://localhost:8080/",
          "height": 1000
        },
        "outputId": "4cd8905b-8838-4d6f-86f6-12b720eea714"
      },
      "source": [
        "for i in [0.03, 0.05, 0.08, 0.1, 0.13]:\n",
        "  svi_calculate(scm, data, i, [0.1, 0.99], 1000)"
      ],
      "execution_count": 119,
      "outputs": [
        {
          "output_type": "stream",
          "text": [
            "=====================\n",
            "SVI\n",
            "The SVI was run with 1000 steps. The Adam lr was 0.03 and the betas interval was [0.1, 0.99].\n",
            "The conditioned values was:\n",
            "Shape: tensor(1)\n",
            "Scale: tensor(0)\n",
            "Orien: tensor(5)\n",
            "PosX: tensor(4)\n",
            "PosY: tensor(4)\n",
            "The infered values was:\n",
            "Shape: tensor(1)\n",
            "Scale: tensor(0)\n",
            "Orien: tensor(5)\n",
            "PosX: tensor(4)\n",
            "PosY: tensor(21)\n",
            "=====================\n",
            "SVI\n",
            "The SVI was run with 1000 steps. The Adam lr was 0.05 and the betas interval was [0.1, 0.99].\n",
            "The conditioned values was:\n",
            "Shape: tensor(1)\n",
            "Scale: tensor(0)\n",
            "Orien: tensor(5)\n",
            "PosX: tensor(4)\n",
            "PosY: tensor(4)\n",
            "The infered values was:\n",
            "Shape: tensor(1)\n",
            "Scale: tensor(0)\n",
            "Orien: tensor(18)\n",
            "PosX: tensor(4)\n",
            "PosY: tensor(3)\n",
            "=====================\n",
            "SVI\n",
            "The SVI was run with 1000 steps. The Adam lr was 0.08 and the betas interval was [0.1, 0.99].\n",
            "The conditioned values was:\n",
            "Shape: tensor(1)\n",
            "Scale: tensor(0)\n",
            "Orien: tensor(5)\n",
            "PosX: tensor(4)\n",
            "PosY: tensor(4)\n",
            "The infered values was:\n",
            "Shape: tensor(1)\n",
            "Scale: tensor(0)\n",
            "Orien: tensor(5)\n",
            "PosX: tensor(13)\n",
            "PosY: tensor(4)\n",
            "=====================\n",
            "SVI\n",
            "The SVI was run with 1000 steps. The Adam lr was 0.1 and the betas interval was [0.1, 0.99].\n",
            "The conditioned values was:\n",
            "Shape: tensor(1)\n",
            "Scale: tensor(0)\n",
            "Orien: tensor(5)\n",
            "PosX: tensor(4)\n",
            "PosY: tensor(4)\n",
            "The infered values was:\n",
            "Shape: tensor(1)\n",
            "Scale: tensor(0)\n",
            "Orien: tensor(5)\n",
            "PosX: tensor(4)\n",
            "PosY: tensor(31)\n",
            "=====================\n",
            "SVI\n",
            "The SVI was run with 1000 steps. The Adam lr was 0.13 and the betas interval was [0.1, 0.99].\n",
            "The conditioned values was:\n",
            "Shape: tensor(1)\n",
            "Scale: tensor(0)\n",
            "Orien: tensor(5)\n",
            "PosX: tensor(4)\n",
            "PosY: tensor(4)\n",
            "The infered values was:\n",
            "Shape: tensor(1)\n",
            "Scale: tensor(0)\n",
            "Orien: tensor(5)\n",
            "PosX: tensor(30)\n",
            "PosY: tensor(4)\n"
          ],
          "name": "stdout"
        }
      ]
    },
    {
      "cell_type": "markdown",
      "metadata": {
        "id": "Mg3kJB15_wl-",
        "colab_type": "text"
      },
      "source": [
        "faixa de bons otimizadores com lr [0.03, 0.12]"
      ]
    },
    {
      "cell_type": "code",
      "metadata": {
        "id": "Vx5Mup-v49ns",
        "colab_type": "code",
        "colab": {
          "base_uri": "https://localhost:8080/",
          "height": 34
        },
        "outputId": "8981ac07-d82b-4794-9599-b467095a3688"
      },
      "source": [
        "def t_mean(tens):\n",
        "  return torch.mean(torch.stack(tens), dim = 0)\n",
        "\n",
        "class SCM_test():\n",
        "  def __init__(self, vae):\n",
        "    self.vae = vae\n",
        "    self.latents_names = ['shape', 'scale', 'orien', 'posX', 'posY']\n",
        "    dist = Categorical\n",
        "    self.init_noise = {'shape': dist(tensor([.4, .4, .2])),\n",
        "                       'scale': dist(tensor([1., 2., 2., 2., 2., 1.]))}#,\n",
        "                       #'orien': dist(tensor(1/40).repeat(40)),\n",
        "                       #'posY': dist(tensor(1/32).repeat(32))}\n",
        "    aux = torch.ones(40)*0.02\n",
        "    aux[8] = 0.2\n",
        "    self.init_noise['orien'] = dist(aux)\n",
        "    \n",
        "    def f_cat(N):\n",
        "      return N.to(torch.float32)\n",
        "\n",
        "    def model(noise  = self.init_noise):\n",
        "      #noise variables\n",
        "      N_shape = pyro.sample('N_shape', noise['shape'])\n",
        "      N_scale = pyro.sample('N_scale', noise['scale'])\n",
        "      N_orien = pyro.sample('N_orien', noise['orien'])\n",
        "      #N_posY = pyro.sample('N_posY', noise['posY'])\n",
        "      #variables\n",
        "      shape = pyro.sample('shape', Normal(f_cat(N_shape), tensor(0.01)))\n",
        "      scale = pyro.sample('scale', Normal(f_cat(N_scale), tensor(0.01)))\n",
        "      orien = pyro.sample('orien', Normal(f_cat(N_orien), tensor(0.01)))\n",
        "      #posY = pyro.sample('posY', Normal(f_cat(N_posY), tensor(0.01)))\n",
        "      return shape, scale, orien#, posY\n",
        "\n",
        "    def guide(noise = self.init_noise):\n",
        "      #noise params\n",
        "      prob_shape = pyro.param('prob_shape', tensor(1/3).repeat(3), constraint = constraints.positive)\n",
        "      prob_scale = pyro.param('prob_scale', tensor(1/6).repeat(6), constraint = constraints.positive)\n",
        "      prob_orien = pyro.param('prob_orien', tensor(1/10).repeat(40), constraint = constraints.positive)\n",
        "      #prob_posY = pyro.param('prob_posY', tensor(1/32).repeat(32), constraint = constraints.positive)\n",
        "      #noise variables\n",
        "      N_shape = pyro.sample('N_shape', Categorical(prob_shape))\n",
        "      N_scale = pyro.sample('N_scale', Categorical(prob_scale))\n",
        "      N_orien = pyro.sample('N_orien', Categorical(prob_orien))\n",
        "      #N_posY= pyro.sample('N_posY', OneHotCategorical(prob_posY))\n",
        "      #variables\n",
        "      shape = pyro.sample('shape', Normal(f_cat(N_shape), tensor(0.01)), infer={'is_auxiliary': True})\n",
        "      scale = pyro.sample('scale', Normal(f_cat(N_scale), tensor(0.01)), infer={'is_auxiliary': True})\n",
        "      orien = pyro.sample('orien', Normal(f_cat(N_orien), tensor(0.01)), infer={'is_auxiliary': True})\n",
        "      #posY = pyro.sample('posY', Normal(f_cat(N_posY), tensor(0.01)).to_event(1), infer={'is_auxiliary': True})\n",
        "      return\n",
        "\n",
        "    self.model = model\n",
        "    self.guide = guide\n",
        "scm = SCM_test(vae)\n",
        "scm.model()\n",
        "\n",
        "data = {'shape': tensor(1.),\n",
        "        'scale': tensor(2.),\n",
        "        'orien': tensor(4.)}#,\n",
        "        #'posY': torch.nn.functional.one_hot(tensor(28), 32).to(torch.float32)}\n",
        "\n",
        "condModel = pyro.condition(scm.model, data = data)\n",
        "pyro.clear_param_store()\n",
        "\n",
        "#setting the SVI attributes\n",
        "def per_param_callable(module_name, param_name):\n",
        "    if param_name == 'N_orien':\n",
        "        return {\"lr\": 0.01}\n",
        "    else:\n",
        "        return {\"lr\": 0.1}\n",
        "optmizer = pyro.optim.Adam(per_param_callable)\n",
        "elbo = pyro.infer.Trace_ELBO()\n",
        "svi = pyro.infer.SVI(condModel, scm.guide, optmizer, elbo)\n",
        "var = ['shape', 'scale', 'orien']#, 'posY']\n",
        "#training loop\n",
        "cat_samples = {'shape':[], 'scale':[], 'orien':[]}#, 'posY':[]}\n",
        "losses = []\n",
        "for i in range(1000):\n",
        "  losses.append(svi.step(scm.init_noise))\n",
        "  #saving samples\n",
        "  for key in var:\n",
        "    cat_samples[key].append(pyro.param('prob_'+key))\n",
        "for key in var:\n",
        "  cat_samples[key] = t_mean(cat_samples[key])\n",
        "\n",
        "updated_noise = {key : Categorical(cat_samples[key]) for key in var}\n",
        "\n",
        "shape_samples = []\n",
        "scale_samples = []\n",
        "orien_samples = []\n",
        "#posy_samples = []\n",
        "for _ in range(1000):\n",
        "  a, b, c = scm.model(updated_noise)\n",
        "  shape_samples.append(a)\n",
        "  scale_samples.append(b)\n",
        "  orien_samples.append(c)\n",
        "  #posy_samples.append(d)\n",
        "shape_samples = t_mean(shape_samples)\n",
        "scale_samples = t_mean(scale_samples)\n",
        "orien_samples = t_mean(orien_samples)\n",
        "#posy_samples = t_mean(posy_samples)\n",
        "print(shape_samples, scale_samples, orien_samples) #posy_samples[28])     \n"
      ],
      "execution_count": 87,
      "outputs": [
        {
          "output_type": "stream",
          "text": [
            "tensor(1.1987) tensor(2.1049) tensor(4.1208)\n"
          ],
          "name": "stdout"
        }
      ]
    },
    {
      "cell_type": "code",
      "metadata": {
        "id": "Cn7ZVXXR5aI0",
        "colab_type": "code",
        "colab": {}
      },
      "source": [
        ""
      ],
      "execution_count": 0,
      "outputs": []
    }
  ]
}