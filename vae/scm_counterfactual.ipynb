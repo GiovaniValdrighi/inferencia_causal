{
  "nbformat": 4,
  "nbformat_minor": 0,
  "metadata": {
    "colab": {
      "name": "scm_counterfactual.ipynb",
      "provenance": [],
      "collapsed_sections": [],
      "authorship_tag": "ABX9TyMnSq/2fIbOfwiAWDYFvWe8",
      "include_colab_link": true
    },
    "kernelspec": {
      "name": "python3",
      "display_name": "Python 3"
    }
  },
  "cells": [
    {
      "cell_type": "markdown",
      "metadata": {
        "id": "view-in-github",
        "colab_type": "text"
      },
      "source": [
        "<a href=\"https://colab.research.google.com/github/GiovaniValdrighi/inferencia_causal/blob/master/vae/scm_counterfactual.ipynb\" target=\"_parent\"><img src=\"https://colab.research.google.com/assets/colab-badge.svg\" alt=\"Open In Colab\"/></a>"
      ]
    },
    {
      "cell_type": "code",
      "metadata": {
        "id": "XK1wfSf5rDRM",
        "colab_type": "code",
        "outputId": "130950f1-0bdc-4427-f11d-8f21c6ef8b12",
        "colab": {
          "base_uri": "https://localhost:8080/",
          "height": 125
        }
      },
      "source": [
        "from google.colab import drive\n",
        "drive.mount('/content/gdrive')"
      ],
      "execution_count": 1,
      "outputs": [
        {
          "output_type": "stream",
          "text": [
            "Go to this URL in a browser: https://accounts.google.com/o/oauth2/auth?client_id=947318989803-6bn6qk8qdgf4n4g3pfee6491hc0brc4i.apps.googleusercontent.com&redirect_uri=urn%3aietf%3awg%3aoauth%3a2.0%3aoob&response_type=code&scope=email%20https%3a%2f%2fwww.googleapis.com%2fauth%2fdocs.test%20https%3a%2f%2fwww.googleapis.com%2fauth%2fdrive%20https%3a%2f%2fwww.googleapis.com%2fauth%2fdrive.photos.readonly%20https%3a%2f%2fwww.googleapis.com%2fauth%2fpeopleapi.readonly\n",
            "\n",
            "Enter your authorization code:\n",
            "··········\n",
            "Mounted at /content/gdrive\n"
          ],
          "name": "stdout"
        }
      ]
    },
    {
      "cell_type": "code",
      "metadata": {
        "id": "apUQA1WZrWNH",
        "colab_type": "code",
        "colab": {}
      },
      "source": [
        "from pydrive.auth import GoogleAuth\n",
        "from pydrive.drive import GoogleDrive\n",
        "from google.colab import auth\n",
        "from oauth2client.client import GoogleCredentials\n",
        "\n",
        "auth.authenticate_user()\n",
        "gauth = GoogleAuth()\n",
        "gauth.credentials = GoogleCredentials.get_application_default()\n",
        "drive = GoogleDrive(gauth)"
      ],
      "execution_count": 0,
      "outputs": []
    },
    {
      "cell_type": "code",
      "metadata": {
        "id": "P9rBbgcKrWma",
        "colab_type": "code",
        "outputId": "7393cd1b-48d0-4b53-c73c-e29e61eed2b6",
        "colab": {
          "base_uri": "https://localhost:8080/",
          "height": 515
        }
      },
      "source": [
        "!pip3 install -q http://download.pytorch.org/whl/{accelerator}/torch-0.4.0-{platform}-linux_x86_64.whl\n",
        "!pip3 install torchvision\n",
        "!pip3 install pyro-ppl"
      ],
      "execution_count": 3,
      "outputs": [
        {
          "output_type": "stream",
          "text": [
            "\u001b[31mERROR: torch-0.4.0-{platform}-linux_x86_64.whl is not a valid wheel filename.\u001b[0m\n",
            "Requirement already satisfied: torchvision in /usr/local/lib/python3.6/dist-packages (0.5.0)\n",
            "Requirement already satisfied: torch==1.4.0 in /usr/local/lib/python3.6/dist-packages (from torchvision) (1.4.0)\n",
            "Requirement already satisfied: numpy in /usr/local/lib/python3.6/dist-packages (from torchvision) (1.17.5)\n",
            "Requirement already satisfied: pillow>=4.1.1 in /usr/local/lib/python3.6/dist-packages (from torchvision) (6.2.2)\n",
            "Requirement already satisfied: six in /usr/local/lib/python3.6/dist-packages (from torchvision) (1.12.0)\n",
            "Collecting pyro-ppl\n",
            "\u001b[?25l  Downloading https://files.pythonhosted.org/packages/92/7a/4dc4d39d6db1aae0825a2a2ab60178fc4afb92efd9669be02715d3a16734/pyro_ppl-1.2.1-py3-none-any.whl (486kB)\n",
            "\u001b[K     |████████████████████████████████| 491kB 2.8MB/s \n",
            "\u001b[?25hCollecting tqdm>=4.36\n",
            "\u001b[?25l  Downloading https://files.pythonhosted.org/packages/cd/80/5bb262050dd2f30f8819626b7c92339708fe2ed7bd5554c8193b4487b367/tqdm-4.42.1-py2.py3-none-any.whl (59kB)\n",
            "\u001b[K     |████████████████████████████████| 61kB 8.2MB/s \n",
            "\u001b[?25hRequirement already satisfied: opt-einsum>=2.3.2 in /usr/local/lib/python3.6/dist-packages (from pyro-ppl) (3.1.0)\n",
            "Collecting pyro-api>=0.1.1\n",
            "  Downloading https://files.pythonhosted.org/packages/c2/bc/6cdbd1929e32fff62a33592633c2cc0393c7f7739131ccc9c9c4e28ac8dd/pyro_api-0.1.1-py3-none-any.whl\n",
            "Requirement already satisfied: torch>=1.4.0 in /usr/local/lib/python3.6/dist-packages (from pyro-ppl) (1.4.0)\n",
            "Requirement already satisfied: numpy>=1.7 in /usr/local/lib/python3.6/dist-packages (from pyro-ppl) (1.17.5)\n",
            "Installing collected packages: tqdm, pyro-api, pyro-ppl\n",
            "  Found existing installation: tqdm 4.28.1\n",
            "    Uninstalling tqdm-4.28.1:\n",
            "      Successfully uninstalled tqdm-4.28.1\n",
            "Successfully installed pyro-api-0.1.1 pyro-ppl-1.2.1 tqdm-4.42.1\n"
          ],
          "name": "stdout"
        },
        {
          "output_type": "display_data",
          "data": {
            "application/vnd.colab-display-data+json": {
              "pip_warning": {
                "packages": [
                  "tqdm"
                ]
              }
            }
          },
          "metadata": {
            "tags": []
          }
        }
      ]
    },
    {
      "cell_type": "code",
      "metadata": {
        "id": "bS6uj2clreyt",
        "colab_type": "code",
        "colab": {}
      },
      "source": [
        "import numpy as np\n",
        "import torch\n",
        "from vae_build import VAE, ind_from_att, label_from_dummy\n",
        "import pyro\n",
        "import matplotlib.pyplot as plt\n",
        "from pyro.distributions import OneHotCategorical, RelaxedOneHotCategorical, Normal, Uniform, constraints"
      ],
      "execution_count": 0,
      "outputs": []
    },
    {
      "cell_type": "code",
      "metadata": {
        "id": "F2zR_RmLrpmr",
        "colab_type": "code",
        "outputId": "1e4bbe69-8f59-4a16-f87f-f088cc88ad35",
        "colab": {
          "base_uri": "https://localhost:8080/",
          "height": 34
        }
      },
      "source": [
        "dataset_zip = np.load('/content/gdrive/My Drive/autoencoder/dsprites_ndarray_co1sh3sc6or40x32y32_64x64.npz', allow_pickle = True, encoding = 'bytes')\n",
        "print('Keys in the dataset:', dataset_zip.files)\n",
        "imgs = dataset_zip['imgs']\n",
        "latents_values = dataset_zip['latents_values']\n",
        "latents_classes = dataset_zip['latents_classes']\n",
        "latents_sizes = dataset_zip['metadata'][()][b'latents_sizes']\n",
        "latents_names = dataset_zip['metadata'][()][b'latents_names']"
      ],
      "execution_count": 6,
      "outputs": [
        {
          "output_type": "stream",
          "text": [
            "Keys in the dataset: ['metadata', 'imgs', 'latents_classes', 'latents_values']\n"
          ],
          "name": "stdout"
        }
      ]
    },
    {
      "cell_type": "code",
      "metadata": {
        "id": "mZR3o4vQrq6p",
        "colab_type": "code",
        "outputId": "e2a29ca5-337a-454c-afb7-544b57bb291a",
        "colab": {
          "base_uri": "https://localhost:8080/",
          "height": 34
        }
      },
      "source": [
        "#pyro.enable_validation(True)\n",
        "pyro.clear_param_store()\n",
        "#the training routine\n",
        "use_CUDA = False\n",
        "vae = VAE(latents_sizes, latents_names, use_CUDA = use_CUDA)\n",
        "vae.load_state_dict(torch.load('/content/gdrive/My Drive/trained_movel_epoch_24.save'))"
      ],
      "execution_count": 7,
      "outputs": [
        {
          "output_type": "execute_result",
          "data": {
            "text/plain": [
              "<All keys matched successfully>"
            ]
          },
          "metadata": {
            "tags": []
          },
          "execution_count": 7
        }
      ]
    },
    {
      "cell_type": "code",
      "metadata": {
        "id": "A5nWEW9jsDnP",
        "colab_type": "code",
        "outputId": "9b00828a-434a-4b9b-a2d6-6d2e070d9384",
        "colab": {
          "base_uri": "https://localhost:8080/",
          "height": 281
        }
      },
      "source": [
        "class SCM():\n",
        "  def __init__(self, vae):\n",
        "    self.vae = vae\n",
        "    self.latents_names = ['color', 'shape', 'scale', 'orien', 'posX', 'posY']\n",
        "    self.latents_sizes = {'color' : 1, 'shape': 3, 'scale':6, 'orien': 40, 'posX': 32, 'posY':32}\n",
        "    self.init_noise = {'color': OneHotCategorical(probs = torch.tensor([1.])),\n",
        "                       'shape': OneHotCategorical(probs = torch.tensor([1/3]).repeat(3)),\n",
        "                       'scale': OneHotCategorical(probs =torch.tensor([1/6]).repeat(6)),\n",
        "                       'orien': OneHotCategorical(probs =torch.tensor([1/40]).repeat(40)),\n",
        "                       'posX': OneHotCategorical(probs =torch.tensor([1/32]).repeat(32)),\n",
        "                       'posY': OneHotCategorical(probs =torch.tensor([1/32]).repeat(32)),\n",
        "                       'latent': Normal(torch.zeros(200), torch.ones(200)),\n",
        "                       'img': Uniform(torch.zeros(4096), torch.ones(4096))}\n",
        "    \n",
        "    #functions for the model\n",
        "    def f_gumbel(N):\n",
        "      return N\n",
        "    \n",
        "    def f_posX(N, scale):\n",
        "      if 31 <= int(scale.max(0)[1] + N.max(0)[1]):\n",
        "        return torch.nn.functional.one_hot(torch.tensor([31]), 32).to(torch.float32).reshape([32])\n",
        "      else:\n",
        "        return torch.nn.functional.one_hot(scale.max(0)[1] + N.max(0)[1], 32).to(torch.float32).reshape([32])\n",
        "\n",
        "    def f_latent(N_latent, ind, label):\n",
        "      mu, sigma = vae.encoder.forward(torch.tensor(imgs[ind]).reshape(4096).to(torch.float32), label)\n",
        "      return N_latent * sigma + mu\n",
        "\n",
        "    def f_image(N_img, latent, label):\n",
        "      img_decode = vae.decoder.forward(latent, label)\n",
        "      return (N_img > img_decode).to(torch.float)\n",
        "\n",
        " \n",
        "    def model(noise = self.init_noise):\n",
        "\n",
        "      #Noise variables\n",
        "      N_color = pyro.sample('N_color', noise['color'])\n",
        "      N_shape = pyro.sample('N_shape', noise['shape'])\n",
        "      N_scale = pyro.sample('N_scale', noise['scale'])\n",
        "      N_orien = pyro.sample('N_orien', noise['orien'])\n",
        "      N_posX = pyro.sample('N_posX', noise['posX'])\n",
        "      N_posY = pyro.sample('N_posY', noise['posY'])\n",
        "      N_latent = pyro.sample('N_latent', noise['latent'])\n",
        "      N_img = pyro.sample('N_img', noise['img'])\n",
        "\n",
        "      #variables\n",
        "      color = pyro.sample('color', Normal(f_gumbel(N_color), torch.tensor([0.01])).to_event(1))\n",
        "      shape = pyro.sample('shape', Normal(f_gumbel(N_shape), torch.tensor([0.01])).to_event(1))\n",
        "      scale = pyro.sample('scale', Normal(f_gumbel(N_scale), torch.tensor([0.01])).to_event(1))\n",
        "      orien = pyro.sample('orien', Normal(f_gumbel(N_orien), torch.tensor([0.01])).to_event(1))\n",
        "      posX = pyro.sample('posX', Normal(f_posX(N_posX, scale), torch.tensor([0.01])).to_event(1))\n",
        "      posY = pyro.sample('posY', Normal(f_gumbel(N_posY), torch.tensor([0.01])).to_event(1))\n",
        "\n",
        "      #fixing values to the decoder\n",
        "      ind = ind_from_att(color.max(0)[1], shape.max(0)[1], scale.max(0)[1], orien.max(0)[1], posX.max(0)[1], posY.max(0)[1])\n",
        "      label = torch.round(torch.cat([color, shape, scale, orien, posX, posY], -1))\n",
        "      \n",
        "      #variables\n",
        "      latent = pyro.sample('latent', Normal(f_latent(N_latent, ind, label), torch.tensor([0.01])).to_event(1))\n",
        "      img = pyro.sample('img', Normal(f_image(N_img, latent, label), torch.tensor([0.01])).to_event(1))\n",
        "\n",
        "      return label, latent, img\n",
        "    \n",
        "    def guide(noise):\n",
        "      #setting noises categorical parameters (probs)\n",
        "      constr =  constraints.interval(torch.tensor([0.01]), torch.tensor([0.99]))\n",
        "\n",
        "      noise_param = {'color': pyro.param('prob_color', torch.tensor([1]), constraint = constr),\n",
        "                    'shape': pyro.param('prob_shape', torch.tensor([1/3]).repeat(3), constraint = constr),\n",
        "                    'scale': pyro.param('prob_scale', torch.tensor([1/6]).repeat(6), constraint = constr),\n",
        "                    'orien': pyro.param('prob_orien', torch.tensor([1/40]).repeat(40), constraint = constr),\n",
        "                    'posX': pyro.param('prob_posX', torch.tensor([1/32]).repeat(32), constraint = constr),\n",
        "                    'posY': pyro.param('prob_posY', torch.tensor([1/32]).repeat(32), constraint = constr),\n",
        "                    'latent':{'mu': pyro.param('mu_latent', torch.tensor([0.6]).repeat(200), constraint = constraints.interval(torch.tensor([0.01]), torch.tensor([3.]))),\n",
        "                              'sigma': pyro.param('sigma_latent', torch.tensor([0.8]).repeat(200), constraint = constraints.interval(torch.tensor([0.01]), torch.tensor([3.])))},\n",
        "                    'img':{'low': pyro.param('low_img', torch.tensor([0.1]).repeat(4096), constraint = constraints.interval(torch.tensor([0.01]), torch.tensor([3.]))),\n",
        "                           'high': pyro.param('high_img', torch.tensor([0.9]).repeat(4096), constraint = constraints.interval(torch.tensor([0.01]), torch.tensor([3.])))}}\n",
        "\n",
        "      #categorical samples      \n",
        "      for key, value in noise_param.items():\n",
        "        if key != 'latent' and key != 'img':\n",
        "          #print(key + ':')\n",
        "          pyro.sample('N_'+key, RelaxedOneHotCategorical(torch.tensor([.4]), probs = value))\n",
        "          #print('=========================================================')\n",
        "\n",
        "      #normal samples\n",
        "      #print('Latent:')\n",
        "      pyro.sample('N_latent', Normal(noise_param['latent']['mu'], noise_param['latent']['mu']))\n",
        "      #print('========================================')\n",
        "      #print('Img')\n",
        "      pyro.sample('N_img', Uniform(noise_param['img']['low'], noise_param['img']['high']))\n",
        "      #print('========================================')\n",
        "      return \n",
        "    \n",
        "    def condition(cond_values, n_steps = 1000):\n",
        "      #calculating noise posterior in the observation model\n",
        "      condModel = pyro.condition(model, data = cond_values)\n",
        "      pyro.clear_param_store()\n",
        "\n",
        "      #setting the SVI attributes\n",
        "      adam_params = {'lr': 0.001}\n",
        "      optmizer = pyro.optim.Adam(adam_params)\n",
        "      elbo = pyro.infer.Trace_ELBO()\n",
        "      svi = pyro.infer.SVI(condModel, guide, optmizer, elbo)\n",
        "\n",
        "      #training loop\n",
        "      losses = []\n",
        "      noise_samples = {latent:[] for latent in self.latents_names}\n",
        "      noise_samples['latent'] = {'mu':[], 'sigma': []}\n",
        "      noise_samples['img'] = {'low':[], 'high': []}\n",
        "\n",
        "      for i in range(n_steps):\n",
        "        losses.append(svi.step(self.init_noise))\n",
        "        #saving samples\n",
        "        for latent in self.latents_names:\n",
        "          noise_samples[latent].append(pyro.param('prob_'+latent))\n",
        "        noise_samples['latent']['mu'].append(pyro.param('mu_latent'))\n",
        "        noise_samples['latent']['sigma'].append(pyro.param('sigma_latent'))\n",
        "        noise_samples['img']['low'].append(pyro.param('low_img'))\n",
        "        noise_samples['img']['high'].append(pyro.param('high_img'))\n",
        "\n",
        "      #calculating means\n",
        "      mean_values = {latent:[] for latent in self.latents_names}\n",
        "      mean_values['latent'] = {'mu':[], 'sigma': []}\n",
        "      mean_values['img'] = {'low':[], 'high': []}\n",
        "      for latent in self.latents_names:\n",
        "        mean_values[latent] = torch.mean(torch.stack(noise_samples[latent]), dim = 0)\n",
        "      mean_values['latent']['mu'] = torch.mean(torch.stack(noise_samples['latent']['mu']), dim = 0)\n",
        "      mean_values['latent']['sigma'] = torch.mean(torch.stack(noise_samples['latent']['sigma']), dim = 0)\n",
        "      mean_values['img']['low'] = torch.mean(torch.stack(noise_samples['img']['low']), dim = 0)\n",
        "      mean_values['img']['high'] = torch.mean(torch.stack(noise_samples['img']['high']), dim = 0)\n",
        "\n",
        "    \n",
        "      updated_noise = {}\n",
        "      for latent in self.latents_names:\n",
        "        updated_noise[latent] = OneHotCategorical(mean_values[latent])\n",
        "      updated_noise['latent'] = Normal(mean_values['latent']['mu'], mean_values['latent']['sigma'])\n",
        "      updated_noise['img'] = Uniform(mean_values['img']['low'], mean_values['img']['high'])\n",
        "\n",
        "      img_samples = []\n",
        "      for _ in range(1000):\n",
        "        _, _, s = model(updated_noise)\n",
        "        img_samples.append(s)\n",
        "      img_samples = torch.mean(torch.stack(img_samples), dim = 0)\n",
        "      plt.imshow(img_samples.detach().numpy().reshape(64, 64))\n",
        "      plt.show()\n",
        "      \n",
        "\n",
        "    def counterfactual(var_name, obs_var, counter_var, n_steps = 1000):\n",
        "      #calculating noise posterior in the observation model\n",
        "      obsModel = pyro.condition(model, data = {var_name : obs_var})\n",
        "      pyro.clear_param_store()\n",
        "\n",
        "      #setting the SVI attributes\n",
        "      adam_params = {'lr': 0.001}\n",
        "      optmizer = pyro.optim.Adam(adam_params)\n",
        "      elbo = pyro.infer.Trace_ELBO()\n",
        "      svi = pyro.infer.SVI(obsModel, guide, optmizer, elbo)\n",
        "\n",
        "      #training loop\n",
        "      losses = []\n",
        "      noise_samples = {latent:[] for latent in self.latents_names}\n",
        "      noise_samples['latent'] = {'mu':[], 'sigma': []}\n",
        "      noise_samples['img'] = {'low':[], 'high': []}\n",
        "\n",
        "      for i in range(n_steps):\n",
        "        losses.append(svi.step(self.init_noise))\n",
        "        #saving samples\n",
        "        for latent in self.latents_names:\n",
        "          noise_samples[latent].append(pyro.param('prob_'+latent))\n",
        "        noise_samples['latent']['mu'].append(pyro.param('mu_latent'))\n",
        "        noise_samples['latent']['sigma'].append(pyro.param('sigma_latent'))\n",
        "        noise_samples['img']['low'].append(pyro.param('low_img'))\n",
        "        noise_samples['img']['high'].append(pyro.param('high_img'))\n",
        "\n",
        "      #calculating means\n",
        "      mean_values = {latent:[] for latent in self.latents_names}\n",
        "      mean_values['latent'] = {'mu':[], 'sigma': []}\n",
        "      mean_values['img'] = {'low':[], 'high': []}\n",
        "      for latent in self.latents_names:\n",
        "        mean_values[latent] = torch.mean(torch.stack(noise_samples[latent]), dim = 0)\n",
        "      mean_values['latent']['mu'] = torch.mean(torch.stack(noise_samples['latent']['mu']), dim = 0)\n",
        "      mean_values['latent']['sigma'] = torch.mean(torch.stack(noise_samples['latent']['sigma']), dim = 0)\n",
        "      mean_values['img']['low'] = torch.mean(torch.stack(noise_samples['img']['low']), dim = 0)\n",
        "      mean_values['img']['high'] = torch.mean(torch.stack(noise_samples['img']['high']), dim = 0)\n",
        "\n",
        "    \n",
        "      updated_noise = {}\n",
        "      for latent in self.latents_names:\n",
        "        updated_noise[latent] = OneHotCategorical(mean_values[latent])\n",
        "      updated_noise['latent'] = Normal(mean_values['latent']['mu'], mean_values['latent']['sigma'])\n",
        "      updated_noise['img'] = Normal(mean_values['img']['low'], mean_values['img']['high'])\n",
        "\n",
        "      #counterfactual query with updated noise\n",
        "      intModel = pyro.do(model, data = {var_name : counter_var})\n",
        "      cf_posterior = pyro.infer.Importance(intModel, guide, n_steps).run(updated_noise)\n",
        "      cf_marginal = pyro.infer.EmpiricalMarginal(cf_posterior, sites = 'img')\n",
        "      plt.imshow(cf_marginal.mean.detach().numpy().reshape(64, 64), cmap = 'Greys')\n",
        "      plt.show()\n",
        "\n",
        "    def viz_model():\n",
        "      label, _, img = model()\n",
        "      label = label_from_dummy(label)\n",
        "      plt.imshow(img.detach().numpy().reshape(64, 64), cmap = 'Greys')\n",
        "      text = 'Color:0    Shape:'+str(int(label[1])) + '   Scale:' + str(int(label[2])) + '   Orien.:' + str(int(label[3])) + '   Pos.X:' + str(int(label[4])) + '   Pos.Y:' + str(int(label[5]))\n",
        "      plt.title(text)\n",
        "      plt.show()\n",
        "\n",
        "    self.model = model\n",
        "    self.guide = guide\n",
        "    self.viz_model = viz_model\n",
        "    self.condition = condition\n",
        "    self.counterfactual = counterfactual\n",
        "\n",
        "\n",
        "scm = SCM(vae)\n",
        "scm.viz_model()"
      ],
      "execution_count": 176,
      "outputs": [
        {
          "output_type": "display_data",
          "data": {
            "image/png": "[encoded data removed]",
            "text/plain": [
              "<Figure size 432x288 with 1 Axes>"
            ]
          },
          "metadata": {
            "tags": []
          }
        }
      ]
    },
    {
      "cell_type": "code",
      "metadata": {
        "id": "h7M2M087DwTr",
        "colab_type": "code",
        "colab": {
          "base_uri": "https://localhost:8080/",
          "height": 267
        },
        "outputId": "ec3819d9-9dad-4184-940b-ad44160f0840"
      },
      "source": [
        "scm.condition({'N_scale': torch.tensor([1.0, 0.0, 0.0, 0.0, 0.0, 0.0]), 'N_shape':torch.tensor([0.0, 0.0, 1.0])}, n_steps = 500)"
      ],
      "execution_count": 177,
      "outputs": [
        {
          "output_type": "display_data",
          "data": {
            "image/png": "[encoded data removed]",
            "text/plain": [
              "<Figure size 432x288 with 1 Axes>"
            ]
          },
          "metadata": {
            "tags": []
          }
        }
      ]
    },
    {
      "cell_type": "code",
      "metadata": {
        "id": "PDdIxHP5DjOY",
        "colab_type": "code",
        "colab": {
          "base_uri": "https://localhost:8080/",
          "height": 267
        },
        "outputId": "5cb13dc4-d5b7-4bbc-d4f9-79a0fa56ee57"
      },
      "source": [
        "scm.counterfactual('N_shape', torch.tensor([0.0, 1.0, 0.0]), torch.tensor([1.0, 0., 0.]))"
      ],
      "execution_count": 178,
      "outputs": [
        {
          "output_type": "display_data",
          "data": {
            "image/png": "[encoded data removed]",
            "text/plain": [
              "<Figure size 432x288 with 1 Axes>"
            ]
          },
          "metadata": {
            "tags": []
          }
        }
      ]
    }
  ]
}