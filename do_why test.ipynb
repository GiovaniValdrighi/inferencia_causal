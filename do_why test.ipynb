{
 "cells": [
  {
   "cell_type": "code",
   "execution_count": 1,
   "metadata": {},
   "outputs": [],
   "source": [
    "import os, sys\n",
    "sys.path.append(os.path.abspath(\"../../\"))"
   ]
  },
  {
   "cell_type": "code",
   "execution_count": 2,
   "metadata": {},
   "outputs": [],
   "source": [
    "import numpy as np\n",
    "import pandas as pd\n",
    "import matplotlib.pyplot as plt\n",
    "import seaborn as sns\n",
    "import math\n",
    "import dowhy\n",
    "from dowhy.causal_model import CausalModel\n",
    "import dowhy.datasets, dowhy.plotter"
   ]
  },
  {
   "cell_type": "code",
   "execution_count": 3,
   "metadata": {},
   "outputs": [],
   "source": [
    "from dowhy.causal_estimator import CausalEstimator"
   ]
  },
  {
   "cell_type": "markdown",
   "metadata": {},
   "source": [
    "Vou criar meu próprio Dataframe para verificar a utilização do doWhy.\n",
    "\n",
    "Vou utilizar o seguinte sistema:\n",
    "\n",
    "$X = N_{X}$\n",
    "\n",
    "$Y = 2\\cdot X + N_{Y}$\n",
    "\n",
    "$N_X, N_Y \\sim N(0,1)$"
   ]
  },
  {
   "cell_type": "code",
   "execution_count": 4,
   "metadata": {},
   "outputs": [],
   "source": [
    "Ex = np.random.normal(0, 1, 1000)\n",
    "Ey = np.random.normal(0, 1, 1000)\n",
    "X = Ex\n",
    "Y = 2*X + Ey\n",
    "teste_dict = {'teste_outcome':Y, 'teste_treatment':X}\n",
    "teste_df = pd.DataFrame(teste_dict)"
   ]
  },
  {
   "cell_type": "code",
   "execution_count": 5,
   "metadata": {},
   "outputs": [
    {
     "name": "stderr",
     "output_type": "stream",
     "text": [
      "ERROR:dowhy.causal_graph:Error: Pygraphviz cannot be loaded. No module named 'pygraphviz'\n",
      "Trying pydot ...\n",
      "INFO:dowhy.causal_model:Model to find the causal effect of treatment ['teste_treatment'] on outcome ['teste_outcome']\n",
      "WARNING:dowhy.causal_graph:Warning: Pygraphviz cannot be loaded. Check that graphviz and pygraphviz are installed.\n",
      "INFO:dowhy.causal_graph:Using Matplotlib for plotting\n",
      "INFO:dowhy.causal_identifier:Common causes of treatment and outcome:['U']\n",
      "WARNING:dowhy.causal_identifier:There are unobserved common causes. Causal effect cannot be identified.\n"
     ]
    },
    {
     "name": "stdout",
     "output_type": "stream",
     "text": [
      "WARN: Do you want to continue by ignoring these unobserved confounders? [y/n] y\n"
     ]
    },
    {
     "name": "stderr",
     "output_type": "stream",
     "text": [
      "INFO:dowhy.causal_identifier:Instrumental variables for treatment and outcome:[]\n"
     ]
    },
    {
     "name": "stdout",
     "output_type": "stream",
     "text": [
      "Estimand type: ate\n",
      "### Estimand : 1\n",
      "Estimand name: backdoor\n",
      "Estimand expression:\n",
      "       d                                   \n",
      "───────────────(Expectation(teste_outcome))\n",
      "dtesteₜᵣₑₐₜₘₑₙₜ                            \n",
      "Estimand assumption 1, Unconfoundedness: If U→teste_treatment and U→teste_outcome then P(teste_outcome|teste_treatment,,U) = P(teste_outcome|teste_treatment,)\n",
      "### Estimand : 2\n",
      "Estimand name: iv\n",
      "No such variable found!\n",
      "\n"
     ]
    },
    {
     "data": {
      "image/png": "[encoded data removed]",
      "text/plain": [
       "<Figure size 432x288 with 1 Axes>"
      ]
     },
     "metadata": {
      "needs_background": "light"
     },
     "output_type": "display_data"
    }
   ],
   "source": [
    "teste_model = CausalModel(data = teste_df, \n",
    "                          treatment = \"teste_treatment\", \n",
    "                          outcome = \"teste_outcome\", \n",
    "                          graph = \"digraph  {teste_treatment -> teste_outcome;}\")\n",
    "teste_model.view_model(layout=\"dot\")\n",
    "identified_estimand = teste_model.identify_effect()\n",
    "print(identified_estimand)"
   ]
  },
  {
   "cell_type": "code",
   "execution_count": 6,
   "metadata": {},
   "outputs": [
    {
     "name": "stderr",
     "output_type": "stream",
     "text": [
      "INFO:dowhy.causal_estimator:INFO: Using Linear Regression Estimator\n",
      "INFO:dowhy.causal_estimator:b: teste_outcome~teste_treatment\n"
     ]
    },
    {
     "name": "stdout",
     "output_type": "stream",
     "text": [
      "2.009766691344297\n"
     ]
    }
   ],
   "source": [
    "print(teste_model.estimate_effect(identified_estimand, method_name=\"backdoor.linear_regression\").value)"
   ]
  },
  {
   "cell_type": "markdown",
   "metadata": {},
   "source": [
    "Testando com um novo modelo:\n",
    "\n",
    "$X_{1} = N_{1}$\n",
    "\n",
    "$X_{2} = N_{2}$\n",
    "\n",
    "$Y = 3*X_{1} + 5*X_{2} + N_{3}$\n",
    "\n",
    "$N_1, N_2, N_3 \\sim N(0.2,1)$"
   ]
  },
  {
   "cell_type": "code",
   "execution_count": 7,
   "metadata": {},
   "outputs": [
    {
     "name": "stderr",
     "output_type": "stream",
     "text": [
      "ERROR:dowhy.causal_graph:Error: Pygraphviz cannot be loaded. No module named 'pygraphviz'\n",
      "Trying pydot ...\n",
      "INFO:dowhy.causal_model:Model to find the causal effect of treatment ['x_1'] on outcome ['outcome']\n",
      "WARNING:dowhy.causal_graph:Warning: Pygraphviz cannot be loaded. Check that graphviz and pygraphviz are installed.\n",
      "INFO:dowhy.causal_graph:Using Matplotlib for plotting\n"
     ]
    },
    {
     "data": {
      "image/png": "[encoded data removed]",
      "text/plain": [
       "<Figure size 432x288 with 1 Axes>"
      ]
     },
     "metadata": {
      "needs_background": "light"
     },
     "output_type": "display_data"
    }
   ],
   "source": [
    "N1 = np.random.normal(0.2, 1, 1000)\n",
    "N2 = np.random.normal(0.2, 1, 1000)\n",
    "N3 = np.random.normal(0.2, 1, 1000)\n",
    "X1 = N1\n",
    "X2 = N2\n",
    "Y = 7*X1 + 5*X2 + N3\n",
    "modelo2_dict = {'outcome': Y, 'x_1' : X1, 'x_2' : X2}\n",
    "modelo2_df = pd.DataFrame(modelo2_dict)\n",
    "dag = 'digraph { x_1 -> outcome; x_2 -> outcome;}'\n",
    "model2 = CausalModel(data = modelo2_df, outcome=\"outcome\", treatment=\"x_1\", graph=dag)\n",
    "model2.view_model(layout=\"dot\")"
   ]
  },
  {
   "cell_type": "code",
   "execution_count": 8,
   "metadata": {},
   "outputs": [
    {
     "name": "stderr",
     "output_type": "stream",
     "text": [
      "INFO:dowhy.causal_identifier:Common causes of treatment and outcome:['U']\n",
      "WARNING:dowhy.causal_identifier:There are unobserved common causes. Causal effect cannot be identified.\n"
     ]
    },
    {
     "name": "stdout",
     "output_type": "stream",
     "text": [
      "WARN: Do you want to continue by ignoring these unobserved confounders? [y/n] y\n"
     ]
    },
    {
     "name": "stderr",
     "output_type": "stream",
     "text": [
      "INFO:dowhy.causal_identifier:Instrumental variables for treatment and outcome:[]\n"
     ]
    },
    {
     "name": "stdout",
     "output_type": "stream",
     "text": [
      "Estimand type: ate\n",
      "### Estimand : 1\n",
      "Estimand name: backdoor\n",
      "Estimand expression:\n",
      " d                       \n",
      "───(Expectation(outcome))\n",
      "dx₁                      \n",
      "Estimand assumption 1, Unconfoundedness: If U→x_1 and U→outcome then P(outcome|x_1,,U) = P(outcome|x_1,)\n",
      "### Estimand : 2\n",
      "Estimand name: iv\n",
      "No such variable found!\n",
      "\n"
     ]
    }
   ],
   "source": [
    "identified_estimand = model2.identify_effect()\n",
    "print(identified_estimand)"
   ]
  },
  {
   "cell_type": "code",
   "execution_count": 9,
   "metadata": {},
   "outputs": [
    {
     "name": "stderr",
     "output_type": "stream",
     "text": [
      "INFO:dowhy.causal_estimator:INFO: Using Linear Regression Estimator\n",
      "INFO:dowhy.causal_estimator:b: outcome~x_1\n"
     ]
    },
    {
     "name": "stdout",
     "output_type": "stream",
     "text": [
      "6.781062881942491\n"
     ]
    }
   ],
   "source": [
    "print(model2.estimate_effect(identified_estimand, method_name=\"backdoor.linear_regression\").value)"
   ]
  },
  {
   "cell_type": "markdown",
   "metadata": {},
   "source": [
    "Testando um novo modelo:\n",
    "\n",
    "$Z = N_1$\n",
    "\n",
    "$X = 2*Z + N_2$\n",
    "\n",
    "$Y = X + Y + N_3$\n",
    "\n",
    "$N_1, N_2, N_3 \\sim N(0, 1)$"
   ]
  },
  {
   "cell_type": "code",
   "execution_count": 10,
   "metadata": {},
   "outputs": [
    {
     "name": "stderr",
     "output_type": "stream",
     "text": [
      "ERROR:dowhy.causal_graph:Error: Pygraphviz cannot be loaded. No module named 'pygraphviz'\n",
      "Trying pydot ...\n",
      "INFO:dowhy.causal_model:Model to find the causal effect of treatment ['treatment'] on outcome ['outcome']\n",
      "WARNING:dowhy.causal_graph:Warning: Pygraphviz cannot be loaded. Check that graphviz and pygraphviz are installed.\n",
      "INFO:dowhy.causal_graph:Using Matplotlib for plotting\n"
     ]
    },
    {
     "data": {
      "image/png": "[encoded data removed]",
      "text/plain": [
       "<Figure size 432x288 with 1 Axes>"
      ]
     },
     "metadata": {
      "needs_background": "light"
     },
     "output_type": "display_data"
    }
   ],
   "source": [
    "N1 = np.random.normal(0.2, 1, 1000)\n",
    "N2 = np.random.normal(0.2, 1, 1000)\n",
    "N3 = np.random.normal(0.2, 1, 1000)\n",
    "Z = N1\n",
    "X = 2*Z + N2\n",
    "Y = X + Z + N3\n",
    "modelo3_dict = {'outcome': Y, 'treatment' : X, 'cofounder' : Z}\n",
    "modelo3_df = pd.DataFrame(modelo3_dict)\n",
    "dag = 'digraph { cofounder -> treatment -> outcome; cofounder -> outcome}'\n",
    "model3 = CausalModel(data = modelo3_df, outcome=\"outcome\", treatment=\"treatment\", graph=dag)\n",
    "model3.view_model(layout=\"dot\")"
   ]
  },
  {
   "cell_type": "code",
   "execution_count": 11,
   "metadata": {},
   "outputs": [
    {
     "name": "stderr",
     "output_type": "stream",
     "text": [
      "INFO:dowhy.causal_identifier:Common causes of treatment and outcome:['U', 'cofounder']\n",
      "WARNING:dowhy.causal_identifier:There are unobserved common causes. Causal effect cannot be identified.\n"
     ]
    },
    {
     "name": "stdout",
     "output_type": "stream",
     "text": [
      "WARN: Do you want to continue by ignoring these unobserved confounders? [y/n] y\n"
     ]
    },
    {
     "name": "stderr",
     "output_type": "stream",
     "text": [
      "INFO:dowhy.causal_identifier:Instrumental variables for treatment and outcome:[]\n"
     ]
    },
    {
     "name": "stdout",
     "output_type": "stream",
     "text": [
      "Estimand type: ate\n",
      "### Estimand : 1\n",
      "Estimand name: backdoor\n",
      "Estimand expression:\n",
      "    d                                     \n",
      "──────────(Expectation(outcome|cofounder))\n",
      "dtreatment                                \n",
      "Estimand assumption 1, Unconfoundedness: If U→treatment and U→outcome then P(outcome|treatment,cofounder,U) = P(outcome|treatment,cofounder)\n",
      "### Estimand : 2\n",
      "Estimand name: iv\n",
      "No such variable found!\n",
      "\n"
     ]
    }
   ],
   "source": [
    "identified_estimand = model3.identify_effect()\n",
    "print(identified_estimand)"
   ]
  },
  {
   "cell_type": "code",
   "execution_count": 12,
   "metadata": {},
   "outputs": [
    {
     "name": "stderr",
     "output_type": "stream",
     "text": [
      "INFO:dowhy.causal_estimator:INFO: Using Linear Regression Estimator\n",
      "INFO:dowhy.causal_estimator:b: outcome~treatment+cofounder\n"
     ]
    },
    {
     "name": "stdout",
     "output_type": "stream",
     "text": [
      "1.0208325086803658\n"
     ]
    }
   ],
   "source": [
    "print(model3.estimate_effect(identified_estimand, method_name=\"backdoor.linear_regression\").value)"
   ]
  },
  {
   "cell_type": "markdown",
   "metadata": {},
   "source": [
    "Mais um teste:\n",
    "\n",
    "$A = N_1$ (Age)\n",
    "\n",
    "$S = N_2$ (Sex)\n",
    "\n",
    "$E = A + S*3 + N_3$ (Education)\n",
    "\n",
    "$R = E + N_4$ (Residence)\n",
    "\n",
    "$O = E*2 + N_5$ (Ocupation)\n",
    "\n",
    "$T = R + O + N_6$ (Travel)\n",
    "\n",
    "$N_1 \\sim N(30, 10)$\n",
    "\n",
    "$N_2 \\sim Be(0.5)$\n",
    "\n",
    "$N_3, N_4, N_5, N_6 \\sim N(0,1)$\n",
    "\n"
   ]
  },
  {
   "cell_type": "code",
   "execution_count": 13,
   "metadata": {},
   "outputs": [
    {
     "name": "stderr",
     "output_type": "stream",
     "text": [
      "ERROR:dowhy.causal_graph:Error: Pygraphviz cannot be loaded. No module named 'pygraphviz'\n",
      "Trying pydot ...\n",
      "INFO:dowhy.causal_model:Model to find the causal effect of treatment ['ocupation'] on outcome ['travel']\n",
      "WARNING:dowhy.causal_graph:Warning: Pygraphviz cannot be loaded. Check that graphviz and pygraphviz are installed.\n",
      "INFO:dowhy.causal_graph:Using Matplotlib for plotting\n"
     ]
    },
    {
     "data": {
      "image/png": "[encoded data removed]",
      "text/plain": [
       "<Figure size 432x288 with 1 Axes>"
      ]
     },
     "metadata": {
      "needs_background": "light"
     },
     "output_type": "display_data"
    }
   ],
   "source": [
    "N1 = np.random.normal(30, 10, 1000)\n",
    "N2 = np.random.binomial(1, 0.5, 1000)\n",
    "N3 = np.random.normal(0, 1, 1000)\n",
    "N4 = np.random.normal(0, 1, 1000)\n",
    "N5 = np.random.normal(0, 1, 1000)\n",
    "N6 = np.random.normal(0, 1, 1000)\n",
    "A = N1\n",
    "S = N2\n",
    "E = A + 3*S + N3\n",
    "R = E + N4\n",
    "O = E*2 + N5\n",
    "T = R + 3*O + N6\n",
    "modelo4_dict = {'age': A, 'sex' : S, 'education' : E, 'residence': R, 'ocupation': O, 'travel': T}\n",
    "modelo4_df = pd.DataFrame(modelo4_dict)\n",
    "dag = 'digraph { age -> education -> residence -> travel; sex -> education -> ocupation -> travel;}'\n",
    "model4 = CausalModel(data = modelo4_df, outcome=\"travel\", treatment=\"ocupation\", graph=dag)\n",
    "model4.view_model(layout=\"dot\")"
   ]
  },
  {
   "cell_type": "code",
   "execution_count": 14,
   "metadata": {},
   "outputs": [
    {
     "name": "stderr",
     "output_type": "stream",
     "text": [
      "INFO:dowhy.causal_identifier:Common causes of treatment and outcome:['sex', 'U', 'age', 'education']\n",
      "WARNING:dowhy.causal_identifier:There are unobserved common causes. Causal effect cannot be identified.\n"
     ]
    },
    {
     "name": "stdout",
     "output_type": "stream",
     "text": [
      "WARN: Do you want to continue by ignoring these unobserved confounders? [y/n] y\n"
     ]
    },
    {
     "name": "stderr",
     "output_type": "stream",
     "text": [
      "INFO:dowhy.causal_identifier:Instrumental variables for treatment and outcome:[]\n"
     ]
    },
    {
     "name": "stdout",
     "output_type": "stream",
     "text": [
      "Estimand type: ate\n",
      "### Estimand : 1\n",
      "Estimand name: backdoor\n",
      "Estimand expression:\n",
      "    d                                            \n",
      "──────────(Expectation(travel|sex,age,education))\n",
      "docupation                                       \n",
      "Estimand assumption 1, Unconfoundedness: If U→ocupation and U→travel then P(travel|ocupation,sex,age,education,U) = P(travel|ocupation,sex,age,education)\n",
      "### Estimand : 2\n",
      "Estimand name: iv\n",
      "No such variable found!\n",
      "\n"
     ]
    }
   ],
   "source": [
    "identified_estimand = model4.identify_effect()\n",
    "print(identified_estimand)"
   ]
  },
  {
   "cell_type": "code",
   "execution_count": 15,
   "metadata": {},
   "outputs": [
    {
     "name": "stderr",
     "output_type": "stream",
     "text": [
      "INFO:dowhy.causal_estimator:INFO: Using Linear Regression Estimator\n",
      "INFO:dowhy.causal_estimator:b: travel~ocupation+sex+age+education\n"
     ]
    },
    {
     "name": "stdout",
     "output_type": "stream",
     "text": [
      "2.9456924735390886\n"
     ]
    }
   ],
   "source": [
    "print(model4.estimate_effect(identified_estimand, method_name=\"backdoor.linear_regression\").value)"
   ]
  },
  {
   "cell_type": "code",
   "execution_count": 16,
   "metadata": {},
   "outputs": [
    {
     "name": "stdout",
     "output_type": "stream",
     "text": [
      "Param O:  2.9716655339579447\n"
     ]
    }
   ],
   "source": [
    "from sklearn.linear_model import LinearRegression\n",
    "lm = LinearRegression()\n",
    "lm.fit(modelo4_df.drop(['travel'], axis = 1), modelo4_df.travel)\n",
    "print('Param O: ',lm.coef_[-1])"
   ]
  },
  {
   "cell_type": "markdown",
   "metadata": {},
   "source": [
    "Os coeficientes do método de regressão linear simples e o método do pacote DoWhy foram praticamente os mesmos. \n",
    "Vou passar o mesmo modelo porém usando um DAG errado, vamos ver o que ocorre."
   ]
  },
  {
   "cell_type": "code",
   "execution_count": 17,
   "metadata": {},
   "outputs": [
    {
     "name": "stderr",
     "output_type": "stream",
     "text": [
      "ERROR:dowhy.causal_graph:Error: Pygraphviz cannot be loaded. No module named 'pygraphviz'\n",
      "Trying pydot ...\n",
      "INFO:dowhy.causal_model:Model to find the causal effect of treatment ['ocupation'] on outcome ['travel']\n",
      "WARNING:dowhy.causal_graph:Warning: Pygraphviz cannot be loaded. Check that graphviz and pygraphviz are installed.\n",
      "INFO:dowhy.causal_graph:Using Matplotlib for plotting\n"
     ]
    },
    {
     "data": {
      "image/png": "[encoded data removed]",
      "text/plain": [
       "<Figure size 432x288 with 1 Axes>"
      ]
     },
     "metadata": {
      "needs_background": "light"
     },
     "output_type": "display_data"
    }
   ],
   "source": [
    "dag = 'digraph { age -> education -> ocupation -> travel; sex -> education -> residence; travel -> residence}'\n",
    "model4_err = CausalModel(data = modelo4_df, outcome=\"travel\", treatment=\"ocupation\", graph=dag)\n",
    "model4_err.view_model(layout=\"dot\")"
   ]
  },
  {
   "cell_type": "code",
   "execution_count": 18,
   "metadata": {},
   "outputs": [
    {
     "name": "stderr",
     "output_type": "stream",
     "text": [
      "INFO:dowhy.causal_identifier:Common causes of treatment and outcome:['U']\n",
      "WARNING:dowhy.causal_identifier:There are unobserved common causes. Causal effect cannot be identified.\n"
     ]
    },
    {
     "name": "stdout",
     "output_type": "stream",
     "text": [
      "WARN: Do you want to continue by ignoring these unobserved confounders? [y/n] y\n"
     ]
    },
    {
     "name": "stderr",
     "output_type": "stream",
     "text": [
      "INFO:dowhy.causal_identifier:Instrumental variables for treatment and outcome:['education']\n"
     ]
    },
    {
     "name": "stdout",
     "output_type": "stream",
     "text": [
      "Estimand type: ate\n",
      "### Estimand : 1\n",
      "Estimand name: backdoor\n",
      "Estimand expression:\n",
      "    d                          \n",
      "──────────(Expectation(travel))\n",
      "docupation                     \n",
      "Estimand assumption 1, Unconfoundedness: If U→ocupation and U→travel then P(travel|ocupation,,U) = P(travel|ocupation,)\n",
      "### Estimand : 2\n",
      "Estimand name: iv\n",
      "Estimand expression:\n",
      "Expectation(Derivative(travel, education)/Derivative(ocupation, education))\n",
      "Estimand assumption 1, As-if-random: If U→→travel then ¬(U →→education)\n",
      "Estimand assumption 2, Exclusion: If we remove {education}→ocupation, then ¬(education→travel)\n",
      "\n"
     ]
    }
   ],
   "source": [
    "identified_estimand = model4_err.identify_effect()\n",
    "print(identified_estimand)"
   ]
  },
  {
   "cell_type": "code",
   "execution_count": 19,
   "metadata": {},
   "outputs": [
    {
     "name": "stderr",
     "output_type": "stream",
     "text": [
      "INFO:dowhy.causal_estimator:INFO: Using Linear Regression Estimator\n",
      "INFO:dowhy.causal_estimator:b: travel~ocupation\n"
     ]
    },
    {
     "data": {
      "image/png": "[encoded data removed]",
      "text/latex": [
       "$$3.5005043083330363$$"
      ],
      "text/plain": [
       "3.5005043083330363"
      ]
     },
     "execution_count": 19,
     "metadata": {},
     "output_type": "execute_result"
    }
   ],
   "source": [
    "estimate = model4_err.estimate_effect(identified_estimand,\n",
    "        method_name=\"backdoor.linear_regression\")\n",
    "estimate.value"
   ]
  },
  {
   "cell_type": "code",
   "execution_count": 20,
   "metadata": {},
   "outputs": [
    {
     "name": "stderr",
     "output_type": "stream",
     "text": [
      "INFO:dowhy.causal_estimator:INFO: Using Linear Regression Estimator\n",
      "INFO:dowhy.causal_estimator:b: travel~ocupation+w_random\n"
     ]
    },
    {
     "name": "stdout",
     "output_type": "stream",
     "text": [
      "Refute: Add a Random Common Cause\n",
      "Estimated effect:(3.5005043083330363,)\n",
      "New effect:(3.500412347299294,)\n",
      "\n"
     ]
    }
   ],
   "source": [
    "res_random=model4_err.refute_estimate(identified_estimand, estimate, method_name=\"random_common_cause\")\n",
    "print(res_random)"
   ]
  },
  {
   "cell_type": "code",
   "execution_count": 21,
   "metadata": {},
   "outputs": [
    {
     "name": "stderr",
     "output_type": "stream",
     "text": [
      "INFO:dowhy.causal_estimator:INFO: Using Linear Regression Estimator\n",
      "INFO:dowhy.causal_estimator:b: travel~placebo\n"
     ]
    },
    {
     "name": "stdout",
     "output_type": "stream",
     "text": [
      "Refute: Use a Placebo Treatment\n",
      "Estimated effect:(3.5005043083330363,)\n",
      "New effect:(0.005995038265118676,)\n",
      "\n"
     ]
    }
   ],
   "source": [
    "res_placebo=model4_err.refute_estimate(identified_estimand, estimate,\n",
    "        method_name=\"placebo_treatment_refuter\", placebo_type=\"permute\")\n",
    "print(res_placebo)"
   ]
  },
  {
   "cell_type": "code",
   "execution_count": 22,
   "metadata": {},
   "outputs": [
    {
     "name": "stderr",
     "output_type": "stream",
     "text": [
      "INFO:dowhy.causal_estimator:INFO: Using Linear Regression Estimator\n",
      "INFO:dowhy.causal_estimator:b: travel~ocupation\n"
     ]
    },
    {
     "name": "stdout",
     "output_type": "stream",
     "text": [
      "Refute: Use a subset of data\n",
      "Estimated effect:(3.5005043083330363,)\n",
      "New effect:(3.500417986545421,)\n",
      "\n"
     ]
    }
   ],
   "source": [
    "res_subset=model4_err.refute_estimate(identified_estimand, estimate,\n",
    "        method_name=\"data_subset_refuter\", subset_fraction=0.9)\n",
    "print(res_subset)"
   ]
  },
  {
   "cell_type": "code",
   "execution_count": 23,
   "metadata": {},
   "outputs": [
    {
     "name": "stdout",
     "output_type": "stream",
     "text": [
      "Help on class CausalModel in module dowhy.causal_model:\n",
      "\n",
      "class CausalModel(builtins.object)\n",
      " |  CausalModel(data, treatment, outcome, graph=None, common_causes=None, instruments=None, estimand_type='ate', proceed_when_unidentifiable=False, **kwargs)\n",
      " |  \n",
      " |  Main class for storing the causal model state.\n",
      " |  \n",
      " |  Methods defined here:\n",
      " |  \n",
      " |  __init__(self, data, treatment, outcome, graph=None, common_causes=None, instruments=None, estimand_type='ate', proceed_when_unidentifiable=False, **kwargs)\n",
      " |      Initialize data and create a causal graph instance.\n",
      " |      \n",
      " |      Assigns treatment and outcome variables.\n",
      " |      Also checks and finds the common causes and instruments for treatment\n",
      " |      and outcome.\n",
      " |      \n",
      " |      At least one of graph, common_causes or instruments must be provided.\n",
      " |      \n",
      " |      :param data: a pandas dataframe containing treatment, outcome and other\n",
      " |      variables.\n",
      " |      :param treatment: name of the treatment variable\n",
      " |      :param outcome: name of the outcome variable\n",
      " |      :param graph: path to DOT file containing a DAG or a string containing\n",
      " |      a DAG specification in DOT format\n",
      " |      :param common_causes: names of common causes of treatment and _outcome\n",
      " |      :param instruments: names of instrumental variables for the effect of\n",
      " |      treatment on outcome\n",
      " |      :returns: an instance of CausalModel class\n",
      " |  \n",
      " |  do(self, x, identified_estimand, method_name=None, method_params=None)\n",
      " |      Estimate the identified causal effect.\n",
      " |      \n",
      " |      If method_name is provided, uses the provided method. Else, finds a\n",
      " |      suitable method to be used.\n",
      " |      \n",
      " |      :param identified_estimand: a probability expression\n",
      " |          that represents the effect to be estimated. Output of\n",
      " |          CausalModel.identify_effect method\n",
      " |      :param method_name: (optional) name of the estimation method to be used.\n",
      " |      :returns: an instance of the CausalEstimate class, containing the causal effect estimate\n",
      " |          and other method-dependent information\n",
      " |  \n",
      " |  estimate_effect(self, identified_estimand, method_name=None, test_significance=None, method_params=None)\n",
      " |      Estimate the identified causal effect.\n",
      " |      \n",
      " |      If method_name is provided, uses the provided method. Else, finds a\n",
      " |      suitable method to be used.\n",
      " |      \n",
      " |      :param identified_estimand: a probability expression\n",
      " |          that represents the effect to be estimated. Output of\n",
      " |          CausalModel.identify_effect method\n",
      " |      :param method_name: (optional) name of the estimation method to be used.\n",
      " |      :returns: an instance of the CausalEstimate class, containing the causal effect estimate\n",
      " |          and other method-dependent information\n",
      " |  \n",
      " |  identify_effect(self, proceed_when_unidentifiable=None)\n",
      " |      Identify the causal effect to be estimated, using properties of the causal graph.\n",
      " |      \n",
      " |      :returns: a probability expression for the causal effect if identified, else NULL\n",
      " |  \n",
      " |  refute_estimate(self, estimand, estimate, method_name=None, **kwargs)\n",
      " |      Refute an estimated causal effect.\n",
      " |      \n",
      " |      If method_name is provided, uses the provided method. Else, finds a\n",
      " |      suitable method to use.\n",
      " |      \n",
      " |      :param estimate: an instance of the CausalEstimate class.\n",
      " |      :returns: an instance of the RefuteResult class\n",
      " |  \n",
      " |  summary(self)\n",
      " |      Print a text summary of the model.\n",
      " |      \n",
      " |      :returns: None\n",
      " |  \n",
      " |  view_model(self, layout='dot')\n",
      " |      View the causal DAG.\n",
      " |      \n",
      " |      :returns: a visualization of the graph\n",
      " |  \n",
      " |  ----------------------------------------------------------------------\n",
      " |  Data descriptors defined here:\n",
      " |  \n",
      " |  __dict__\n",
      " |      dictionary for instance variables (if defined)\n",
      " |  \n",
      " |  __weakref__\n",
      " |      list of weak references to the object (if defined)\n",
      "\n"
     ]
    }
   ],
   "source": [
    "help(CausalModel)"
   ]
  },
  {
   "cell_type": "code",
   "execution_count": null,
   "metadata": {},
   "outputs": [],
   "source": []
  }
 ],
 "metadata": {
  "kernelspec": {
   "display_name": "Python 3",
   "language": "python",
   "name": "python3"
  },
  "language_info": {
   "codemirror_mode": {
    "name": "ipython",
    "version": 3
   },
   "file_extension": ".py",
   "mimetype": "text/x-python",
   "name": "python",
   "nbconvert_exporter": "python",
   "pygments_lexer": "ipython3",
   "version": "3.7.3"
  }
 },
 "nbformat": 4,
 "nbformat_minor": 2
}
